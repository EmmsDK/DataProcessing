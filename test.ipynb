{
 "cells": [
  {
   "cell_type": "code",
   "execution_count": 114,
   "id": "d2d23803",
   "metadata": {},
   "outputs": [],
   "source": [
    "import os\n",
    "import pandas as pd\n",
    "import json\n",
    "import pprint\n",
    "import re\n",
    "import nbformat"
   ]
  },
  {
   "cell_type": "code",
   "execution_count": 115,
   "id": "38ca6a7a",
   "metadata": {},
   "outputs": [
    {
     "name": "stdout",
     "output_type": "stream",
     "text": [
      "GitHub\\DataProcessing\n"
     ]
    }
   ],
   "source": [
    "# Define the path\n",
    "path = os.path.join(\"GitHub\", \"DataProcessing\")\n",
    "\n",
    "# Print the path\n",
    "print(path)\n"
   ]
  },
  {
   "cell_type": "code",
   "execution_count": 116,
   "id": "8d4c6032",
   "metadata": {},
   "outputs": [
    {
     "data": {
      "text/plain": [
       "'C:\\\\Users\\\\HP4\\\\Documents\\\\GitHub\\\\DataProcessing'"
      ]
     },
     "execution_count": 116,
     "metadata": {},
     "output_type": "execute_result"
    }
   ],
   "source": [
    "pwd"
   ]
  },
  {
   "cell_type": "code",
   "execution_count": 117,
   "id": "9eb71c65",
   "metadata": {},
   "outputs": [],
   "source": [
    "td = pd.read_json(\"..\\DataProcessing\\TestData\\message.json\", orient='index')"
   ]
  },
  {
   "cell_type": "code",
   "execution_count": 118,
   "id": "2c732000",
   "metadata": {},
   "outputs": [],
   "source": [
    "# Read the JSON file\n",
    "with open(\"../DataProcessing/TestData/message.json\", \"r\") as file:\n",
    "    data = json.load(file)"
   ]
  },
  {
   "cell_type": "code",
   "execution_count": 119,
   "id": "d4e486fc",
   "metadata": {},
   "outputs": [],
   "source": [
    "# Access the 'participants' array within 'metadata'\n",
    "participants_data = data['metadata']['participants']"
   ]
  },
  {
   "cell_type": "code",
   "execution_count": 120,
   "id": "931f6b66",
   "metadata": {},
   "outputs": [
    {
     "data": {
      "text/plain": [
       "['NLZhdGCfh-EgdvaODKW2IlCFzJBMtE4Dr9SFgKNpE1UC6GDNH2u2TQmGZoqSLXcVjo-erCaRQVV0cQ',\n",
       " 'vfktkyVovXtnWWgFEDKxdtfJFVHSV3tAJeoT_UjbZB8TlE8tyVYLyC23nudviaAwk0c6AkFGGTYJhQ',\n",
       " 'O9jmQXkdmuplQq2s4YGCd-x2VnJetyQ7ssrBczKK-xwT0PYaVpMyOWIHX_iIIznvHmk0M5_uE_CRzw',\n",
       " 'HHVQBTfTWCQzCredc0AtS4BotTQqhQhK_7T4241WyfhlVNI1Oy7SHDjpPOg4T0KOuHu7eIS8gsRXsA',\n",
       " '-e-lfG5zpkNcr96I_Q_5ZdDefVsot-QfGnTH2QSHv-cMyP1_u8NUf-hImv_nQKwCUIq05DF8yFAIEw',\n",
       " 'tTu5MniQjpI3G_eEm31jSm8ZhwCYJjRUQgQu0ynIs05DxKEkiRMdpOBq_3axazOPR4eP-M_gYcsHxg',\n",
       " '8s-H0x0EL9H84mDtglkoIYtyxASxccITkQaICj8RKUore3nABvXCZg_apnRSXMwLJYd2nCDUkJVk_A',\n",
       " 'JBQKhP0EHYxtzSCrglHYSWq8of63qVowOOQ9NyMm6Rfv_Ups7-qrn11AgSY9-RoKro32bTDMsAqF3A',\n",
       " 'y_0f-NLP6I974-LIJDU7WDu4qdHkqjVDaOUODjo6U85Jc50Z31pyAxvqKbfd4ceS5GCVWT-h8O8-0Q',\n",
       " 'bztkNWyCR__do5ACtWbe4vhBdR1eXLFwxDdql2Y9kfT26TbuiNLgxNhLwTpoJWToU5UK-FCXFGTBWA']"
      ]
     },
     "execution_count": 120,
     "metadata": {},
     "output_type": "execute_result"
    }
   ],
   "source": [
    "# Process the participants list\n",
    "participants_list = participants_data  # No need to modify or split if participants_data is already a list\n",
    "participants_list"
   ]
  },
  {
   "cell_type": "code",
   "execution_count": null,
   "id": "ae6a7416",
   "metadata": {},
   "outputs": [],
   "source": []
  },
  {
   "cell_type": "code",
   "execution_count": 122,
   "id": "6ff008dc",
   "metadata": {
    "scrolled": true
   },
   "outputs": [
    {
     "name": "stdout",
     "output_type": "stream",
     "text": [
      "Timestamp 2649139 is out of range. Total frames available: 33.\n"
     ]
    }
   ],
   "source": [
    "participant_id = \"1\" \n",
    "#minuteAtTimestamp = 0\n",
    "#minuteAtTimestamp = 60001\n",
    "#minuteAtTimestamp = 120001\n",
    "#minuteAtTimestamp = 180012\n",
    "#minuteAtTimestamp = 240035\n",
    "#minuteAtTimestamp = 300062\n",
    "#minuteAtTimestamp = 360091\n",
    "#minuteAtTimestamp = 420107\n",
    "#minuteAtTimestamp = 480111\n",
    "#minuteAtTimestamp = 540111\n",
    "#minuteAtTimestamp = 600131\n",
    "#minuteAtTimestamp = 660132\n",
    "#minuteAtTimestamp = 720156\n",
    "#minuteAtTimestamp = 780200\n",
    "#minuteAtTimestamp = 840218\n",
    "#minuteAtTimestamp = 900236\n",
    "#minuteAtTimestamp = 960261\n",
    "#minuteAtTimestamp = 1020280\n",
    "#minuteAtTimestamp = 1080284\n",
    "#minuteAtTimestamp = 1140288\n",
    "#minuteAtTimestamp = 1200312\n",
    "#minuteAtTimestamp = 1260326\n",
    "#minuteAtTimestamp = 1320346\n",
    "#minuteAtTimestamp = 1380354\n",
    "#minuteAtTimestamp = 1440358\n",
    "#minuteAtTimestamp = 1500370\n",
    "#minuteAtTimestamp = 1560394\n",
    "#minuteAtTimestamp = 1620427\n",
    "#minuteAtTimestamp = 1680455\n",
    "#minuteAtTimestamp = 1740483\n",
    "#minuteAtTimestamp = 1800490\n",
    "#minuteAtTimestamp = 1860519\n",
    "#minuteAtTimestamp = 1920545\n",
    "#minuteAtTimestamp = 1980561\n",
    "#minuteAtTimestamp = 2040577\n",
    "#minuteAtTimestamp = 2100607\n",
    "#minuteAtTimestamp = 2160637\n",
    "#minuteAtTimestamp = 2220655\n",
    "#minuteAtTimestamp = 2280665\n",
    "#minuteAtTimestamp = 2340698\n",
    "#minuteAtTimestamp = 2400717\n",
    "#minuteAtTimestamp = 2460739\n",
    "#minuteAtTimestamp = 2520751\n",
    "#minuteAtTimestamp = 2580783\n",
    "#minuteAtTimestamp = 2640788\n",
    "#minuteAtTimestamp = 2649139\n",
    "\n",
    "#participant_frame = data['info']['frames'][Timestamp]['participantFrames'][participant_id]\n",
    "        \n",
    "#pprint.pprint(participant_frame)\n",
    "\n",
    "\n",
    "frames = data['info']['frames']\n",
    "total_frames = len(frames)\n",
    "\n",
    "# Replace Timestamp with the actual timestamp you want to use\n",
    "\n",
    "if 0 <= minuteAtTimestamp < total_frames:\n",
    "    participant_frame = frames[minuteAtTimestamp]['participantFrames'].get(participant_id)\n",
    "    \n",
    "    if participant_frame:\n",
    "        pprint.pprint(participant_frame)\n",
    "    else:\n",
    "        print(f\"Participant {participant_id} not found at timestamp {minuteAtTimestamp}.\")\n",
    "else:\n",
    "    print(f\"Timestamp {minuteAtTimestamp} is out of range. Total frames available: {total_frames}.\")"
   ]
  },
  {
   "cell_type": "code",
   "execution_count": null,
   "id": "88187b3f",
   "metadata": {},
   "outputs": [],
   "source": []
  },
  {
   "cell_type": "code",
   "execution_count": 138,
   "id": "9ab47bb7",
   "metadata": {},
   "outputs": [
    {
     "name": "stdout",
     "output_type": "stream",
     "text": [
      "1 Timestamp = 0\n",
      "2 Timestamp = 60016\n",
      "3 Timestamp = 120021\n",
      "4 Timestamp = 180035\n",
      "5 Timestamp = 240035\n",
      "6 Timestamp = 300066\n",
      "7 Timestamp = 360069\n",
      "8 Timestamp = 420084\n",
      "9 Timestamp = 480090\n",
      "10 Timestamp = 540109\n",
      "11 Timestamp = 600126\n",
      "12 Timestamp = 660130\n",
      "13 Timestamp = 720141\n",
      "14 Timestamp = 780169\n",
      "15 Timestamp = 840170\n",
      "16 Timestamp = 900173\n",
      "17 Timestamp = 960186\n",
      "18 Timestamp = 1020272\n",
      "19 Timestamp = 1080286\n",
      "20 Timestamp = 1140318\n",
      "21 Timestamp = 1200328\n",
      "22 Timestamp = 1260354\n",
      "23 Timestamp = 1320366\n",
      "24 Timestamp = 1380386\n",
      "25 Timestamp = 1440411\n",
      "26 Timestamp = 1500414\n",
      "27 Timestamp = 1560433\n",
      "28 Timestamp = 1620447\n",
      "29 Timestamp = 1680454\n",
      "30 Timestamp = 1740480\n",
      "31 Timestamp = 1800496\n",
      "32 Timestamp = 1860523\n",
      "33 Timestamp = 1892560\n"
     ]
    }
   ],
   "source": [
    "for counter, frame in enumerate(data['info']['frames']):\n",
    "    timestamp = frame['timestamp']\n",
    "    print(f\"{counter + 1} Timestamp = {timestamp}\")"
   ]
  },
  {
   "cell_type": "code",
   "execution_count": 137,
   "id": "4758beff",
   "metadata": {},
   "outputs": [
    {
     "name": "stdout",
     "output_type": "stream",
     "text": [
      "Timestamp at minute 32: 1892560\n",
      "championStats:\n",
      "abilityPower: 336\n",
      "armor: 184\n",
      "attackDamage: 190\n",
      "attackSpeed: 295\n",
      "ccReduction: 53\n",
      "health: 2864\n",
      "healthMax: 3818\n",
      "healthRegen: 43\n",
      "magicResist: 154\n",
      "movementSpeed: 421\n",
      "power: 1120\n",
      "powerMax: 1540\n",
      "powerRegen: 29\n",
      "currentGold: 1332\n",
      "damageStats:\n",
      "magicDamageDone: 165667\n",
      "magicDamageDoneToChampions: 27548\n",
      "magicDamageTaken: 9941\n",
      "physicalDamageDone: 72868\n",
      "physicalDamageDoneToChampions: 16907\n",
      "physicalDamageTaken: 29598\n",
      "totalDamageDone: 248821\n",
      "totalDamageDoneToChampions: 45042\n",
      "totalDamageTaken: 40435\n",
      "trueDamageDone: 10285\n",
      "trueDamageDoneToChampions: 586\n",
      "trueDamageTaken: 895\n",
      "jungleMinionsKilled: 4\n",
      "level: 18\n",
      "minionsKilled: 226\n",
      "participantId: 1\n",
      "position:\n",
      "x: 12782\n",
      "y: 12968\n",
      "timeEnemySpentControlled: 196397\n",
      "totalGold: 18726\n",
      "xp: 20813\n",
      "\n",
      "---\n",
      "\n"
     ]
    }
   ],
   "source": [
    "def get_participant_data_at_minute(data, participant_id, target_minute, display_nozero=False):\n",
    "    timestamp_data = []\n",
    "\n",
    "    def display_nonzero_params(participant_frame):\n",
    "        # Iterate through the participant frame's items\n",
    "        for key, value in participant_frame.items():\n",
    "            if isinstance(value, dict):\n",
    "                print(f\"{key}:\")\n",
    "                # If the value is a nested dictionary, iterate through its items\n",
    "                display_nonzero_params(value)\n",
    "            elif isinstance(value, (int, float)) and (not display_nozero or value != 0):\n",
    "                # Display the parameter if it's a numeric value and not zero\n",
    "                print(f\"{key}: {value}\")\n",
    "\n",
    "    # Check if there are frames in the data\n",
    "    if 'info' in data and 'frames' in data['info']:\n",
    "        for frame in data['info']['frames']:\n",
    "            timestamp = frame['timestamp']\n",
    "            current_minute = round(timestamp / 60000)  # Convert milliseconds to minutes and round to the nearest minute\n",
    "\n",
    "            if current_minute == target_minute:\n",
    "                participant_frames = frame.get('participantFrames', {})\n",
    "                if participant_id in participant_frames:\n",
    "                    participant_data = participant_frames[participant_id]\n",
    "                    timestamp_data.append([timestamp, participant_data])\n",
    "\n",
    "                    # Display nonzero parameters if specified\n",
    "                    if display_nozero:\n",
    "                        print(f\"Timestamp at minute {target_minute}: {timestamp}\")\n",
    "                        display_nonzero_params(participant_data)\n",
    "                        print(\"\\n---\\n\")\n",
    "\n",
    "    return timestamp_data\n",
    "\n",
    "desired_participant_id = \"1\"\n",
    "desired_minute = 32 \n",
    "\n",
    "# Call the function with display_nozero set to True\n",
    "result = get_participant_data_at_minute(data, desired_participant_id, desired_minute, display_nozero=True)\n"
   ]
  },
  {
   "cell_type": "code",
   "execution_count": null,
   "id": "6f0fa6b8",
   "metadata": {},
   "outputs": [],
   "source": []
  },
  {
   "cell_type": "code",
   "execution_count": null,
   "id": "e4c14bad",
   "metadata": {},
   "outputs": [],
   "source": []
  }
 ],
 "metadata": {
  "kernelspec": {
   "display_name": "Python 3 (ipykernel)",
   "language": "python",
   "name": "python3"
  },
  "language_info": {
   "codemirror_mode": {
    "name": "ipython",
    "version": 3
   },
   "file_extension": ".py",
   "mimetype": "text/x-python",
   "name": "python",
   "nbconvert_exporter": "python",
   "pygments_lexer": "ipython3",
   "version": "3.11.5"
  }
 },
 "nbformat": 4,
 "nbformat_minor": 5
}
