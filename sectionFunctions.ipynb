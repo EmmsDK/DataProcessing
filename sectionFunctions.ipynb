{
 "cells": [
  {
   "cell_type": "code",
   "execution_count": 6,
   "id": "3a9a7192",
   "metadata": {},
   "outputs": [
    {
     "name": "stdout",
     "output_type": "stream",
     "text": [
      "safe\n",
      "danger\n",
      "danger\n",
      "danger\n"
     ]
    }
   ],
   "source": [
    "#ALL TURRETS UP\n",
    "def blueCase1(x,y):\n",
    "    if y<-x+15000 and x<11400:\n",
    "        print(\"safe\")\n",
    "    else:\n",
    "        print(\"danger\")\n",
    "        \n",
    "coordinate_set1 = (7000, 7000) #safe\n",
    "coordinate_set2 = (8000, 8000) #danger\n",
    "coordinate_set3 = (7000, 8000) #danger\n",
    "coordinate_set4 = (12000, 1000)#danger\n",
    "\n",
    "blueCase1(*coordinate_set1)\n",
    "blueCase1(*coordinate_set2)\n",
    "blueCase1(*coordinate_set3)\n",
    "blueCase1(*coordinate_set4)"
   ]
  },
  {
   "cell_type": "code",
   "execution_count": 7,
   "id": "5de38977",
   "metadata": {},
   "outputs": [
    {
     "name": "stdout",
     "output_type": "stream",
     "text": [
      "safe\n",
      "danger\n",
      "safe\n",
      "safe\n"
     ]
    }
   ],
   "source": [
    "#ALL TURRETS UP\n",
    "def redCase1(x,y):\n",
    "    if y>-x+15000 and y>3000:\n",
    "        print(\"safe\")\n",
    "    else:\n",
    "        print(\"danger\")\n",
    "        \n",
    "coordinate_set1 = (14000, 4000)\n",
    "coordinate_set2 = (14000, 2000)\n",
    "coordinate_set3 = (8000, 8000)\n",
    "coordinate_set4 = (4000, 12000)\n",
    "redCase1(*coordinate_set1) #safe\n",
    "redCase1(*coordinate_set2) #danger\n",
    "redCase1(*coordinate_set3) #safe\n",
    "redCase1(*coordinate_set4) #safe"
   ]
  },
  {
   "cell_type": "code",
   "execution_count": 8,
   "id": "31e858fd",
   "metadata": {},
   "outputs": [
    {
     "name": "stdout",
     "output_type": "stream",
     "text": [
      "safe\n",
      "danger\n"
     ]
    }
   ],
   "source": [
    "# TOP_LANE, MID_LANE, BOT_LANE\n",
    "# OUTER_TURRET, INNER_TURRET\n",
    "def blueCase2(x,y):\n",
    "    if y<5200 and x<5200:\n",
    "        print(\"safe\")\n",
    "    else:\n",
    "        print(\"danger\")\n",
    "\n",
    "        \n",
    "coordinate_set1 = (5000, 5000)\n",
    "coordinate_set2 = (6000, 6000)\n",
    "blueCase2(*coordinate_set1) #safe\n",
    "blueCase2(*coordinate_set2) #danger"
   ]
  },
  {
   "cell_type": "code",
   "execution_count": 9,
   "id": "5147a666",
   "metadata": {},
   "outputs": [
    {
     "name": "stdout",
     "output_type": "stream",
     "text": [
      "safe\n",
      "danger\n"
     ]
    }
   ],
   "source": [
    "# TOP_LANE, MID_LANE, BOT_LANE\n",
    "# OUTER_TURRET, INNER_TURRET\n",
    "def redCase2(x,y):\n",
    "    if y>9800 and x>9800:\n",
    "        print(\"safe\")\n",
    "    else:\n",
    "        print(\"danger\")\n",
    "\n",
    "        \n",
    "coordinate_set1 = (10000, 10000)\n",
    "coordinate_set2 = (9000, 9000)\n",
    "redCase2(*coordinate_set1) #safe\n",
    "redCase2(*coordinate_set2) #danger"
   ]
  },
  {
   "cell_type": "code",
   "execution_count": 59,
   "id": "720887c9",
   "metadata": {},
   "outputs": [
    {
     "name": "stdout",
     "output_type": "stream",
     "text": [
      "champion is in danger\n",
      "champion is safe\n",
      "champion is safe\n",
      "champion is safe\n",
      "champion is safe\n",
      "champion is safe\n",
      "champion is safe\n"
     ]
    },
    {
     "data": {
      "text/plain": [
       "True"
      ]
     },
     "execution_count": 59,
     "metadata": {},
     "output_type": "execute_result"
    }
   ],
   "source": [
    "#MID_LANE\n",
    "#OUTER_TURRET, INNER_TURRET\n",
    "def blueCase3(x, y):\n",
    "    if x < 11400:\n",
    "        if x<1730:\n",
    "            print(\"champion is safe\")\n",
    "            return True\n",
    "        elif y<1800:\n",
    "            print(\"champion is safe\")\n",
    "            return True\n",
    "        elif x < 5200 and y < 5200:\n",
    "            print(\"champion is safe\")\n",
    "            return True\n",
    "\n",
    "    print(\"champion is in danger\")\n",
    "    return False\n",
    "\n",
    "# Test with some coordinates\n",
    "coordinate_set1 = (5300, 5300)\n",
    "coordinate_set2 = (4000, 2000)\n",
    "coordinate_set3 = (6000, 1000)\n",
    "coordinate_set4 = (2000, 2000)\n",
    "coordinate_set5 = (1500, 1500)\n",
    "coordinate_set6 = (1000, 4000)\n",
    "coordinate_set7 = (1000, 6000)\n",
    "\n",
    "blueCase3(*coordinate_set1)  # should print \"champion is in danger\"\n",
    "blueCase3(*coordinate_set2)  # should print \"champion is safe\"\n",
    "blueCase3(*coordinate_set3)  # should print \"champion is safe\"\n",
    "blueCase3(*coordinate_set4)  # should print \"champion is safe\"\n",
    "blueCase3(*coordinate_set5)  # should print \"champion is safe\"\n",
    "blueCase3(*coordinate_set6)  # should print \"champion is safe\"\n",
    "blueCase3(*coordinate_set7)  # should print \"champion is safe\""
   ]
  },
  {
   "cell_type": "code",
   "execution_count": 60,
   "id": "86e1c72b",
   "metadata": {},
   "outputs": [
    {
     "name": "stdout",
     "output_type": "stream",
     "text": [
      "champion is safe\n",
      "champion is safe\n",
      "champion is safe\n",
      "champion is safe\n",
      "champion is safe\n",
      "champion is safe\n",
      "champion is in danger\n",
      "champion is in danger\n"
     ]
    },
    {
     "data": {
      "text/plain": [
       "False"
      ]
     },
     "execution_count": 60,
     "metadata": {},
     "output_type": "execute_result"
    }
   ],
   "source": [
    "#MID_LANE\n",
    "#OUTER_TURRET, INNER_TURRET\n",
    "def redCase3(x, y):\n",
    "    if y > 3000:\n",
    "        if x>13100:\n",
    "            print(\"champion is safe\")\n",
    "            return True\n",
    "        elif y>13200:\n",
    "            print(\"champion is safe\")\n",
    "            return True\n",
    "        elif x > 9800 and y > 9800:\n",
    "            print(\"champion is safe\")\n",
    "            return True\n",
    "\n",
    "    print(\"champion is in danger\")\n",
    "    return False\n",
    "\n",
    "# Test with some coordinates\n",
    "coordinate_set1 = (14000, 14000)\n",
    "coordinate_set2 = (13000, 14000)\n",
    "coordinate_set3 = (14000, 13000)\n",
    "coordinate_set4 = (5000, 14000)\n",
    "coordinate_set5 = (14000, 5000)\n",
    "coordinate_set6 = (11000, 11000)\n",
    "coordinate_set7 = (14000, 2000)\n",
    "coordinate_set8 = (9700, 9700)\n",
    "\n",
    "\n",
    "redCase3(*coordinate_set1)  # should print \"champion is safe\"\n",
    "redCase3(*coordinate_set2)  # should print \"champion is safe\"\n",
    "redCase3(*coordinate_set3)  # should print \"champion is safe\"\n",
    "redCase3(*coordinate_set4)  # should print \"champion is safe\"\n",
    "redCase3(*coordinate_set5)  # should print \"champion is safe\"\n",
    "redCase3(*coordinate_set6)  # should print \"champion is safe\"\n",
    "redCase3(*coordinate_set7)  # should print \"champion is in danger\"\n",
    "redCase3(*coordinate_set8)  # should print \"champion is in danger\""
   ]
  },
  {
   "cell_type": "code",
   "execution_count": 61,
   "id": "8d4f10cf",
   "metadata": {},
   "outputs": [
    {
     "name": "stdout",
     "output_type": "stream",
     "text": [
      "champion is in danger\n",
      "champion is in danger\n",
      "champion is safe\n",
      "champion is safe\n"
     ]
    },
    {
     "data": {
      "text/plain": [
       "True"
      ]
     },
     "execution_count": 61,
     "metadata": {},
     "output_type": "execute_result"
    }
   ],
   "source": [
    "#MID_LANE\n",
    "#OUTER_TURRET\n",
    "def blueCase4(x,y):\n",
    "    if x<11400:\n",
    "        if x<5447 and y<(-2.0624159268227*x)+16837.97955:\n",
    "            print(\"champion is safe\")\n",
    "            return True\n",
    "        elif x>5447 and y<(-0.6390055434235*x)+9084.6631950277:\n",
    "            print(\"champion is safe\")\n",
    "            return True\n",
    "    print(\"champion is in danger\")\n",
    "    return False\n",
    "\n",
    "coordinate_set1 = (4602,7871)\n",
    "coordinate_set2 = (6870,4976 )\n",
    "coordinate_set3 = (7222, 2632)\n",
    "coordinate_set4 = (3162, 5497)\n",
    "\n",
    "blueCase4(*coordinate_set1)  # should print \"champion is in danger\"\n",
    "blueCase4(*coordinate_set2)  # should print \"champion is in danger\"\n",
    "blueCase4(*coordinate_set3)  # should print \"champion is safe\"\n",
    "blueCase4(*coordinate_set4)  # should print \"champion is safe\""
   ]
  },
  {
   "cell_type": "code",
   "execution_count": 62,
   "id": "f2e559e5",
   "metadata": {},
   "outputs": [
    {
     "name": "stdout",
     "output_type": "stream",
     "text": [
      "champion is in danger\n",
      "champion is in danger\n",
      "champion is safe\n",
      "champion is safe\n"
     ]
    },
    {
     "data": {
      "text/plain": [
       "True"
      ]
     },
     "execution_count": 62,
     "metadata": {},
     "output_type": "execute_result"
    }
   ],
   "source": [
    "#MID_LANE\n",
    "#OUTER_TURRET\n",
    "def redCase4(x,y):\n",
    "    if y>3000:\n",
    "        if y<9311 and y>(-1.6880181866809*x) + 25113.038245:\n",
    "            print(\"champion is safe\")\n",
    "            return True\n",
    "        elif y>9311 and y>(-0.5142838248909*x)+14125.710884:\n",
    "            print(\"champion is safe\")\n",
    "            return True\n",
    "        \n",
    "    print(\"champion is in danger\")\n",
    "    return False\n",
    "\n",
    "coordinate_set1 = (4602,7871)\n",
    "coordinate_set2 = (6870,4976 )\n",
    "coordinate_set3 = (7728, 10889)\n",
    "coordinate_set4 = (11711, 7182)\n",
    "\n",
    "redCase4(*coordinate_set1)  # should print \"champion is in danger\"\n",
    "redCase4(*coordinate_set2)  # should print \"champion is in danger\"\n",
    "redCase4(*coordinate_set3)  # should print \"champion is safe\"\n",
    "redCase4(*coordinate_set4)  # should print \"champion is safe\""
   ]
  },
  {
   "cell_type": "code",
   "execution_count": 14,
   "id": "93035df3",
   "metadata": {},
   "outputs": [
    {
     "name": "stdout",
     "output_type": "stream",
     "text": [
      "champion is in danger\n",
      "champion is in danger\n",
      "champion is safe\n"
     ]
    },
    {
     "data": {
      "text/plain": [
       "True"
      ]
     },
     "execution_count": 14,
     "metadata": {},
     "output_type": "execute_result"
    }
   ],
   "source": [
    "#TOP_LANE\n",
    "#OUTER_TURRET\n",
    "def blueCase5(x,y):\n",
    "    if y<7500 and x<11400 and y<-x+15000:\n",
    "        print(\"champion is safe\")\n",
    "        return True\n",
    "    print(\"champion is in danger\")\n",
    "    return False\n",
    "\n",
    "coordinate_set1 = (8586,7167)\n",
    "coordinate_set2 = (11879,2647 )\n",
    "coordinate_set3 = (3545, 7182)\n",
    "\n",
    "blueCase5(*coordinate_set1)  # should print \"champion is in danger\"\n",
    "blueCase5(*coordinate_set2)  # should print \"champion is in danger\"\n",
    "blueCase5(*coordinate_set3)  # should print \"champion is safe\""
   ]
  },
  {
   "cell_type": "code",
   "execution_count": 15,
   "id": "129c2e8f",
   "metadata": {},
   "outputs": [
    {
     "name": "stdout",
     "output_type": "stream",
     "text": [
      "champion is in danger\n",
      "champion is in danger\n",
      "champion is safe\n"
     ]
    },
    {
     "data": {
      "text/plain": [
       "True"
      ]
     },
     "execution_count": 15,
     "metadata": {},
     "output_type": "execute_result"
    }
   ],
   "source": [
    "#TOP_LANE\n",
    "#OUTER_TURRET\n",
    "def redCase5(x,y):\n",
    "    if x>7500 and y>3000 and y>-x+15000:\n",
    "        print(\"champion is safe\")\n",
    "        return True\n",
    "        \n",
    "    print(\"champion is in danger\")\n",
    "    return False\n",
    "\n",
    "coordinate_set1 = (4602,7871)\n",
    "coordinate_set2 = (6870,4976 )\n",
    "coordinate_set3 = (7728, 10889)\n",
    "\n",
    "\n",
    "redCase5(*coordinate_set1)  # should print \"champion is in danger\"\n",
    "redCase5(*coordinate_set2)  # should print \"champion is in danger\"\n",
    "redCase5(*coordinate_set3)  # should print \"champion is safe\"\n"
   ]
  },
  {
   "cell_type": "code",
   "execution_count": 69,
   "id": "f090c290",
   "metadata": {},
   "outputs": [
    {
     "name": "stdout",
     "output_type": "stream",
     "text": [
      "champion is in danger\n",
      "champion is in danger\n",
      "champion is in danger\n",
      "champion is in danger\n",
      "champion is safe\n",
      "champion is safe\n",
      "champion is safe\n"
     ]
    },
    {
     "data": {
      "text/plain": [
       "True"
      ]
     },
     "execution_count": 69,
     "metadata": {},
     "output_type": "execute_result"
    }
   ],
   "source": [
    "#TOP_LANE\n",
    "#OUTER_TURRET, INNER_TURRET\n",
    "def blueCase6(x,y):\n",
    "    if x<11400 and y<7500:\n",
    "        if x<4200 and y<5200:\n",
    "            print(\"champion is safe\")\n",
    "            return True\n",
    "        elif 4200<x<7500 and y<x+1000:\n",
    "            print(\"champion is safe\")\n",
    "            return True\n",
    "        elif x>7500 and y<-x+15000:\n",
    "            print(\"champion is safe\")\n",
    "            return True \n",
    "        \n",
    "    print(\"champion is in danger\")\n",
    "    return False\n",
    "\n",
    "coordinate_set1 = (1000,5300)\n",
    "coordinate_set2 = (4367,5860)\n",
    "coordinate_set3 = (8075, 7343)\n",
    "coordinate_set4 = (6981,7696)\n",
    "coordinate_set5 = (2124,3877)\n",
    "coordinate_set6 = (7600,7350)\n",
    "coordinate_set7 = (8223,5286)\n",
    "\n",
    "\n",
    "blueCase6(*coordinate_set1)  # should print \"champion is in danger\"\n",
    "blueCase6(*coordinate_set2)  # should print \"champion is in danger\"\n",
    "blueCase6(*coordinate_set3)  # should print \"champion is in danger\"\n",
    "blueCase6(*coordinate_set4)  # should print \"champion is in danger\"\n",
    "blueCase6(*coordinate_set5)  # should print \"champion is safe\"\n",
    "blueCase6(*coordinate_set6)  # should print \"champion is safe\"\n",
    "blueCase6(*coordinate_set7)  # should print \"champion is safe\"\n"
   ]
  },
  {
   "cell_type": "code",
   "execution_count": 17,
   "id": "ddf23d69",
   "metadata": {},
   "outputs": [
    {
     "name": "stdout",
     "output_type": "stream",
     "text": [
      "champion is in danger\n",
      "champion is in danger\n",
      "champion is in danger\n",
      "champion is in danger\n",
      "champion is safe\n",
      "champion is safe\n",
      "champion is safe\n"
     ]
    },
    {
     "data": {
      "text/plain": [
       "True"
      ]
     },
     "execution_count": 17,
     "metadata": {},
     "output_type": "execute_result"
    }
   ],
   "source": [
    "#TOP_LANE\n",
    "#OUTER_TURRET, INNER_TURRET\n",
    "def redCase6(x,y):\n",
    "    if y>3000:\n",
    "        if y>10800 and x>9800:\n",
    "            print(\"champion is safe\")\n",
    "            return True\n",
    "        elif 7500<y<10800 and y<x+1000 and x>7500:\n",
    "            print(\"champion is safe\")\n",
    "            return True\n",
    "        elif y<7500 and y>-x+15000:\n",
    "            print(\"champion is safe\")\n",
    "            return True\n",
    "        \n",
    "    print(\"champion is in danger\")\n",
    "    return False\n",
    "\n",
    "coordinate_set1 = (8920,13779)\n",
    "coordinate_set2 = (7901,9579)\n",
    "coordinate_set3 = (7309,8070)\n",
    "coordinate_set4 = (7962,6622)\n",
    "coordinate_set5 = (10517,12536)\n",
    "coordinate_set6 = (10103,10517)\n",
    "coordinate_set7 = (10959,5745)\n",
    "\n",
    "\n",
    "redCase6(*coordinate_set1)  # should print \"champion is in danger\"\n",
    "redCase6(*coordinate_set2)  # should print \"champion is in danger\"\n",
    "redCase6(*coordinate_set3)  # should print \"champion is in danger\"\n",
    "redCase6(*coordinate_set4)  # should print \"champion is in danger\"\n",
    "redCase6(*coordinate_set5)  # should print \"champion is safe\"\n",
    "redCase6(*coordinate_set6)  # should print \"champion is safe\"\n",
    "redCase6(*coordinate_set7)  # should print \"champion is safe\"\n"
   ]
  },
  {
   "cell_type": "code",
   "execution_count": 18,
   "id": "8211c61d",
   "metadata": {},
   "outputs": [
    {
     "name": "stdout",
     "output_type": "stream",
     "text": [
      "champion is in danger\n",
      "champion is safe\n"
     ]
    },
    {
     "data": {
      "text/plain": [
       "True"
      ]
     },
     "execution_count": 18,
     "metadata": {},
     "output_type": "execute_result"
    }
   ],
   "source": [
    "#BOT_LANE\n",
    "#OUTER_TURRET\n",
    "def blueCase7(x,y):\n",
    "    if x<7500 and y<-x+15000:\n",
    "        print(\"champion is safe\")\n",
    "        return True\n",
    "\n",
    "    print(\"champion is in danger\")\n",
    "    return False\n",
    "\n",
    "coordinate_set1 = (8000,5768)\n",
    "coordinate_set2 = (6000,5860)\n",
    "\n",
    "\n",
    "\n",
    "blueCase7(*coordinate_set1)  # should print \"champion is in danger\"\n",
    "blueCase7(*coordinate_set2)  # should print \"champion is safe\""
   ]
  },
  {
   "cell_type": "code",
   "execution_count": 19,
   "id": "c702df36",
   "metadata": {},
   "outputs": [
    {
     "name": "stdout",
     "output_type": "stream",
     "text": [
      "champion is in danger\n",
      "champion is safe\n"
     ]
    },
    {
     "data": {
      "text/plain": [
       "True"
      ]
     },
     "execution_count": 19,
     "metadata": {},
     "output_type": "execute_result"
    }
   ],
   "source": [
    "#BOT_LANE\n",
    "#OUTER_TURRET\n",
    "def redCase7(x,y):\n",
    "    if y>7500 and y>-x+15000:\n",
    "        print(\"champion is safe\")\n",
    "        return True\n",
    "\n",
    "    print(\"champion is in danger\")\n",
    "    return False\n",
    "\n",
    "coordinate_set1 = (8000,7000)\n",
    "coordinate_set2 = (8000,8000)\n",
    "\n",
    "\n",
    "\n",
    "redCase7(*coordinate_set1)  # should print \"champion is in danger\"\n",
    "redCase7(*coordinate_set2)  # should print \"champion is safe\""
   ]
  },
  {
   "cell_type": "code",
   "execution_count": 20,
   "id": "3666ddd5",
   "metadata": {},
   "outputs": [
    {
     "name": "stdout",
     "output_type": "stream",
     "text": [
      "champion is in danger\n",
      "champion is in danger\n",
      "champion is safe\n",
      "champion is safe\n"
     ]
    },
    {
     "data": {
      "text/plain": [
       "True"
      ]
     },
     "execution_count": 20,
     "metadata": {},
     "output_type": "execute_result"
    }
   ],
   "source": [
    "#BOT_LANE\n",
    "#OUTER_TURRET, INNER_TURRET\n",
    "def blueCase8(x,y):\n",
    "    if x<7500:\n",
    "        if y<5200 and x<5200:\n",
    "            print(\"champion is safe\")\n",
    "            return True\n",
    "        elif y>4200 and y>x-1000 and y<-x+15000:\n",
    "            print(\"champion is safe\")\n",
    "            return True\n",
    "\n",
    "    print(\"champion is in danger\")\n",
    "    return False\n",
    "\n",
    "coordinate_set1 = (6167,2361)\n",
    "coordinate_set2 = (7126,8784)\n",
    "coordinate_set3 = (6000,8000)\n",
    "coordinate_set4 = (3639,2299)\n",
    "\n",
    "\n",
    "\n",
    "blueCase8(*coordinate_set1)  # should print \"champion is in danger\"\n",
    "blueCase8(*coordinate_set2)  # should print \"champion is in danger\"\n",
    "blueCase8(*coordinate_set3)  # should print \"champion is safe\"\n",
    "blueCase8(*coordinate_set4)  # should print \"champion is safe\""
   ]
  },
  {
   "cell_type": "code",
   "execution_count": 70,
   "id": "c49471e3",
   "metadata": {},
   "outputs": [
    {
     "name": "stdout",
     "output_type": "stream",
     "text": [
      "champion is safe\n",
      "champion is in danger\n",
      "champion is in danger\n",
      "champion is safe\n"
     ]
    },
    {
     "data": {
      "text/plain": [
       "True"
      ]
     },
     "execution_count": 70,
     "metadata": {},
     "output_type": "execute_result"
    }
   ],
   "source": [
    "#BOT_LANE\n",
    "#OUTER_TURRET, INNER_TURRET\n",
    "def redCase8(x,y):\n",
    "    if y>7500:\n",
    "        if x>9800 and y>9800:\n",
    "            print(\"champion is safe\")\n",
    "            return True\n",
    "        elif x<10800 and y>x-1000 and y>-x+15000:\n",
    "            print(\"champion is safe\")\n",
    "            return True\n",
    "\n",
    "    print(\"champion is in danger\")\n",
    "    return False\n",
    "\n",
    "coordinate_set1 = (7689,7580)\n",
    "coordinate_set2 = (12065,9247)\n",
    "coordinate_set3 = (12304,7060)\n",
    "coordinate_set4 = (7000,10000)\n",
    "\n",
    "\n",
    "\n",
    "redCase8(*coordinate_set1)  # should print \"champion is safe\"\n",
    "redCase8(*coordinate_set2)  # should print \"champion is in danger\"\n",
    "redCase8(*coordinate_set3)  # should print \"champion is in danger\"\n",
    "redCase8(*coordinate_set4)  # should print \"champion is safe\""
   ]
  },
  {
   "cell_type": "code",
   "execution_count": 75,
   "id": "40727be9",
   "metadata": {},
   "outputs": [
    {
     "name": "stdout",
     "output_type": "stream",
     "text": [
      "champion is in danger\n",
      "champion is in danger\n",
      "champion is safe\n",
      "champion is safe\n"
     ]
    },
    {
     "data": {
      "text/plain": [
       "True"
      ]
     },
     "execution_count": 75,
     "metadata": {},
     "output_type": "execute_result"
    }
   ],
   "source": [
    "#BOT_LANE, MID_LANE\n",
    "#OUTER_TURRET\n",
    "def blueCase9(x,y):\n",
    "    \n",
    "    if x<5447 and y<(-2.0624159268227*x)+16837.97955:\n",
    "        print(\"champion is safe\")\n",
    "        return True\n",
    "    elif x>5447 and y<(-2.1480295450622*x)+17304.316931954:\n",
    "        print(\"champion is safe\")\n",
    "        return True\n",
    "\n",
    "    print(\"champion is in danger\")\n",
    "    return False\n",
    "\n",
    "coordinate_set1 = (5918,4593)\n",
    "coordinate_set2 = (5109,6303)\n",
    "coordinate_set3 = (5810,2982)\n",
    "coordinate_set4 = (4126,6669)\n",
    "\n",
    "\n",
    "\n",
    "blueCase9(*coordinate_set1)  # should print \"champion is in danger\"\n",
    "blueCase9(*coordinate_set2)  # should print \"champion is in danger\"\n",
    "blueCase9(*coordinate_set3)  # should print \"champion is safe\"\n",
    "blueCase9(*coordinate_set4)  # should print \"champion is safe\""
   ]
  },
  {
   "cell_type": "code",
   "execution_count": 23,
   "id": "862089a9",
   "metadata": {},
   "outputs": [
    {
     "name": "stdout",
     "output_type": "stream",
     "text": [
      "champion is in danger\n",
      "champion is in danger\n",
      "champion is safe\n",
      "champion is safe\n"
     ]
    },
    {
     "data": {
      "text/plain": [
       "True"
      ]
     },
     "execution_count": 23,
     "metadata": {},
     "output_type": "execute_result"
    }
   ],
   "source": [
    "#BOT_LANE, MID_LANE\n",
    "#OUTER_TURRET\n",
    "def redCase9(x,y):\n",
    "    \n",
    "    if y<9311 and y>(-0.3763593030811*x)+12834.599436:\n",
    "        print(\"champion is safe\")\n",
    "        return True\n",
    "    elif y>9311 and y>(-0.5142838248909*x)+14125.710884:\n",
    "        print(\"champion is safe\")\n",
    "        return True\n",
    "\n",
    "    print(\"champion is in danger\")\n",
    "    return False\n",
    "\n",
    "coordinate_set1 = (13248,7666)\n",
    "coordinate_set2 = (8193,9688)\n",
    "coordinate_set3 = (12000,9000)\n",
    "coordinate_set4 = (8329,11010)\n",
    "\n",
    "\n",
    "\n",
    "redCase9(*coordinate_set1)  # should print \"champion is in danger\"\n",
    "redCase9(*coordinate_set2)  # should print \"champion is in danger\"\n",
    "redCase9(*coordinate_set3)  # should print \"champion is safe\"\n",
    "redCase9(*coordinate_set4)  # should print \"champion is safe\""
   ]
  },
  {
   "cell_type": "code",
   "execution_count": 24,
   "id": "c144700c",
   "metadata": {},
   "outputs": [
    {
     "name": "stdout",
     "output_type": "stream",
     "text": [
      "champion is in danger\n",
      "champion is in danger\n",
      "champion is safe\n",
      "champion is safe\n"
     ]
    },
    {
     "data": {
      "text/plain": [
       "True"
      ]
     },
     "execution_count": 24,
     "metadata": {},
     "output_type": "execute_result"
    }
   ],
   "source": [
    "#TOP_LANE, MID_LANE\n",
    "#OUTER_TURRET\n",
    "def blueCase10(x,y):\n",
    "    \n",
    "    if x<11400:\n",
    "        if x<5447 and y<(-0.3983844317973*x)+7774:\n",
    "            print(\"champion is safe\")\n",
    "            return True\n",
    "        elif x>5447 and y<(-0.6390055434235*x)+9084.6631950277:\n",
    "            print(\"champion is safe\")\n",
    "            return True\n",
    "\n",
    "    print(\"champion is in danger\")\n",
    "    return False\n",
    "\n",
    "coordinate_set1 = (2309,7113)\n",
    "coordinate_set2 = (9193,3826)\n",
    "coordinate_set3 = (3499,5690)\n",
    "coordinate_set4 = (7278,3179)\n",
    "\n",
    "\n",
    "\n",
    "blueCase10(*coordinate_set1)  # should print \"champion is in danger\"\n",
    "blueCase10(*coordinate_set2)  # should print \"champion is in danger\"\n",
    "blueCase10(*coordinate_set3)  # should print \"champion is safe\"\n",
    "blueCase10(*coordinate_set4)  # should print \"champion is safe\""
   ]
  },
  {
   "cell_type": "code",
   "execution_count": 25,
   "id": "5b2c53b2",
   "metadata": {},
   "outputs": [
    {
     "name": "stdout",
     "output_type": "stream",
     "text": [
      "champion is in danger\n",
      "champion is in danger\n",
      "champion is safe\n",
      "champion is safe\n"
     ]
    },
    {
     "data": {
      "text/plain": [
       "True"
      ]
     },
     "execution_count": 25,
     "metadata": {},
     "output_type": "execute_result"
    }
   ],
   "source": [
    "\n",
    "def redCase10(x,y):\n",
    "    \n",
    "    if y>3000:\n",
    "        if x<9361 and y>(-2.3536322283175*x)+31343.8512892805:\n",
    "            print(\"champion is safe\")\n",
    "            return True\n",
    "        elif x>9361 and y>(-1.6880181866809*x)+25113.038245:\n",
    "            print(\"champion is safe\")\n",
    "            return True\n",
    "    print(\"champion is in danger\")\n",
    "    return False\n",
    "\n",
    "coordinate_set1 = (7925,11176)\n",
    "coordinate_set2 = (10590,5767)\n",
    "coordinate_set3 = (9322,11461)\n",
    "coordinate_set4 = (12402,6052)\n",
    "\n",
    "\n",
    "\n",
    "redCase10(*coordinate_set1)  # should print \"champion is in danger\"\n",
    "redCase10(*coordinate_set2)  # should print \"champion is in danger\"\n",
    "redCase10(*coordinate_set3)  # should print \"champion is safe\"\n",
    "redCase10(*coordinate_set4)  # should print \"champion is safe\""
   ]
  },
  {
   "cell_type": "code",
   "execution_count": 26,
   "id": "4a973b7c",
   "metadata": {},
   "outputs": [
    {
     "name": "stdout",
     "output_type": "stream",
     "text": [
      "champion is in danger\n",
      "champion is in danger\n",
      "champion is safe\n",
      "champion is safe\n"
     ]
    },
    {
     "data": {
      "text/plain": [
       "True"
      ]
     },
     "execution_count": 26,
     "metadata": {},
     "output_type": "execute_result"
    }
   ],
   "source": [
    "def blueCase11(x,y):\n",
    "    \n",
    "    if x < 7500 and y < 7500:\n",
    "        print(\"champion is safe\")\n",
    "        return True\n",
    "    \n",
    "    print(\"champion is in danger\")\n",
    "    return False\n",
    "\n",
    "coordinate_set1 = (5000,5500)\n",
    "coordinate_set2 = (2000,4000)\n",
    "coordinate_set3 = (2318,8268)\n",
    "coordinate_set4 = (8588,1073)\n",
    "\n",
    "\n",
    "\n",
    "\n",
    "blueCase11(*coordinate_set3)  # should print \"champion is in danger\"\n",
    "blueCase11(*coordinate_set4)  # should print \"champion is in danger\"\n",
    "blueCase11(*coordinate_set1)  # should print \"champion is in safe\"\n",
    "blueCase11(*coordinate_set2)  # should print \"champion is in safe\"\n"
   ]
  },
  {
   "cell_type": "code",
   "execution_count": 27,
   "id": "5bc62c8a",
   "metadata": {},
   "outputs": [
    {
     "name": "stdout",
     "output_type": "stream",
     "text": [
      "champion is in danger\n",
      "champion is in danger\n",
      "champion is safe\n",
      "champion is safe\n"
     ]
    },
    {
     "data": {
      "text/plain": [
       "True"
      ]
     },
     "execution_count": 27,
     "metadata": {},
     "output_type": "execute_result"
    }
   ],
   "source": [
    "def redCase11(x,y):\n",
    "    \n",
    "    if x > 7500 and y > 7500:\n",
    "        print(\"champion is safe\")\n",
    "        return True\n",
    "    \n",
    "    print(\"champion is in danger\")\n",
    "    return False\n",
    "\n",
    "coordinate_set1 = (10687,13813)\n",
    "coordinate_set2 = (13884,8442)\n",
    "coordinate_set3 = (2318,8268)\n",
    "coordinate_set4 = (8588,1073)\n",
    "\n",
    "redCase11(*coordinate_set3)  # should print \"champion is in danger\"\n",
    "redCase11(*coordinate_set4)  # should print \"champion is in danger\"\n",
    "redCase11(*coordinate_set1)  # should print \"champion is in safe\"\n",
    "redCase11(*coordinate_set2)  # should print \"champion is in safe\""
   ]
  },
  {
   "cell_type": "code",
   "execution_count": 77,
   "id": "ec6eb3d5",
   "metadata": {},
   "outputs": [
    {
     "name": "stdout",
     "output_type": "stream",
     "text": [
      "champion is in danger\n",
      "champion is in danger\n",
      "champion is safe\n",
      "champion is safe\n"
     ]
    },
    {
     "data": {
      "text/plain": [
       "True"
      ]
     },
     "execution_count": 77,
     "metadata": {},
     "output_type": "execute_result"
    }
   ],
   "source": [
    "def blueCase12(x,y):\n",
    "    if y < (-0.3983844317973*x)+7774 and y < (2.1480295450622*x)+17304.316931954:\n",
    "        print(\"champion is safe\")\n",
    "        return True\n",
    "    print(\"champion is in danger\")\n",
    "    return False\n",
    "\n",
    "coordinate_set1 = (8988,9000)\n",
    "coordinate_set2 = (794,8392)\n",
    "coordinate_set3 = (4166,798)\n",
    "coordinate_set4 = (2842,5794)\n",
    "\n",
    "blueCase12(*coordinate_set1)  # should print \"champion is in danger\"\n",
    "blueCase12(*coordinate_set2)  # should print \"champion is in danger\"\n",
    "blueCase12(*coordinate_set3)  # should print \"champion is safe\"\n",
    "blueCase12(*coordinate_set4)  # should print \"champion is safe\"\n"
   ]
  },
  {
   "cell_type": "code",
   "execution_count": 78,
   "id": "67f8fa63",
   "metadata": {},
   "outputs": [
    {
     "name": "stdout",
     "output_type": "stream",
     "text": [
      "champion is in danger\n",
      "champion is in danger\n",
      "champion is safe\n",
      "champion is safe\n"
     ]
    },
    {
     "data": {
      "text/plain": [
       "True"
      ]
     },
     "execution_count": 78,
     "metadata": {},
     "output_type": "execute_result"
    }
   ],
   "source": [
    "def redCase12(x,y):\n",
    "    if y > (-2.3536322283176*x)+31343.8412892805 and y > (-0.3763593030811*x)+12834.5994361426:\n",
    "        print(\"champion is safe\")\n",
    "        return True\n",
    "    print(\"champion is in danger\")\n",
    "    return False \n",
    "\n",
    "coordinate_set1 = (6000,14000)\n",
    "coordinate_set2 = (13809,5744)\n",
    "coordinate_set3 = (11000,13813)\n",
    "coordinate_set4 = (14084,8542)\n",
    "\n",
    "redCase12(*coordinate_set1)  # should print \"champion is in danger\"\n",
    "redCase12(*coordinate_set2)  # should print \"champion is in danger\"\n",
    "redCase12(*coordinate_set3)  # should print \"champion is safe\"\n",
    "redCase12(*coordinate_set4)  # should print \"champion is safe\""
   ]
  },
  {
   "cell_type": "code",
   "execution_count": 30,
   "id": "4478bc31",
   "metadata": {},
   "outputs": [
    {
     "name": "stdout",
     "output_type": "stream",
     "text": [
      "Champion is in danger\n",
      "Champion is in danger\n",
      "champion is safe\n",
      "champion is safe\n"
     ]
    },
    {
     "data": {
      "text/plain": [
       "True"
      ]
     },
     "execution_count": 30,
     "metadata": {},
     "output_type": "execute_result"
    }
   ],
   "source": [
    "def blueCase13(x,y):\n",
    "    if x < 7500:\n",
    "        if x < 5200 and y < 5200:\n",
    "            print(\"champion is safe\")\n",
    "            return True\n",
    "        elif x < 1730 and y > 5200:\n",
    "            print(\"champion is safe\")\n",
    "            return True\n",
    "        elif x > 5200 and y < 1800:\n",
    "            print(\"champion is safe\")\n",
    "            return True\n",
    "    print(\"Champion is in danger\")\n",
    "    return False\n",
    "    \n",
    "coordinate_set1 = (8000,1000)\n",
    "coordinate_set2 = (2000,5744)\n",
    "coordinate_set3 = (7000,1000)\n",
    "coordinate_set4 = (1000,11000)\n",
    "\n",
    "blueCase13(*coordinate_set1)  # should print \"champion is in danger\"\n",
    "blueCase13(*coordinate_set2)  # should print \"champion is in danger\"\n",
    "blueCase13(*coordinate_set3)  # should print \"champion is safe\"\n",
    "blueCase13(*coordinate_set4)  # should print \"champion is safe\"\n",
    "\n"
   ]
  },
  {
   "cell_type": "code",
   "execution_count": 31,
   "id": "cafe96bf",
   "metadata": {},
   "outputs": [
    {
     "name": "stdout",
     "output_type": "stream",
     "text": [
      "Champion is in danger\n",
      "Champion is in danger\n",
      "champion is safe\n",
      "champion is safe\n"
     ]
    },
    {
     "data": {
      "text/plain": [
       "True"
      ]
     },
     "execution_count": 31,
     "metadata": {},
     "output_type": "execute_result"
    }
   ],
   "source": [
    "def redCase13(x,y):\n",
    "    if y > 7500:\n",
    "        if x > 9800 and y > 9800:\n",
    "            print(\"champion is safe\")\n",
    "            return True\n",
    "        elif y < 9800 and x > 13100:\n",
    "            print(\"champion is safe\")\n",
    "            return True\n",
    "        elif x < 9800 and y > 13200:\n",
    "            print(\"champion is safe\")\n",
    "            return True\n",
    "    print(\"Champion is in danger\")\n",
    "    return False\n",
    "        \n",
    "coordinate_set1 = (9500,12000)\n",
    "coordinate_set2 = (14000,7000)\n",
    "coordinate_set3 = (13500,9000)\n",
    "coordinate_set4 = (3000,14000)\n",
    "\n",
    "redCase13(*coordinate_set1)  # should print \"champion is in danger\"\n",
    "redCase13(*coordinate_set2)  # should print \"champion is in danger\"\n",
    "redCase13(*coordinate_set3)  # should print \"champion is safe\"\n",
    "redCase13(*coordinate_set4)  # should print \"champion is safe\"\n",
    "    "
   ]
  },
  {
   "cell_type": "code",
   "execution_count": 32,
   "id": "0306599d",
   "metadata": {},
   "outputs": [
    {
     "name": "stdout",
     "output_type": "stream",
     "text": [
      "champion is in danger\n",
      "champion is in danger\n",
      "champion is safe\n",
      "champion is safe\n"
     ]
    },
    {
     "data": {
      "text/plain": [
       "True"
      ]
     },
     "execution_count": 32,
     "metadata": {},
     "output_type": "execute_result"
    }
   ],
   "source": [
    "def blueCase14(x,y):\n",
    "    if x < 11400 and y < 7500:\n",
    "        if x < 5200 and y < 5200:\n",
    "            print(\"champion is safe\")\n",
    "            return True\n",
    "        elif x < 1730 and y > 5200:\n",
    "            print(\"champion is safe\")\n",
    "            return True\n",
    "        elif x > 5200 and y < 1800:\n",
    "            print(\"champion is safe\")\n",
    "            return True\n",
    "    print(\"champion is in danger\")\n",
    "    return False\n",
    "\n",
    "coordinate_set1 = (1000,8000)\n",
    "coordinate_set2 = (10000,2500)\n",
    "coordinate_set3 = (11000,1750)\n",
    "coordinate_set4 = (1000,7000)\n",
    "\n",
    "blueCase14(*coordinate_set1)  # should print \"champion is in danger\"\n",
    "blueCase14(*coordinate_set2)  # should print \"champion is in danger\"\n",
    "blueCase14(*coordinate_set3)  # should print \"champion is safe\"\n",
    "blueCase14(*coordinate_set4)  # should print \"champion is safe\"\n"
   ]
  },
  {
   "cell_type": "code",
   "execution_count": 33,
   "id": "47a66ba7",
   "metadata": {},
   "outputs": [
    {
     "name": "stdout",
     "output_type": "stream",
     "text": [
      "champion is in danger\n",
      "champion is in danger\n",
      "champion is safe\n",
      "champion is safe\n"
     ]
    },
    {
     "data": {
      "text/plain": [
       "True"
      ]
     },
     "execution_count": 33,
     "metadata": {},
     "output_type": "execute_result"
    }
   ],
   "source": [
    "def redCase14(x,y):\n",
    "    if y > 3000 and x > 7500:\n",
    "        if x > 9800 and y > 9800:\n",
    "            print(\"champion is safe\")\n",
    "            return True\n",
    "        elif x > 13100 and y < 9800:\n",
    "            print(\"champion is safe\")\n",
    "            return True\n",
    "        elif x < 9800 and y > 13200:\n",
    "            print(\"champion is safe\")\n",
    "            return True\n",
    "    print(\"champion is in danger\")\n",
    "    return False\n",
    "\n",
    "coordinate_set1 = (14000,3000)\n",
    "coordinate_set2 = (10000,9500)\n",
    "coordinate_set3 = (10000,13000)\n",
    "coordinate_set4 = (14000,4000)\n",
    "\n",
    "redCase14(*coordinate_set1)  # should print \"champion is in danger\"\n",
    "redCase14(*coordinate_set2)  # should print \"champion is in danger\"\n",
    "redCase14(*coordinate_set3)  # should print \"champion is safe\"\n",
    "redCase14(*coordinate_set4)  # should print \"champion is safe\""
   ]
  },
  {
   "cell_type": "code",
   "execution_count": 86,
   "id": "8acf3b61",
   "metadata": {},
   "outputs": [
    {
     "name": "stdout",
     "output_type": "stream",
     "text": [
      "champion is in danger\n",
      "champion is in danger\n",
      "champion is safe\n",
      "champion is safe\n"
     ]
    },
    {
     "data": {
      "text/plain": [
       "True"
      ]
     },
     "execution_count": 86,
     "metadata": {},
     "output_type": "execute_result"
    }
   ],
   "source": [
    "def blueCase15(x,y):\n",
    "    if x < 5447:\n",
    "        if x < 5200 and y < 5200:\n",
    "            print(\"champion is safe\")\n",
    "            return True\n",
    "        elif x>5200 and y > (x-1000):\n",
    "            print(\"champion is safe\")\n",
    "            return True\n",
    "        elif y> 5604 and y<(-2.0624159268227*x)+16837.979553:\n",
    "            print(\"champion is safe\")\n",
    "            return True\n",
    "    print(\"champion is in danger\")\n",
    "    return False\n",
    "\n",
    "coordinate_set1 = (3800,9085)\n",
    "coordinate_set2 = (5500,4000)\n",
    "coordinate_set3 = (1000,12000)\n",
    "coordinate_set4 = (4500,1000)\n",
    "\n",
    "blueCase15(*coordinate_set1)  # should print \"champion is in danger\"\n",
    "blueCase15(*coordinate_set2)  # should print \"champion is in danger\"\n",
    "blueCase15(*coordinate_set3)  # should print \"champion is safe\"\n",
    "blueCase15(*coordinate_set4)  # should print \"champion is safe\"\n",
    "\n"
   ]
  },
  {
   "cell_type": "code",
   "execution_count": 90,
   "id": "38db252e",
   "metadata": {},
   "outputs": [
    {
     "name": "stdout",
     "output_type": "stream",
     "text": [
      "champion is in danger\n",
      "champion is in danger\n",
      "champion is safe\n",
      "champion is safe\n"
     ]
    },
    {
     "data": {
      "text/plain": [
       "True"
      ]
     },
     "execution_count": 90,
     "metadata": {},
     "output_type": "execute_result"
    }
   ],
   "source": [
    "def redCase15(x,y):\n",
    "    if y > 9311.5:\n",
    "        if x > 9800 and y > 9800:\n",
    "            print(\"champion is safe\")\n",
    "            return True\n",
    "        if x < 10800 and x > 9361 and y > (x-1000):\n",
    "            print(\"champion is safe\")\n",
    "            return True\n",
    "        if x < 9361 and y > (-0.5142838248909*x)+14125.710884:\n",
    "            print(\"champion is safe\")\n",
    "            return True\n",
    "    print(\"champion is in danger\")\n",
    "    return False\n",
    "\n",
    "coordinate_set1 = (6619,10686)\n",
    "coordinate_set2 = (11000,9000)\n",
    "coordinate_set3 = (9862,9530)\n",
    "coordinate_set4 = (8000,10500)\n",
    "\n",
    "redCase15(*coordinate_set1)  # should print \"champion is in danger\"\n",
    "redCase15(*coordinate_set2)  # should print \"champion is in danger\"\n",
    "redCase15(*coordinate_set3)  # should print \"champion is safe\"\n",
    "redCase15(*coordinate_set4)  # should print \"champion is safe\""
   ]
  },
  {
   "cell_type": "code",
   "execution_count": 36,
   "id": "ff82aa00",
   "metadata": {},
   "outputs": [
    {
     "name": "stdout",
     "output_type": "stream",
     "text": [
      "champion is in danger\n",
      "champion is safe\n",
      "champion is safe\n",
      "champion is safe\n"
     ]
    },
    {
     "data": {
      "text/plain": [
       "True"
      ]
     },
     "execution_count": 36,
     "metadata": {},
     "output_type": "execute_result"
    }
   ],
   "source": [
    "def blueCase16(x,y):\n",
    "    \n",
    "    if x<7500 and y<7500:\n",
    "        if y>x-1000:\n",
    "            print(\"champion is safe\")\n",
    "            return True\n",
    "        elif y<5200 and x<5200:\n",
    "            print(\"champion is safe\")\n",
    "            return True\n",
    "\n",
    "    print(\"champion is in danger\")\n",
    "    return False\n",
    "\n",
    "coordinate_set1 = (6000,2000)\n",
    "coordinate_set2 = (5990,6544)\n",
    "coordinate_set3 = (1468,7418)\n",
    "coordinate_set4 = (544,998)\n",
    "\n",
    "blueCase16(*coordinate_set1)  # should print \"champion is in danger\"\n",
    "blueCase16(*coordinate_set2)  # should print \"champion is safe\"\n",
    "blueCase16(*coordinate_set3)  # should print \"champion is safe\"\n",
    "blueCase16(*coordinate_set4)  # should print \"champion is safe\"\n"
   ]
  },
  {
   "cell_type": "code",
   "execution_count": 37,
   "id": "4bbaf509",
   "metadata": {},
   "outputs": [
    {
     "name": "stdout",
     "output_type": "stream",
     "text": [
      "champion is safe\n",
      "champion is safe\n",
      "champion is in danger\n",
      "champion is in danger\n"
     ]
    },
    {
     "data": {
      "text/plain": [
       "False"
      ]
     },
     "execution_count": 37,
     "metadata": {},
     "output_type": "execute_result"
    }
   ],
   "source": [
    "def redCase16(x,y):\n",
    "    \n",
    "    if x>7500 and y>7500:\n",
    "        if y>x-1000:\n",
    "            print(\"champion is safe\")\n",
    "            return True\n",
    "        elif y>9800 and x>9800:\n",
    "            print(\"champion is safe\")\n",
    "            return True\n",
    "\n",
    "    print(\"champion is in danger\")\n",
    "    return False\n",
    "\n",
    "coordinate_set1 = (11000,11000) \n",
    "coordinate_set2 = (7501,7501)\n",
    "coordinate_set3 = (10000,7501)\n",
    "\n",
    "redCase16(*coordinate_set1)  # should print \"champion is safe\"\n",
    "redCase16(*coordinate_set2)  # should print \"champion is safe\"\n",
    "redCase16(*coordinate_set3)  # should print \"champion is in danger\"\n",
    "blueCase16(*coordinate_set5)  # should print \"champion is safe\""
   ]
  },
  {
   "cell_type": "code",
   "execution_count": 92,
   "id": "747a7cf4",
   "metadata": {},
   "outputs": [
    {
     "name": "stdout",
     "output_type": "stream",
     "text": [
      "champion is in danger\n",
      "champion is in danger\n",
      "champion is safe\n",
      "champion is safe\n"
     ]
    },
    {
     "data": {
      "text/plain": [
       "True"
      ]
     },
     "execution_count": 92,
     "metadata": {},
     "output_type": "execute_result"
    }
   ],
   "source": [
    "def blueCase17(x,y):\n",
    "    if x < 11400 and y < 5604:\n",
    "        if x < 5200 and y < 5200:\n",
    "            print(\"champion is safe\")\n",
    "            return True\n",
    "        elif 4200 < x < 5447 and y < (x+1000):\n",
    "            print(\"champion is safe\")\n",
    "            return True\n",
    "        elif x > 5447 and y < (-0.6390055434235*x) + 9084.6631950277:\n",
    "            print(\"champion is safe\")\n",
    "            return True\n",
    "    print(\"champion is in danger\")\n",
    "    return False\n",
    "\n",
    "coordinate_set1 = (4900,6000) \n",
    "coordinate_set2 = (2000,6000)\n",
    "coordinate_set3 = (10000,2000)\n",
    "coordinate_set4 = (1000,4500)\n",
    "\n",
    "blueCase17(*coordinate_set1)  # should print \"champion is in danger\"\n",
    "blueCase17(*coordinate_set2)  # should print \"champion is in danger\"\n",
    "blueCase17(*coordinate_set3)  # should print \"champion is safe\"\n",
    "blueCase17(*coordinate_set4)  # should print \"champion is safe\"\n",
    "\n"
   ]
  },
  {
   "cell_type": "code",
   "execution_count": 93,
   "id": "e609ddb7",
   "metadata": {},
   "outputs": [
    {
     "name": "stdout",
     "output_type": "stream",
     "text": [
      "champion is in danger\n",
      "champion is in danger\n",
      "champion is safe\n",
      "champion is safe\n"
     ]
    },
    {
     "data": {
      "text/plain": [
       "True"
      ]
     },
     "execution_count": 93,
     "metadata": {},
     "output_type": "execute_result"
    }
   ],
   "source": [
    "def redCase17(x,y):\n",
    "    if x > 9361 and y > 3000:\n",
    "        if x > 9800 and y > 9800:\n",
    "            print(\"champion is safe\")\n",
    "            return True\n",
    "        elif 9311.5 < y < 10800 and y < (x+1000):\n",
    "            print(\"champion is safe\")\n",
    "            return True\n",
    "        elif y < 9311.5 and y > (-1.6880181866809*x)+25113.038245:\n",
    "            print(\"champion is safe\")\n",
    "            return True\n",
    "    print(\"champion is in danger\")\n",
    "    return False\n",
    "\n",
    "coordinate_set1 = (9000,11000) \n",
    "coordinate_set2 = (11000,5000)\n",
    "coordinate_set3 = (14000,5000)\n",
    "coordinate_set4 = (10000,14500)\n",
    "\n",
    "redCase17(*coordinate_set1)  # should print \"champion is in danger\"\n",
    "redCase17(*coordinate_set2)  # should print \"champion is in danger\"\n",
    "redCase17(*coordinate_set3)  # should print \"champion is safe\"\n",
    "redCase17(*coordinate_set4)  # should print \"champion is safe\""
   ]
  },
  {
   "cell_type": "code",
   "execution_count": 94,
   "id": "3cc71355",
   "metadata": {},
   "outputs": [
    {
     "name": "stdout",
     "output_type": "stream",
     "text": [
      "champion is in danger\n",
      "champion is in danger\n",
      "champion is safe\n",
      "champion is safe\n"
     ]
    },
    {
     "data": {
      "text/plain": [
       "True"
      ]
     },
     "execution_count": 94,
     "metadata": {},
     "output_type": "execute_result"
    }
   ],
   "source": [
    "def blueCase18(x,y):\n",
    "    if x < 7500 and y < 7500 and y < (x+1000):\n",
    "        print(\"champion is safe\")\n",
    "        return True\n",
    "    if x < 5200 and y < 5200:\n",
    "        print(\"champion is safe\")\n",
    "        return True\n",
    "    print(\"champion is in danger\")\n",
    "    return False\n",
    "\n",
    "coordinate_set1 = (6000,8000) \n",
    "coordinate_set2 = (2500,6000)\n",
    "coordinate_set3 = (1000,5000)\n",
    "coordinate_set4 = (6000,2500)\n",
    "\n",
    "blueCase18(*coordinate_set1)  # should print \"champion is in danger\"\n",
    "blueCase18(*coordinate_set2)  # should print \"champion is in danger\"\n",
    "blueCase18(*coordinate_set3)  # should print \"champion is safe\"\n",
    "blueCase18(*coordinate_set4)  # should print \"champion is safe\"\n"
   ]
  },
  {
   "cell_type": "code",
   "execution_count": 95,
   "id": "ba9d6976",
   "metadata": {},
   "outputs": [
    {
     "name": "stdout",
     "output_type": "stream",
     "text": [
      "champion is in danger\n",
      "champion is in danger\n",
      "champion is safe\n",
      "champion is safe\n"
     ]
    },
    {
     "data": {
      "text/plain": [
       "True"
      ]
     },
     "execution_count": 95,
     "metadata": {},
     "output_type": "execute_result"
    }
   ],
   "source": [
    "def redCase18(x,y):\n",
    "    if x > 7500 and y > 7500 and y < (x+1000):\n",
    "        print(\"champion is safe\")\n",
    "        return True\n",
    "    if x > 9800 and y > 9800:\n",
    "        print(\"champion is safe\")\n",
    "        return True\n",
    "    print(\"champion is in danger\")\n",
    "    return False\n",
    "\n",
    "coordinate_set1 = (14000,7500) \n",
    "coordinate_set2 = (9000,11000)\n",
    "coordinate_set3 = (10001,10001)\n",
    "coordinate_set4 = (14000,8001)\n",
    "\n",
    "redCase18(*coordinate_set1)  # should print \"champion is in danger\"\n",
    "redCase18(*coordinate_set2)  # should print \"champion is in danger\"\n",
    "redCase18(*coordinate_set3)  # should print \"champion is safe\"\n",
    "redCase18(*coordinate_set4)  # should print \"champion is safe\""
   ]
  },
  {
   "cell_type": "code",
   "execution_count": 42,
   "id": "dda51ee9",
   "metadata": {},
   "outputs": [
    {
     "name": "stdout",
     "output_type": "stream",
     "text": [
      "champion is in danger\n",
      "champion is in danger\n",
      "champion is safe\n",
      "champion is safe\n"
     ]
    },
    {
     "data": {
      "text/plain": [
       "True"
      ]
     },
     "execution_count": 42,
     "metadata": {},
     "output_type": "execute_result"
    }
   ],
   "source": [
    "def blueCase19(x,y):\n",
    "    if x < 7500 and y < 7500:\n",
    "        if x < 5200 and y < 5200:\n",
    "            print(\"champion is safe\")\n",
    "            return True\n",
    "        elif x < 1730 and y > 5200:\n",
    "            print(\"champion is safe\")\n",
    "            return True\n",
    "        elif x > 5200 and y < 1800:\n",
    "            print(\"champion is safe\")\n",
    "            return True\n",
    "    print(\"champion is in danger\")\n",
    "    return False\n",
    "    \n",
    "coordinate_set1 = (1000,8000) \n",
    "coordinate_set2 = (6000,2000)\n",
    "coordinate_set3 = (6000,1000)\n",
    "coordinate_set4 = (3000,5000)\n",
    "\n",
    "blueCase19(*coordinate_set1)  # should print \"champion is in danger\"\n",
    "blueCase19(*coordinate_set2)  # should print \"champion is in danger\"\n",
    "blueCase19(*coordinate_set3)  # should print \"champion is safe\"\n",
    "blueCase19(*coordinate_set4)  # should print \"champion is safe\""
   ]
  },
  {
   "cell_type": "code",
   "execution_count": 43,
   "id": "487c2259",
   "metadata": {},
   "outputs": [
    {
     "name": "stdout",
     "output_type": "stream",
     "text": [
      "champion is in danger\n",
      "champion is in danger\n",
      "champion is safe\n",
      "champion is safe\n"
     ]
    },
    {
     "data": {
      "text/plain": [
       "True"
      ]
     },
     "execution_count": 43,
     "metadata": {},
     "output_type": "execute_result"
    }
   ],
   "source": [
    "def redCase19(x,y):\n",
    "    if x > 7500 and y > 7500:\n",
    "        if x > 9800 and y > 9800:\n",
    "            print(\"champion is safe\")\n",
    "            return True\n",
    "        elif x > 13100 and y < 9800:\n",
    "            print(\"champion is safe\")\n",
    "            return True\n",
    "        elif x < 9800 and y > 13200:\n",
    "            print(\"champion is safe\")\n",
    "            return True\n",
    "    print(\"champion is in danger\")\n",
    "    return False\n",
    "    \n",
    "coordinate_set1 = (9000,12500) \n",
    "coordinate_set2 = (14000,7500)\n",
    "coordinate_set3 = (14000,8000)\n",
    "coordinate_set4 = (8000,14000)\n",
    "\n",
    "redCase19(*coordinate_set1)  # should print \"champion is in danger\"\n",
    "redCase19(*coordinate_set2)  # should print \"champion is in danger\"\n",
    "redCase19(*coordinate_set3)  # should print \"champion is safe\"\n",
    "redCase19(*coordinate_set4)  # should print \"champion is safe\""
   ]
  },
  {
   "cell_type": "code",
   "execution_count": 96,
   "id": "756e550c",
   "metadata": {},
   "outputs": [
    {
     "name": "stdout",
     "output_type": "stream",
     "text": [
      "champion is in danger\n",
      "champion is in danger\n",
      "champion is safe\n",
      "champion is safe\n",
      "champion is in danger\n",
      "champion is safe\n"
     ]
    },
    {
     "data": {
      "text/plain": [
       "True"
      ]
     },
     "execution_count": 96,
     "metadata": {},
     "output_type": "execute_result"
    }
   ],
   "source": [
    "def blueCase20(x,y):\n",
    "    \n",
    "    if y<5604 and y<x+1000 and y<(-2.1480295450622*x)+17304.316:\n",
    "        print(\"champion is safe\")\n",
    "        return True\n",
    "    elif x<5200 and y<5200:\n",
    "        print(\"champion is safe\")\n",
    "        return True\n",
    "\n",
    "    print(\"champion is in danger\")\n",
    "    return False\n",
    "\n",
    "coordinate_set1 = (1468,5420)\n",
    "coordinate_set2 = (3717,5520)\n",
    "coordinate_set3 = (5041,5445)\n",
    "coordinate_set4 = (5340,4795)\n",
    "coordinate_set5 = (5890,5195)\n",
    "coordinate_set6 = (5765,3145)\n",
    "\n",
    "\n",
    "\n",
    "blueCase20(*coordinate_set1)  # should print \"champion is in danger\"\n",
    "blueCase20(*coordinate_set2)  # should print \"champion is in danger\"\n",
    "blueCase20(*coordinate_set3)  # should print \"champion is safe\"\n",
    "blueCase20(*coordinate_set4)  # should print \"champion is safe\"\n",
    "blueCase20(*coordinate_set5)  # should print \"champion is in danger\"\n",
    "blueCase20(*coordinate_set6)  # should print \"champion is safe\""
   ]
  },
  {
   "cell_type": "code",
   "execution_count": 97,
   "id": "207ecacc",
   "metadata": {},
   "outputs": [
    {
     "name": "stdout",
     "output_type": "stream",
     "text": [
      "champion is in danger\n",
      "champion is in danger\n",
      "champion is safe\n",
      "champion is safe\n",
      "champion is in danger\n",
      "champion is safe\n"
     ]
    },
    {
     "data": {
      "text/plain": [
       "True"
      ]
     },
     "execution_count": 97,
     "metadata": {},
     "output_type": "execute_result"
    }
   ],
   "source": [
    "def redCase20(x,y):\n",
    "    \n",
    "    if x>9361 and y<x+1000 and y<(-0.3763593030811*x)+12834.5994361426:\n",
    "        print(\"champion is safe\")\n",
    "        return True\n",
    "    elif x>9800 and y>9800:\n",
    "        print(\"champion is safe\")\n",
    "        return True\n",
    "\n",
    "    print(\"champion is in danger\")\n",
    "    return False\n",
    "\n",
    "coordinate_set1 = (1468,5420)\n",
    "coordinate_set2 = (3717,5520)\n",
    "coordinate_set3 = (5041,5445)\n",
    "coordinate_set4 = (5340,4795)\n",
    "coordinate_set5 = (5890,5195)\n",
    "coordinate_set6 = (5765,3145)\n",
    "\n",
    "\n",
    "\n",
    "blueCase20(*coordinate_set1)  # should print \"champion is in danger\"\n",
    "blueCase20(*coordinate_set2)  # should print \"champion is in danger\"\n",
    "blueCase20(*coordinate_set3)  # should print \"champion is safe\"\n",
    "blueCase20(*coordinate_set4)  # should print \"champion is safe\"\n",
    "blueCase20(*coordinate_set5)  # should print \"champion is in danger\"\n",
    "blueCase20(*coordinate_set6)  # should print \"champion is safe\""
   ]
  },
  {
   "cell_type": "code",
   "execution_count": 98,
   "id": "ef901385",
   "metadata": {},
   "outputs": [
    {
     "name": "stdout",
     "output_type": "stream",
     "text": [
      "champion is in danger\n",
      "champion is in danger\n",
      "champion is in danger\n",
      "champion is safe\n",
      "champion is safe\n",
      "champion is safe\n"
     ]
    },
    {
     "data": {
      "text/plain": [
       "True"
      ]
     },
     "execution_count": 98,
     "metadata": {},
     "output_type": "execute_result"
    }
   ],
   "source": [
    "def blueCase21(x,y):\n",
    "    \n",
    "    if x<5447 and y>x-1000 and y<(-0.3983844317973*x)+7774:\n",
    "        print(\"champion is safe\")\n",
    "        return True\n",
    "    elif y<5200 and x<5200:\n",
    "        print(\"champion is safe\")\n",
    "        return True\n",
    "\n",
    "    print(\"champion is in danger\")\n",
    "    return False\n",
    "\n",
    "coordinate_set1 = (5568,2309)\n",
    "coordinate_set2 = (5726,4579)\n",
    "coordinate_set3 = (5000,6000)\n",
    "coordinate_set4 = (3758,2191)\n",
    "coordinate_set5 = (4938,5418)\n",
    "coordinate_set6 = (2144,5969)\n",
    "\n",
    "\n",
    "\n",
    "blueCase21(*coordinate_set1)  # should print \"champion is in danger\"\n",
    "blueCase21(*coordinate_set2)  # should print \"champion is in danger\"\n",
    "blueCase21(*coordinate_set3)  # should print \"champion is in danger\"\n",
    "blueCase21(*coordinate_set4)  # should print \"champion is safe\"\n",
    "blueCase21(*coordinate_set5)  # should print \"champion is safe\"\n",
    "blueCase21(*coordinate_set6)  # should print \"champion is safe\""
   ]
  },
  {
   "cell_type": "code",
   "execution_count": 99,
   "id": "3d34b933",
   "metadata": {},
   "outputs": [
    {
     "name": "stdout",
     "output_type": "stream",
     "text": [
      "champion is in danger\n",
      "champion is in danger\n",
      "champion is in danger\n",
      "champion is in danger\n",
      "champion is safe\n",
      "champion is safe\n"
     ]
    },
    {
     "data": {
      "text/plain": [
       "True"
      ]
     },
     "execution_count": 99,
     "metadata": {},
     "output_type": "execute_result"
    }
   ],
   "source": [
    "def redCase21(x,y):\n",
    "    \n",
    "    if y>9331.5 and y>x-1000 and y>(-2.3536322283176*x)+31343.851:\n",
    "        print(\"champion is safe\")\n",
    "        return True\n",
    "    elif x>9800 and y>9800:\n",
    "        print(\"champion is safe\")\n",
    "        return True\n",
    "\n",
    "    print(\"champion is in danger\")\n",
    "    return False\n",
    "\n",
    "coordinate_set1 = (13584,9431)\n",
    "coordinate_set2 = (10351,9108)\n",
    "coordinate_set3 = (9763,8961)\n",
    "coordinate_set4 = (8441,10284)\n",
    "coordinate_set5 = (9528,10284)\n",
    "coordinate_set6 = (8940,12106)\n",
    "\n",
    "\n",
    "\n",
    "redCase21(*coordinate_set1)  # should print \"champion is in danger\"\n",
    "redCase21(*coordinate_set2)  # should print \"champion is in danger\"\n",
    "redCase21(*coordinate_set3)  # should print \"champion is in danger\"\n",
    "redCase21(*coordinate_set4)  # should print \"champion is in danger\"\n",
    "redCase21(*coordinate_set5)  # should print \"champion is safe\"\n",
    "redCase21(*coordinate_set6)  # should print \"champion is safe\""
   ]
  },
  {
   "cell_type": "code",
   "execution_count": 48,
   "id": "bf041529",
   "metadata": {},
   "outputs": [
    {
     "name": "stdout",
     "output_type": "stream",
     "text": [
      "champion is in danger\n",
      "champion is in danger\n",
      "champion is safe\n",
      "champion is safe\n"
     ]
    },
    {
     "data": {
      "text/plain": [
       "True"
      ]
     },
     "execution_count": 48,
     "metadata": {},
     "output_type": "execute_result"
    }
   ],
   "source": [
    "def blueCase22(x,y):\n",
    "    \n",
    "    if x<11400 and y<5200:\n",
    "        if x>5200 and y<1800:\n",
    "            print(\"champion is safe\")\n",
    "            return True\n",
    "        elif x<5200:\n",
    "            print(\"champion is safe\")\n",
    "            return True\n",
    "    print(\"champion is in danger\")\n",
    "    return False\n",
    "\n",
    "coordinate_set1 = (8735,2583)\n",
    "coordinate_set2 = (5649,3641)\n",
    "coordinate_set3 = (9822,1084)\n",
    "coordinate_set4 = (3532,1378)\n",
    "\n",
    "\n",
    "\n",
    "\n",
    "blueCase22(*coordinate_set1)  # should print \"champion is in danger\"\n",
    "blueCase22(*coordinate_set2)  # should print \"champion is in danger\"\n",
    "blueCase22(*coordinate_set3)  # should print \"champion is safe\"\n",
    "blueCase22(*coordinate_set4)  # should print \"champion is safe\"\n"
   ]
  },
  {
   "cell_type": "code",
   "execution_count": 49,
   "id": "1141fa73",
   "metadata": {},
   "outputs": [
    {
     "name": "stdout",
     "output_type": "stream",
     "text": [
      "champion is in danger\n",
      "champion is in danger\n",
      "champion is safe\n",
      "champion is safe\n",
      "champion is safe\n"
     ]
    },
    {
     "data": {
      "text/plain": [
       "True"
      ]
     },
     "execution_count": 49,
     "metadata": {},
     "output_type": "execute_result"
    }
   ],
   "source": [
    "def redCase22(x,y):\n",
    "    \n",
    "    if y>3000 and x>9800:\n",
    "        if y<9800 and x>13100:\n",
    "            print(\"champion is safe\")\n",
    "            return True\n",
    "        elif y>9800:\n",
    "            print(\"champion is safe\")\n",
    "            return True\n",
    "    print(\"champion is in danger\")\n",
    "    return False\n",
    "\n",
    "coordinate_set1 = (8827,12271)\n",
    "coordinate_set2 = (12409,6608)\n",
    "coordinate_set3 = (13848,5230)\n",
    "coordinate_set4 = (14123,12424)\n",
    "coordinate_set5 = (12286,12639)\n",
    "\n",
    "\n",
    "\n",
    "\n",
    "redCase22(*coordinate_set1)  # should print \"champion is in danger\"\n",
    "redCase22(*coordinate_set2)  # should print \"champion is in danger\"\n",
    "redCase22(*coordinate_set3)  # should print \"champion is safe\"\n",
    "redCase22(*coordinate_set4)  # should print \"champion is safe\"\n",
    "redCase22(*coordinate_set5)  # should print \"champion is safe\""
   ]
  },
  {
   "cell_type": "code",
   "execution_count": 50,
   "id": "89f30d4e",
   "metadata": {},
   "outputs": [
    {
     "name": "stdout",
     "output_type": "stream",
     "text": [
      "champion is in danger\n",
      "champion is in danger\n",
      "champion is safe\n",
      "champion is safe\n"
     ]
    },
    {
     "data": {
      "text/plain": [
       "True"
      ]
     },
     "execution_count": 50,
     "metadata": {},
     "output_type": "execute_result"
    }
   ],
   "source": [
    "def blueCase23(x,y):\n",
    "    \n",
    "    if x<5200 and y<5200:\n",
    "        print(\"champion is safe\")\n",
    "        return True\n",
    "    elif y>5200 and x<1730:\n",
    "        print(\"champion is safe\")\n",
    "        return True\n",
    "    print(\"champion is in danger\")\n",
    "    return False\n",
    "\n",
    "coordinate_set1 = (6000,2000)\n",
    "coordinate_set2 = (4357,6761)\n",
    "coordinate_set3 = (1326,9424)\n",
    "coordinate_set4 = (2612,4526)\n",
    "\n",
    "\n",
    "\n",
    "\n",
    "blueCase23(*coordinate_set1)  # should print \"champion is in danger\"\n",
    "blueCase23(*coordinate_set2)  # should print \"champion is in danger\"\n",
    "blueCase23(*coordinate_set3)  # should print \"champion is safe\"\n",
    "blueCase23(*coordinate_set4)  # should print \"champion is safe\""
   ]
  },
  {
   "cell_type": "code",
   "execution_count": 51,
   "id": "b27ae888",
   "metadata": {},
   "outputs": [
    {
     "name": "stdout",
     "output_type": "stream",
     "text": [
      "champion is in danger\n",
      "champion is safe\n",
      "champion is safe\n"
     ]
    },
    {
     "data": {
      "text/plain": [
       "True"
      ]
     },
     "execution_count": 51,
     "metadata": {},
     "output_type": "execute_result"
    }
   ],
   "source": [
    "def redCase23(x,y):\n",
    "    \n",
    "    if x>9800 and y>9800:\n",
    "        print(\"champion is safe\")\n",
    "        return True\n",
    "    elif x<9800 and y>13200:\n",
    "        print(\"champion is safe\")\n",
    "        return True\n",
    "    print(\"champion is in danger\")\n",
    "    return False\n",
    "\n",
    "coordinate_set1 = (9400,13000)\n",
    "coordinate_set2 = (10000,10000)\n",
    "coordinate_set3 = (9600,13300)\n",
    "\n",
    "\n",
    "\n",
    "\n",
    "\n",
    "redCase23(*coordinate_set1)  # should print \"champion is in danger\"\n",
    "redCase23(*coordinate_set2)  # should print \"champion is safe\"\n",
    "redCase23(*coordinate_set3)  # should print \"champion is safe\"\n"
   ]
  },
  {
   "cell_type": "code",
   "execution_count": 52,
   "id": "59fd92a2",
   "metadata": {},
   "outputs": [
    {
     "name": "stdout",
     "output_type": "stream",
     "text": [
      "champion is in danger\n",
      "champion is in danger\n",
      "champion is safe\n"
     ]
    },
    {
     "data": {
      "text/plain": [
       "True"
      ]
     },
     "execution_count": 52,
     "metadata": {},
     "output_type": "execute_result"
    }
   ],
   "source": [
    "def blueCase24(x,y):\n",
    "    \n",
    "    if x<5200 and y<5200:\n",
    "        print(\"champion is safe\")\n",
    "        return True\n",
    "    elif y<7500 and x<7500 and y<x+1000 and y>x-1000:\n",
    "        print(\"champion is safe\")\n",
    "        return True\n",
    "    print(\"champion is in danger\")\n",
    "    return False\n",
    "\n",
    "coordinate_set1 = (4199,5201)\n",
    "coordinate_set2 = (5201,4199)\n",
    "coordinate_set3 = (7000,7000)\n",
    "\n",
    "\n",
    "\n",
    "\n",
    "\n",
    "blueCase24(*coordinate_set1)  # should print \"champion is in danger\"\n",
    "blueCase24(*coordinate_set2)  # should print \"champion is in danger\"\n",
    "blueCase24(*coordinate_set3)  # should print \"champion is safe\"\n",
    "\n"
   ]
  },
  {
   "cell_type": "code",
   "execution_count": 53,
   "id": "64c7c0e9",
   "metadata": {},
   "outputs": [
    {
     "name": "stdout",
     "output_type": "stream",
     "text": [
      "champion is safe\n",
      "champion is in danger\n",
      "champion is safe\n"
     ]
    },
    {
     "data": {
      "text/plain": [
       "True"
      ]
     },
     "execution_count": 53,
     "metadata": {},
     "output_type": "execute_result"
    }
   ],
   "source": [
    "def redCase24(x,y):\n",
    "    \n",
    "    if x>9800 and y>9800:\n",
    "        print(\"champion is safe\")\n",
    "        return True\n",
    "    elif y>7500 and x>7500 and y<x+1000 and y>x-1000:\n",
    "        print(\"champion is safe\")\n",
    "        return True\n",
    "    print(\"champion is in danger\")\n",
    "    return False\n",
    "\n",
    "coordinate_set1 = (10000,10000)\n",
    "coordinate_set2 = (8000,10000)\n",
    "coordinate_set3 = (8000,8000)\n",
    "\n",
    "\n",
    "\n",
    "\n",
    "\n",
    "redCase24(*coordinate_set1)  # should print \"champion is safe\"\n",
    "redCase24(*coordinate_set2)  # should print \"champion is in danger\"\n",
    "redCase24(*coordinate_set3)  # should print \"champion is safe\"\n"
   ]
  },
  {
   "cell_type": "code",
   "execution_count": 54,
   "id": "b7c022a8",
   "metadata": {},
   "outputs": [
    {
     "name": "stdout",
     "output_type": "stream",
     "text": [
      "champion is in danger\n",
      "champion is in danger\n",
      "champion is safe\n",
      "champion is safe\n"
     ]
    },
    {
     "data": {
      "text/plain": [
       "True"
      ]
     },
     "execution_count": 54,
     "metadata": {},
     "output_type": "execute_result"
    }
   ],
   "source": [
    "def blueCase25(x,y):\n",
    "    if x<5200 and y<5200:\n",
    "        print(\"champion is safe\")\n",
    "        return True\n",
    "    if 7500>x>5200 and y<1800:\n",
    "        print(\"champion is safe\")\n",
    "        return True\n",
    "    print(\"champion is in danger\")\n",
    "    return False\n",
    "\n",
    "\n",
    "coordinate_set1 = (4199,5201)\n",
    "coordinate_set2 = (6000,2000)\n",
    "coordinate_set3 = (6000,1000)\n",
    "coordinate_set4 = (2000,2000)\n",
    "\n",
    "\n",
    "\n",
    "\n",
    "blueCase25(*coordinate_set1)  # should print \"champion is in danger\"\n",
    "blueCase25(*coordinate_set2)  # should print \"champion is in danger\"\n",
    "blueCase25(*coordinate_set3)  # should print \"champion is safe\"\n",
    "blueCase25(*coordinate_set4)  # should print \"champion is safe\"\n"
   ]
  },
  {
   "cell_type": "code",
   "execution_count": 55,
   "id": "48ece4e6",
   "metadata": {},
   "outputs": [
    {
     "name": "stdout",
     "output_type": "stream",
     "text": [
      "champion is in danger\n",
      "champion is in danger\n",
      "champion is safe\n",
      "champion is safe\n"
     ]
    },
    {
     "data": {
      "text/plain": [
       "True"
      ]
     },
     "execution_count": 55,
     "metadata": {},
     "output_type": "execute_result"
    }
   ],
   "source": [
    "def redCase25(x,y):\n",
    "    if x>9800 and y>9800:\n",
    "        print(\"champion is safe\")\n",
    "        return True\n",
    "    if 9800>y>7500 and x>13100:\n",
    "        print(\"champion is safe\")\n",
    "        return True\n",
    "    print(\"champion is in danger\")\n",
    "    return False\n",
    "\n",
    "\n",
    "coordinate_set1 = (4199,5201)\n",
    "coordinate_set2 = (6000,2000)\n",
    "coordinate_set3 = (10000,10000)\n",
    "coordinate_set4 = (13200,8000)\n",
    "\n",
    "\n",
    "\n",
    "\n",
    "redCase25(*coordinate_set1)  # should print \"champion is in danger\"\n",
    "redCase25(*coordinate_set2)  # should print \"champion is in danger\"\n",
    "redCase25(*coordinate_set3)  # should print \"champion is safe\"\n",
    "redCase25(*coordinate_set4)  # should print \"champion is safe\""
   ]
  },
  {
   "cell_type": "code",
   "execution_count": 56,
   "id": "083c1f36",
   "metadata": {},
   "outputs": [
    {
     "name": "stdout",
     "output_type": "stream",
     "text": [
      "champion is in danger\n",
      "champion is in danger\n",
      "champion is safe\n",
      "champion is safe\n"
     ]
    },
    {
     "data": {
      "text/plain": [
       "True"
      ]
     },
     "execution_count": 56,
     "metadata": {},
     "output_type": "execute_result"
    }
   ],
   "source": [
    "def blueCase26(x,y):\n",
    "    if x<5200 and y<5200:\n",
    "        print(\"champion is safe\")\n",
    "        return True\n",
    "    if 7500>y>5200 and x<1730:\n",
    "        print(\"champion is safe\")\n",
    "        return True\n",
    "    print(\"champion is in danger\")\n",
    "    return False\n",
    "\n",
    "\n",
    "coordinate_set1 = (4199,5201)\n",
    "coordinate_set2 = (2000,6000)\n",
    "coordinate_set3 = (1000,6000)\n",
    "coordinate_set4 = (2000,2000)\n",
    "\n",
    "\n",
    "\n",
    "\n",
    "blueCase26(*coordinate_set1)  # should print \"champion is in danger\"\n",
    "blueCase26(*coordinate_set2)  # should print \"champion is in danger\"\n",
    "blueCase26(*coordinate_set3)  # should print \"champion is safe\"\n",
    "blueCase26(*coordinate_set4)  # should print \"champion is safe\""
   ]
  },
  {
   "cell_type": "code",
   "execution_count": 57,
   "id": "f510320f",
   "metadata": {},
   "outputs": [
    {
     "name": "stdout",
     "output_type": "stream",
     "text": [
      "champion is in danger\n",
      "champion is in danger\n",
      "champion is safe\n",
      "champion is safe\n"
     ]
    },
    {
     "data": {
      "text/plain": [
       "True"
      ]
     },
     "execution_count": 57,
     "metadata": {},
     "output_type": "execute_result"
    }
   ],
   "source": [
    "def redCase26(x,y):\n",
    "    if x>9800 and y>9800:\n",
    "        print(\"champion is safe\")\n",
    "        return True\n",
    "    if 9800>x>7500 and y>13200:\n",
    "        print(\"champion is safe\")\n",
    "        return True\n",
    "    print(\"champion is in danger\")\n",
    "    return False\n",
    "\n",
    "\n",
    "coordinate_set1 = (4199,5201)\n",
    "coordinate_set2 = (6000,2000)\n",
    "coordinate_set3 = (10000,10000)\n",
    "coordinate_set4 = (8000,13300)\n",
    "\n",
    "\n",
    "\n",
    "\n",
    "redCase26(*coordinate_set1)  # should print \"champion is in danger\"\n",
    "redCase26(*coordinate_set2)  # should print \"champion is in danger\"\n",
    "redCase26(*coordinate_set3)  # should print \"champion is safe\"\n",
    "redCase26(*coordinate_set4)  # should print \"champion is safe\""
   ]
  },
  {
   "cell_type": "code",
   "execution_count": 2,
   "id": "04f03c03",
   "metadata": {},
   "outputs": [
    {
     "name": "stdout",
     "output_type": "stream",
     "text": [
      "champion is in danger\n",
      "champion is safe\n",
      "champion is safe\n"
     ]
    },
    {
     "data": {
      "text/plain": [
       "True"
      ]
     },
     "execution_count": 2,
     "metadata": {},
     "output_type": "execute_result"
    }
   ],
   "source": [
    "def blueCase27(x,y):\n",
    "    if x<5447 and y<5604:\n",
    "        if x<5200 and y<5200:\n",
    "            print(\"champion is safe\")\n",
    "            return True\n",
    "        elif x>5200 or y>5200:\n",
    "            if y<x+1000 and y>x-1000:\n",
    "                print(\"champion is safe\")\n",
    "                return True\n",
    "            \n",
    "    print(\"champion is in danger\")\n",
    "    return False\n",
    "    \n",
    "                \n",
    "coordinate_set1 = (5201,6500)\n",
    "coordinate_set2 = (5440,5201)\n",
    "coordinate_set3 = (5300,5310)\n",
    "\n",
    "blueCase27(*coordinate_set1)  # should print \"champion is in danger\"\n",
    "blueCase27(*coordinate_set2)  # should print \"champion is safe\"\n",
    "blueCase27(*coordinate_set3)  # should print \"champion is safe\"\n",
    "            "
   ]
  },
  {
   "cell_type": "code",
   "execution_count": 5,
   "id": "e99f5746",
   "metadata": {},
   "outputs": [
    {
     "name": "stdout",
     "output_type": "stream",
     "text": [
      "champion is in danger\n",
      "champion is safe\n",
      "champion is safe\n"
     ]
    },
    {
     "data": {
      "text/plain": [
       "True"
      ]
     },
     "execution_count": 5,
     "metadata": {},
     "output_type": "execute_result"
    }
   ],
   "source": [
    "def redCase27(x,y):\n",
    "    if x>9361 and y>9311.5:\n",
    "        if x>9800 and y>9800:\n",
    "            print(\"champion is safe\")\n",
    "            return True\n",
    "        elif x<9800 or y<9800:\n",
    "            if y<x+1000 and y>x-1000:\n",
    "                print(\"champion is safe\")\n",
    "                return True\n",
    "            \n",
    "    print(\"champion is in danger\")\n",
    "    return False\n",
    "    \n",
    "                \n",
    "coordinate_set1 = (9300,9300)\n",
    "coordinate_set2 = (9700,9700)\n",
    "coordinate_set3 = (9799,9312)\n",
    "\n",
    "\n",
    "redCase27(*coordinate_set1)  # should print \"champion is in danger\"\n",
    "redCase27(*coordinate_set2)  # should print \"champion is safe\"\n",
    "redCase27(*coordinate_set3)  # should print \"champion is safe\"\n",
    "            "
   ]
  },
  {
   "cell_type": "code",
   "execution_count": null,
   "id": "c9dc9e9c",
   "metadata": {},
   "outputs": [],
   "source": [
    "def blueCase27(x,y):\n",
    "    if x < 5447 and y < 5604:\n",
    "        if x < 5200 and y < 5200:\n",
    "            print(\"champion is safe\")\n",
    "            return True\n",
    "        elif "
   ]
  }
 ],
 "metadata": {
  "kernelspec": {
   "display_name": "Python 3 (ipykernel)",
   "language": "python",
   "name": "python3"
  },
  "language_info": {
   "codemirror_mode": {
    "name": "ipython",
    "version": 3
   },
   "file_extension": ".py",
   "mimetype": "text/x-python",
   "name": "python",
   "nbconvert_exporter": "python",
   "pygments_lexer": "ipython3",
   "version": "3.11.5"
  }
 },
 "nbformat": 4,
 "nbformat_minor": 5
}
