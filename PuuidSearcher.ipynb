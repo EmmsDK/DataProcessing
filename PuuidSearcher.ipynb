{
 "cells": [
  {
   "cell_type": "code",
   "execution_count": 1,
   "id": "c4860e9a",
   "metadata": {},
   "outputs": [],
   "source": [
    "import os\n",
    "import pandas as pd\n",
    "import json\n",
    "import pprint\n",
    "import re\n",
    "import nbformat\n",
    "\n",
    "from collections import defaultdict"
   ]
  },
  {
   "cell_type": "code",
   "execution_count": 75,
   "id": "fe46883a",
   "metadata": {},
   "outputs": [],
   "source": [
    "# Read the JSON file\n",
    "with open(\"../DataProcessing/TestData/message.json\", \"r\") as file:\n",
    "    data = json.load(file)\n",
    "    \n",
    "# Access the 'participants' array within 'metadata'\n",
    "participantsData = data['metadata']['participants']\n",
    "participantFrames = [frame['participantFrames'] for frame in framesData]\n",
    "\n",
    "# Access the 'frames' array within 'metadata'\n",
    "framesData = data['info']['frames']\n",
    "\n",
    "# Create dictionaries to store the counts and most mentioned names for each ID\n",
    "championCountsDict = defaultdict(lambda: defaultdict(int))\n",
    "namesDict = defaultdict(list)\n",
    "\n",
    "mostMentionedNamesDict = {}\n",
    "participantData = []\n",
    "participantChampionMapping = {}\n"
   ]
  },
  {
   "cell_type": "code",
   "execution_count": 32,
   "id": "24e58573",
   "metadata": {},
   "outputs": [],
   "source": [
    "targetPuuid = '92u7ZxgOLcJuu0VAAcp86ucO0c8ITXLkCilyh7PvlLr3D-D_9MGkWRVNLkzdgU-_GRMQLV7WstNILQ'"
   ]
  },
  {
   "cell_type": "code",
   "execution_count": 39,
   "id": "db042165",
   "metadata": {},
   "outputs": [],
   "source": [
    "# Function to calculate champion counts\n",
    "def calculateChampionCounts(data):\n",
    "    championCountsDict = {}\n",
    "    namesDict = {}\n",
    "\n",
    "    if 'info' in data and 'frames' in data['info']:\n",
    "        for frame in data['info']['frames']:\n",
    "            for event in frame.get('events', []):\n",
    "                if event['type'] == 'CHAMPION_KILL':\n",
    "                    killerId = int(event.get('killerId'))\n",
    "                    victimId = int(event.get('victimId'))\n",
    "\n",
    "                    if killerId not in championCountsDict:\n",
    "                        championCountsDict[killerId] = {}\n",
    "                        namesDict[killerId] = []\n",
    "\n",
    "                    if victimId not in championCountsDict:\n",
    "                        championCountsDict[victimId] = {}\n",
    "                        namesDict[victimId] = []\n",
    "\n",
    "                    # Find the killer's and victim's participant data\n",
    "                    killerNames = [victim.get('name') for victim in event.get('victimDamageReceived', [])]\n",
    "                    victimNames = [killer.get('name') for killer in event.get('victimDamageDealt', [])]\n",
    "\n",
    "                    # Use the last name mentioned as the killer name\n",
    "                    if killerNames:\n",
    "                        killerName = killerNames[-1]\n",
    "                        if killerName not in championCountsDict[killerId]:\n",
    "                            championCountsDict[killerId][killerName] = 1\n",
    "                        else:\n",
    "                            championCountsDict[killerId][killerName] += 1\n",
    "                        namesDict[killerId].append(killerName)\n",
    "\n",
    "                    # Use the last name mentioned as the victim name\n",
    "                    if victimNames:\n",
    "                        victimName = victimNames[-1]\n",
    "                        if victimName not in championCountsDict[victimId]:\n",
    "                            championCountsDict[victimId][victimName] = 1\n",
    "                        else:\n",
    "                            championCountsDict[victimId][victimName] += 1\n",
    "                        namesDict[victimId].append(victimName)\n",
    "\n",
    "    return championCountsDict, namesDict\n",
    "\n",
    "def calculateMostMentionedChampionNames(data):\n",
    "    # Calculate champion counts\n",
    "    championCountsDict, namesDict = calculateChampionCounts(data)\n",
    "\n",
    "    # Process the counts and choose the most mentioned champion name for each ID\n",
    "    mostMentionedNamesDict = {}\n",
    "    for participantId, championCounts in championCountsDict.items():\n",
    "        mostMentionedChampion = max(championCounts, key=championCounts.get)\n",
    "        mostMentionedNamesDict[participantId] = mostMentionedChampion\n",
    "        count = championCounts[mostMentionedChampion]\n",
    "        names = namesDict[participantId]\n",
    "\n",
    "    return mostMentionedNamesDict\n",
    "\n",
    "mostMentionedNamesDict = calculateMostMentionedChampionNames(data)\n",
    "#mostMentionedNamesDict\n"
   ]
  },
  {
   "cell_type": "code",
   "execution_count": 58,
   "id": "c6c6cb40",
   "metadata": {},
   "outputs": [
    {
     "data": {
      "text/plain": [
       "[2,\n",
       " '92u7ZxgOLcJuu0VAAcp86ucO0c8ITXLkCilyh7PvlLr3D-D_9MGkWRVNLkzdgU-_GRMQLV7WstNILQ',\n",
       " 'MasterYi']"
      ]
     },
     "execution_count": 58,
     "metadata": {},
     "output_type": "execute_result"
    }
   ],
   "source": [
    "def addParticipantData(participantId, puuid, championName):  # add championName\n",
    "    participantData.append([participantId, puuid, championName])  # add championName\n",
    "\n",
    "def findParticipantData(data):\n",
    "    if 'info' in data and 'participants' in data['info']:\n",
    "        for participant in data['info']['participants']:\n",
    "            participantId = participant['participantId']\n",
    "            puuid = participant['puuid']\n",
    "            \n",
    "            championName = mostMentionedNamesDict[participantId]\n",
    "            addParticipantData(participantId, puuid, championName)\n",
    "\n",
    "findParticipantData(data)\n",
    "\n",
    "participantData[1]\n"
   ]
  },
  {
   "cell_type": "code",
   "execution_count": 44,
   "id": "9bed2910",
   "metadata": {},
   "outputs": [
    {
     "name": "stdout",
     "output_type": "stream",
     "text": [
      "Participant ID: 2, Champion: MasterYi\n"
     ]
    }
   ],
   "source": [
    "def findParticipantByPuuid(participantData, targetPuuid):\n",
    "    for entry in participantData:\n",
    "        participantId, puuid, championName = entry\n",
    "        if puuid == targetPuuid:\n",
    "            return participantId, championName\n",
    "    return None, None\n",
    "\n",
    "# Example usage:\n",
    "# Assuming 'targetPuuid' is the Puuid you want to find\n",
    "targetParticipantId, targetChampionName = findParticipantByPuuid(participantData, targetPuuid)\n",
    "\n",
    "if targetParticipantId is not None:\n",
    "    print(f\"Participant ID: {targetParticipantId}, Champion: {targetChampionName}\")\n",
    "else:\n",
    "    print(\"Participant not found.\")"
   ]
  },
  {
   "cell_type": "code",
   "execution_count": null,
   "id": "c8dc2c23",
   "metadata": {},
   "outputs": [],
   "source": []
  },
  {
   "cell_type": "code",
   "execution_count": 62,
   "id": "0c20b70a",
   "metadata": {},
   "outputs": [],
   "source": [
    "def excludeColumns(data, columnsToExclude=None, displayNoZero=False):\n",
    "    # Exclude specified columns\n",
    "    excludedData = {}\n",
    "\n",
    "    for key, value in data.items():\n",
    "        if key in columnsToExclude:\n",
    "            continue  # Skip excluded columns\n",
    "        elif isinstance(value, dict):\n",
    "            # Recursively exclude columns within nested dictionaries\n",
    "            excludedData[key] = excludeColumns(value, columnsToExclude, displayNoZero)\n",
    "        else:\n",
    "            excludedData[key] = value\n",
    "\n",
    "    return excludedData\n",
    "\n",
    "def displayNonZeroParams(participantFrame, displayNoZero=False, indent=''):\n",
    "    # Iterate through the participant frame's items\n",
    "    for key, value in participantFrame.items():\n",
    "        if isinstance(value, dict):\n",
    "            # If the value is a nested dictionary, iterate through its items\n",
    "            print(f\"{indent}{key}:\")\n",
    "            displayNonZeroParams(value, displayNoZero, indent + '  ')\n",
    "        elif isinstance(value, (int, float)) and (not displayNoZero or value != 0):\n",
    "            # Display the parameter if it's a numeric value and not zero\n",
    "            print(f\"{indent}  {key}: {value}\")"
   ]
  },
  {
   "cell_type": "code",
   "execution_count": 90,
   "id": "aaf5716c",
   "metadata": {
    "scrolled": false
   },
   "outputs": [
    {
     "name": "stdout",
     "output_type": "stream",
     "text": [
      "Timestamp at minute 2: 120031\n",
      "championStats:\n",
      "    armor: 36\n",
      "    attackDamage: 71\n",
      "    attackSpeed: 111\n",
      "    ccReduction: 5\n",
      "    health: 242\n",
      "    healthMax: 763\n",
      "    healthRegen: 23\n",
      "    magicResist: 33\n",
      "    movementSpeed: 355\n",
      "    power: 261\n",
      "    powerMax: 281\n",
      "    powerRegen: 23\n",
      "  currentGold: 161\n",
      "damageStats:\n",
      "    totalDamageDone: 3145\n",
      "    totalDamageTaken: 949\n",
      "  jungleMinionsKilled: 4\n",
      "  level: 2\n",
      "  participantId: 2\n",
      "position:\n",
      "    x: 7927\n",
      "    y: 2312\n",
      "  totalGold: 611\n",
      "  xp: 325\n",
      "\n",
      "---\n",
      "\n"
     ]
    }
   ],
   "source": [
    "def getParticipantDataAtMinute(data, participantId, targetMinute, columnsToExclude=None, displayNoZero=False):\n",
    "    timestampData = []\n",
    "\n",
    "    # Check if there are frames in the data\n",
    "    if 'info' in data and 'frames' in data['info']:\n",
    "        for frame in data['info']['frames']:\n",
    "            timestamp = frame['timestamp']\n",
    "            currentMinute = round(timestamp / 60000)  # Convert milliseconds to minutes and round to the nearest minute\n",
    "\n",
    "            if currentMinute == targetMinute:\n",
    "                participantFrames = frame.get('participantFrames', {})\n",
    "                if participantId in participantFrames:\n",
    "                    participantData = participantFrames[participantId]\n",
    "                    timestampData.append([timestamp, participantData])\n",
    "\n",
    "                    # Call the excludeColumns method\n",
    "                    excludedData = excludeColumns(participantData, columnsToExclude, displayNoZero)\n",
    "\n",
    "                    # Display either the original data or the excluded data based on your requirement\n",
    "                    if displayNoZero:\n",
    "                        print(f\"Timestamp at minute {targetMinute}: {timestamp}\")\n",
    "                        displayNonZeroParams(excludedData, displayNoZero)\n",
    "                        print(\"\\n---\\n\")\n",
    "                    else:\n",
    "                        print(f\"Timestamp at minute {targetMinute}: {timestamp}\")\n",
    "                        displayNonZeroParams(participantData, displayNoZero)\n",
    "                        print(\"\\n---\\n\")\n",
    "    return timestampData\n",
    "\n",
    "desiredParticipantId = (f\"{targetParticipantId}\")\n",
    "desiredMinute = 2 \n",
    "columnsToExclude = ['magicDamageDone', 'magicDamageDoneToChampions', 'magicDamageTaken', \n",
    "                    'physicalDamageDone', 'physicalDamageDoneToChampions', 'physicalDamageTaken', \n",
    "                    'trueDamageDone', 'trueDamageDoneToChampions', 'trueDamageTaken', 'timeEnemySpentControlled']\n",
    "\n",
    "# Call the function with displayNoZero set to True\n",
    "result = getParticipantDataAtMinute(data, desiredParticipantId, desiredMinute, columnsToExclude=columnsToExclude, displayNoZero=True)\n"
   ]
  },
  {
   "cell_type": "code",
   "execution_count": null,
   "id": "c0cd5a35",
   "metadata": {},
   "outputs": [],
   "source": []
  }
 ],
 "metadata": {
  "kernelspec": {
   "display_name": "Python 3 (ipykernel)",
   "language": "python",
   "name": "python3"
  },
  "language_info": {
   "codemirror_mode": {
    "name": "ipython",
    "version": 3
   },
   "file_extension": ".py",
   "mimetype": "text/x-python",
   "name": "python",
   "nbconvert_exporter": "python",
   "pygments_lexer": "ipython3",
   "version": "3.11.5"
  }
 },
 "nbformat": 4,
 "nbformat_minor": 5
}
