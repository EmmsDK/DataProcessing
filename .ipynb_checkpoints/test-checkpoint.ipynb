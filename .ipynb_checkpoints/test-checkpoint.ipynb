{
 "cells": [
  {
   "cell_type": "code",
   "execution_count": 59,
   "id": "d2d23803",
   "metadata": {},
   "outputs": [],
   "source": [
    "import os\n",
    "import pandas as pd\n",
    "import json\n",
    "import pprint"
   ]
  },
  {
   "cell_type": "code",
   "execution_count": 45,
   "id": "38ca6a7a",
   "metadata": {},
   "outputs": [
    {
     "name": "stdout",
     "output_type": "stream",
     "text": [
      "GitHub\\DataProcessing\n"
     ]
    }
   ],
   "source": [
    "# Define the path\n",
    "path = os.path.join(\"GitHub\", \"DataProcessing\")\n",
    "\n",
    "# Print the path\n",
    "print(path)\n"
   ]
  },
  {
   "cell_type": "code",
   "execution_count": 46,
   "id": "8d4c6032",
   "metadata": {},
   "outputs": [
    {
     "data": {
      "text/plain": [
       "'C:\\\\Users\\\\HP4\\\\Documents\\\\GitHub\\\\DataProcessing'"
      ]
     },
     "execution_count": 46,
     "metadata": {},
     "output_type": "execute_result"
    }
   ],
   "source": [
    "pwd"
   ]
  },
  {
   "cell_type": "code",
   "execution_count": 47,
   "id": "9eb71c65",
   "metadata": {},
   "outputs": [],
   "source": [
    "td = pd.read_json(\"..\\DataProcessing\\TestData\\message.json\", orient='index')"
   ]
  },
  {
   "cell_type": "code",
   "execution_count": 48,
   "id": "2c732000",
   "metadata": {},
   "outputs": [],
   "source": [
    "# Read the JSON file\n",
    "with open(\"../DataProcessing/TestData/message.json\", \"r\") as file:\n",
    "    data = json.load(file)"
   ]
  },
  {
   "cell_type": "code",
   "execution_count": 49,
   "id": "d4e486fc",
   "metadata": {},
   "outputs": [],
   "source": [
    "# Access the 'participants' array within 'metadata'\n",
    "participants_data = data['metadata']['participants']"
   ]
  },
  {
   "cell_type": "code",
   "execution_count": 50,
   "id": "931f6b66",
   "metadata": {},
   "outputs": [
    {
     "data": {
      "text/plain": [
       "['NLZhdGCfh-EgdvaODKW2IlCFzJBMtE4Dr9SFgKNpE1UC6GDNH2u2TQmGZoqSLXcVjo-erCaRQVV0cQ',\n",
       " 'e6ylmdQQ4duD1FiYOobv17qzXYu6XchO202NDSams_hy9vjqo6OGhQ-ZYQ-BRxYj3VQBM9OL4GgBCQ',\n",
       " 'YU0XGLSQUAUVo84CsvBu30_RXIxeD7z4zBSEcMh1_bqzPouK2qFp2uw7bHf4-saC51r0Ku_s_iUdtg',\n",
       " 'nyoOwqqXpNppmCrxF5iIF7ffZFGneTRIutbOEQW_zabC7_Y40RpQCbhjiBHs6HPm1ctg0DF_BfW6wA',\n",
       " 'JuMCLYzVY3lSnowwPjnaNPmnRGH3_cZjDy8g0o48igW4nmdbh9GsLGPERJ6_RMqlKaKcIwaCnsnztw',\n",
       " 'AvE_7XIffRXwZBYewxYx3FmbqUXaaPp_HNx-UT6We87i_eypUgdN8hweePAHcaHLDu5O-j8FGAWTLg',\n",
       " 'MUS3ZOtg7DIlTMUINCtrS7YQm9U32OObZILB0NvwRJWgohjjS3A7DCyunZUXRbnHfgXNsBKFQmPwog',\n",
       " 'yA7wixDdxnApgYiouTMkmX-AizkZVfFes4y5T0fdO6P9zbsggcKxcYMFoIhFb8BX3kI38Bfpn5tMyw',\n",
       " 'emMBZVuJBL5oT7hY-6mks2QJ8hU4SsDzuvb4H88S-crdSkRImZKfS03ZsTlNqyzG7TUKMpS9G_8vBg',\n",
       " 'Kk02uIvpqmoz8gotv2KKVZwwtQmdcU8MFl7Menfd9cFFzO9fgLfe1wVbfHIsSVohw8n4t0EWaVVhrQ']"
      ]
     },
     "execution_count": 50,
     "metadata": {},
     "output_type": "execute_result"
    }
   ],
   "source": [
    "# Process the participants list\n",
    "participants_list = participants_data  # No need to modify or split if participants_data is already a list\n",
    "participants_list"
   ]
  },
  {
   "cell_type": "code",
   "execution_count": 66,
   "id": "6ff008dc",
   "metadata": {},
   "outputs": [
    {
     "name": "stdout",
     "output_type": "stream",
     "text": [
      "{'championStats': {'abilityHaste': 0,\n",
      "                   'abilityPower': 0,\n",
      "                   'armor': 37,\n",
      "                   'armorPen': 0,\n",
      "                   'armorPenPercent': 0,\n",
      "                   'attackDamage': 25,\n",
      "                   'attackSpeed': 100,\n",
      "                   'bonusArmorPenPercent': 0,\n",
      "                   'bonusMagicPenPercent': 0,\n",
      "                   'ccReduction': 0,\n",
      "                   'cooldownReduction': 0,\n",
      "                   'health': 686,\n",
      "                   'healthMax': 686,\n",
      "                   'healthRegen': 0,\n",
      "                   'lifesteal': 0,\n",
      "                   'magicPen': 0,\n",
      "                   'magicPenPercent': 0,\n",
      "                   'magicResist': 32,\n",
      "                   'movementSpeed': 350,\n",
      "                   'omnivamp': 0,\n",
      "                   'physicalVamp': 0,\n",
      "                   'power': 340,\n",
      "                   'powerMax': 340,\n",
      "                   'powerRegen': 0,\n",
      "                   'spellVamp': 0},\n",
      " 'currentGold': 500,\n",
      " 'damageStats': {'magicDamageDone': 0,\n",
      "                 'magicDamageDoneToChampions': 0,\n",
      "                 'magicDamageTaken': 0,\n",
      "                 'physicalDamageDone': 0,\n",
      "                 'physicalDamageDoneToChampions': 0,\n",
      "                 'physicalDamageTaken': 0,\n",
      "                 'totalDamageDone': 0,\n",
      "                 'totalDamageDoneToChampions': 0,\n",
      "                 'totalDamageTaken': 0,\n",
      "                 'trueDamageDone': 0,\n",
      "                 'trueDamageDoneToChampions': 0,\n",
      "                 'trueDamageTaken': 0},\n",
      " 'goldPerSecond': 0,\n",
      " 'jungleMinionsKilled': 0,\n",
      " 'level': 1,\n",
      " 'minionsKilled': 0,\n",
      " 'participantId': 1,\n",
      " 'position': {'x': 554, 'y': 581},\n",
      " 'timeEnemySpentControlled': 0,\n",
      " 'totalGold': 500,\n",
      " 'xp': 0}\n"
     ]
    }
   ],
   "source": [
    "participant_id = \"1\" \n",
    "timestamp = 0\n",
    "#timestamp = 60001\n",
    "#timestamp = 120001\n",
    "#timestamp = 180012\n",
    "#timestamp = 240035\n",
    "#timestamp = 300062\n",
    "#timestamp = 360091\n",
    "#timestamp = 420107\n",
    "#timestamp = 480111\n",
    "#timestamp = 540111\n",
    "#timestamp = 600131\n",
    "#timestamp = 660132\n",
    "#timestamp = 720156\n",
    "#timestamp = 780200\n",
    "#timestamp = 840218\n",
    "#timestamp = 900236\n",
    "#timestamp = 960261\n",
    "#timestamp = 1020280\n",
    "#timestamp = 1080284\n",
    "#timestamp = 1140288\n",
    "#timestamp = 1200312\n",
    "#timestamp = 1260326\n",
    "#timestamp = 1320346\n",
    "#timestamp = 1380354\n",
    "#timestamp = 1440358\n",
    "#timestamp = 1500370\n",
    "#timestamp =\n",
    "#timestamp =\n",
    "#timestamp =\n",
    "#timestamp =\n",
    "#timestamp =\n",
    "#timestamp =\n",
    "#timestamp =\n",
    "\n",
    "\n",
    "\n",
    "\n",
    "\n",
    "participant_frame = data['info']['frames'][timestamp]['participantFrames'][participant_id]\n",
    "\n",
    "        \n",
    "pprint.pprint(participant_frame)\n"
   ]
  },
  {
   "cell_type": "code",
   "execution_count": 61,
   "id": "9ab47bb7",
   "metadata": {},
   "outputs": [
    {
     "name": "stdout",
     "output_type": "stream",
     "text": [
      "championStats:\n",
      "armor: 37\n",
      "attackDamage: 25\n",
      "attackSpeed: 100\n",
      "health: 686\n",
      "healthMax: 686\n",
      "magicResist: 32\n",
      "movementSpeed: 350\n",
      "power: 340\n",
      "powerMax: 340\n",
      "currentGold: 500\n",
      "damageStats:\n",
      "level: 1\n",
      "participantId: 1\n",
      "position:\n",
      "x: 554\n",
      "y: 581\n",
      "totalGold: 500\n"
     ]
    }
   ],
   "source": [
    "def display_nonzero_params(participant_frame):\n",
    "    # Iterate through the participant frame's items\n",
    "    for key, value in participant_frame.items():\n",
    "        if isinstance(value, dict):\n",
    "            print(f\"{key}:\")\n",
    "            # If the value is a nested dictionary, iterate through its items\n",
    "            display_nonzero_params(value)\n",
    "        elif isinstance(value, (int, float)) and value != 0:\n",
    "            # Display the parameter if it's a numeric value and not zero\n",
    "            print(f\"{key}: {value}\")\n",
    "\n",
    "# Call the function to display nonzero parameters\n",
    "display_nonzero_params(participant_frame)\n"
   ]
  },
  {
   "cell_type": "code",
   "execution_count": null,
   "id": "4758beff",
   "metadata": {},
   "outputs": [],
   "source": []
  }
 ],
 "metadata": {
  "kernelspec": {
   "display_name": "Python 3 (ipykernel)",
   "language": "python",
   "name": "python3"
  },
  "language_info": {
   "codemirror_mode": {
    "name": "ipython",
    "version": 3
   },
   "file_extension": ".py",
   "mimetype": "text/x-python",
   "name": "python",
   "nbconvert_exporter": "python",
   "pygments_lexer": "ipython3",
   "version": "3.11.5"
  }
 },
 "nbformat": 4,
 "nbformat_minor": 5
}
