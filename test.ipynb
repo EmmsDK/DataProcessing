{
 "cells": [
  {
   "cell_type": "code",
   "execution_count": 1,
   "id": "d2d23803",
   "metadata": {},
   "outputs": [],
   "source": [
    "import os\n",
    "import pandas as pd\n",
    "import json\n",
    "import pprint\n",
    "import re\n",
    "import nbformat"
   ]
  },
  {
   "cell_type": "code",
   "execution_count": 2,
   "id": "38ca6a7a",
   "metadata": {},
   "outputs": [],
   "source": [
    "# Define the path\n",
    "#path = os.path.join(\"GitHub\", \"DataProcessing\")\n",
    "\n",
    "# Print the path\n",
    "#print(path)"
   ]
  },
  {
   "cell_type": "code",
   "execution_count": 3,
   "id": "8d4c6032",
   "metadata": {},
   "outputs": [],
   "source": [
    "#pwd"
   ]
  },
  {
   "cell_type": "code",
   "execution_count": 4,
   "id": "9eb71c65",
   "metadata": {},
   "outputs": [],
   "source": [
    "#td = pd.read_json(\"..\\DataProcessing\\TestData\\message.json\", orient='index')"
   ]
  },
  {
   "cell_type": "code",
   "execution_count": 5,
   "id": "2c732000",
   "metadata": {},
   "outputs": [],
   "source": [
    "# Read the JSON file\n",
    "with open(\"../DataProcessing/TestData/message.json\", \"r\") as file:\n",
    "    data = json.load(file)"
   ]
  },
  {
   "cell_type": "code",
   "execution_count": 6,
   "id": "d4e486fc",
   "metadata": {},
   "outputs": [
    {
     "data": {
      "text/plain": [
       "['NLZhdGCfh-EgdvaODKW2IlCFzJBMtE4Dr9SFgKNpE1UC6GDNH2u2TQmGZoqSLXcVjo-erCaRQVV0cQ',\n",
       " 'vfktkyVovXtnWWgFEDKxdtfJFVHSV3tAJeoT_UjbZB8TlE8tyVYLyC23nudviaAwk0c6AkFGGTYJhQ',\n",
       " 'O9jmQXkdmuplQq2s4YGCd-x2VnJetyQ7ssrBczKK-xwT0PYaVpMyOWIHX_iIIznvHmk0M5_uE_CRzw',\n",
       " 'HHVQBTfTWCQzCredc0AtS4BotTQqhQhK_7T4241WyfhlVNI1Oy7SHDjpPOg4T0KOuHu7eIS8gsRXsA',\n",
       " '-e-lfG5zpkNcr96I_Q_5ZdDefVsot-QfGnTH2QSHv-cMyP1_u8NUf-hImv_nQKwCUIq05DF8yFAIEw',\n",
       " 'tTu5MniQjpI3G_eEm31jSm8ZhwCYJjRUQgQu0ynIs05DxKEkiRMdpOBq_3axazOPR4eP-M_gYcsHxg',\n",
       " '8s-H0x0EL9H84mDtglkoIYtyxASxccITkQaICj8RKUore3nABvXCZg_apnRSXMwLJYd2nCDUkJVk_A',\n",
       " 'JBQKhP0EHYxtzSCrglHYSWq8of63qVowOOQ9NyMm6Rfv_Ups7-qrn11AgSY9-RoKro32bTDMsAqF3A',\n",
       " 'y_0f-NLP6I974-LIJDU7WDu4qdHkqjVDaOUODjo6U85Jc50Z31pyAxvqKbfd4ceS5GCVWT-h8O8-0Q',\n",
       " 'bztkNWyCR__do5ACtWbe4vhBdR1eXLFwxDdql2Y9kfT26TbuiNLgxNhLwTpoJWToU5UK-FCXFGTBWA']"
      ]
     },
     "execution_count": 6,
     "metadata": {},
     "output_type": "execute_result"
    }
   ],
   "source": [
    "# Access the 'participants' array within 'metadata'\n",
    "participantsData = data['metadata']['participants']\n",
    "participantsData"
   ]
  },
  {
   "cell_type": "code",
   "execution_count": 7,
   "id": "c5426211",
   "metadata": {},
   "outputs": [
    {
     "data": {
      "text/plain": [
       "[{'participantId': 1,\n",
       "  'puuid': 'NLZhdGCfh-EgdvaODKW2IlCFzJBMtE4Dr9SFgKNpE1UC6GDNH2u2TQmGZoqSLXcVjo-erCaRQVV0cQ'},\n",
       " {'participantId': 2,\n",
       "  'puuid': 'vfktkyVovXtnWWgFEDKxdtfJFVHSV3tAJeoT_UjbZB8TlE8tyVYLyC23nudviaAwk0c6AkFGGTYJhQ'},\n",
       " {'participantId': 3,\n",
       "  'puuid': 'O9jmQXkdmuplQq2s4YGCd-x2VnJetyQ7ssrBczKK-xwT0PYaVpMyOWIHX_iIIznvHmk0M5_uE_CRzw'},\n",
       " {'participantId': 4,\n",
       "  'puuid': 'HHVQBTfTWCQzCredc0AtS4BotTQqhQhK_7T4241WyfhlVNI1Oy7SHDjpPOg4T0KOuHu7eIS8gsRXsA'},\n",
       " {'participantId': 5,\n",
       "  'puuid': '-e-lfG5zpkNcr96I_Q_5ZdDefVsot-QfGnTH2QSHv-cMyP1_u8NUf-hImv_nQKwCUIq05DF8yFAIEw'},\n",
       " {'participantId': 6,\n",
       "  'puuid': 'tTu5MniQjpI3G_eEm31jSm8ZhwCYJjRUQgQu0ynIs05DxKEkiRMdpOBq_3axazOPR4eP-M_gYcsHxg'},\n",
       " {'participantId': 7,\n",
       "  'puuid': '8s-H0x0EL9H84mDtglkoIYtyxASxccITkQaICj8RKUore3nABvXCZg_apnRSXMwLJYd2nCDUkJVk_A'},\n",
       " {'participantId': 8,\n",
       "  'puuid': 'JBQKhP0EHYxtzSCrglHYSWq8of63qVowOOQ9NyMm6Rfv_Ups7-qrn11AgSY9-RoKro32bTDMsAqF3A'},\n",
       " {'participantId': 9,\n",
       "  'puuid': 'y_0f-NLP6I974-LIJDU7WDu4qdHkqjVDaOUODjo6U85Jc50Z31pyAxvqKbfd4ceS5GCVWT-h8O8-0Q'},\n",
       " {'participantId': 10,\n",
       "  'puuid': 'bztkNWyCR__do5ACtWbe4vhBdR1eXLFwxDdql2Y9kfT26TbuiNLgxNhLwTpoJWToU5UK-FCXFGTBWA'}]"
      ]
     },
     "execution_count": 7,
     "metadata": {},
     "output_type": "execute_result"
    }
   ],
   "source": [
    "puuidPair = data['info']['participants']\n",
    "puuidPair"
   ]
  },
  {
   "cell_type": "code",
   "execution_count": 8,
   "id": "9ab47bb7",
   "metadata": {
    "scrolled": true
   },
   "outputs": [
    {
     "name": "stdout",
     "output_type": "stream",
     "text": [
      "1 Timestamp = 0\n",
      "2 Timestamp = 60016\n",
      "3 Timestamp = 120021\n",
      "4 Timestamp = 180035\n",
      "5 Timestamp = 240035\n",
      "6 Timestamp = 300066\n",
      "7 Timestamp = 360069\n",
      "8 Timestamp = 420084\n",
      "9 Timestamp = 480090\n",
      "10 Timestamp = 540109\n",
      "11 Timestamp = 600126\n",
      "12 Timestamp = 660130\n",
      "13 Timestamp = 720141\n",
      "14 Timestamp = 780169\n",
      "15 Timestamp = 840170\n",
      "16 Timestamp = 900173\n",
      "17 Timestamp = 960186\n",
      "18 Timestamp = 1020272\n",
      "19 Timestamp = 1080286\n",
      "20 Timestamp = 1140318\n",
      "21 Timestamp = 1200328\n",
      "22 Timestamp = 1260354\n",
      "23 Timestamp = 1320366\n",
      "24 Timestamp = 1380386\n",
      "25 Timestamp = 1440411\n",
      "26 Timestamp = 1500414\n",
      "27 Timestamp = 1560433\n",
      "28 Timestamp = 1620447\n",
      "29 Timestamp = 1680454\n",
      "30 Timestamp = 1740480\n",
      "31 Timestamp = 1800496\n",
      "32 Timestamp = 1860523\n",
      "33 Timestamp = 1892560\n"
     ]
    }
   ],
   "source": [
    "# Get every timestamp within a game paired with corresponding minute\n",
    "for counter, frame in enumerate(data['info']['frames']):\n",
    "    timestamp = frame['timestamp']\n",
    "    print(f\"{counter + 1} Timestamp = {timestamp}\")"
   ]
  },
  {
   "cell_type": "code",
   "execution_count": 19,
   "id": "92fd8429",
   "metadata": {},
   "outputs": [],
   "source": [
    "frames = data['info']['frames']\n",
    "participantFramesList = [frame.get('participantFrames', {}) for frame in frames]"
   ]
  },
  {
   "cell_type": "code",
   "execution_count": 82,
   "id": "8a5eb425",
   "metadata": {},
   "outputs": [],
   "source": [
    "def excludeColumns(data, columnsToExclude=None, displayNoZero=False):\n",
    "    # Exclude specified columns\n",
    "    excludedData = {}\n",
    "\n",
    "    for key, value in data.items():\n",
    "        if key in columnsToExclude:\n",
    "            continue  # Skip excluded columns\n",
    "        elif isinstance(value, dict):\n",
    "            # Recursively exclude columns within nested dictionaries\n",
    "            excludedData[key] = excludeColumns(value, columnsToExclude, displayNoZero)\n",
    "        else:\n",
    "            excludedData[key] = value\n",
    "\n",
    "    return excludedData\n"
   ]
  },
  {
   "cell_type": "code",
   "execution_count": 83,
   "id": "473c4ea9",
   "metadata": {},
   "outputs": [],
   "source": [
    "def displayNonZeroParams(participantFrame, displayNoZero=False, indent=''):\n",
    "    # Iterate through the participant frame's items\n",
    "    for key, value in participantFrame.items():\n",
    "        if isinstance(value, dict):\n",
    "            # If the value is a nested dictionary, iterate through its items\n",
    "            print(f\"{indent}{key}:\")\n",
    "            displayNonZeroParams(value, displayNoZero, indent + '  ')\n",
    "        elif isinstance(value, (int, float)) and (not displayNoZero or value != 0):\n",
    "            # Display the parameter if it's a numeric value and not zero\n",
    "            print(f\"{indent}  {key}: {value}\")\n"
   ]
  },
  {
   "cell_type": "code",
   "execution_count": 87,
   "id": "4758beff",
   "metadata": {
    "scrolled": false
   },
   "outputs": [
    {
     "name": "stdout",
     "output_type": "stream",
     "text": [
      "Timestamp at minute 2: 120021\n",
      "championStats:\n",
      "    armor: 33\n",
      "    attackDamage: 67\n",
      "    attackSpeed: 114\n",
      "    health: 520\n",
      "    healthMax: 684\n",
      "    healthRegen: 7\n",
      "    magicResist: 33\n",
      "    movementSpeed: 340\n",
      "  currentGold: 199\n",
      "damageStats:\n",
      "    totalDamageDone: 3801\n",
      "    totalDamageTaken: 709\n",
      "  jungleMinionsKilled: 5\n",
      "  level: 2\n",
      "  participantId: 2\n",
      "position:\n",
      "    x: 8451\n",
      "    y: 2647\n",
      "  totalGold: 649\n",
      "  xp: 367\n",
      "\n",
      "---\n",
      "\n"
     ]
    }
   ],
   "source": [
    "def getParticipantDataAtMinute(data, participantId, targetMinute, columnsToExclude=None, displayNoZero=False):\n",
    "    timestampData = []\n",
    "\n",
    "    # Check if there are frames in the data\n",
    "    if 'info' in data and 'frames' in data['info']:\n",
    "        for frame in data['info']['frames']:\n",
    "            timestamp = frame['timestamp']\n",
    "            currentMinute = round(timestamp / 60000)  # Convert milliseconds to minutes and round to the nearest minute\n",
    "\n",
    "            if currentMinute == targetMinute:\n",
    "                participantFrames = frame.get('participantFrames', {})\n",
    "                if participantId in participantFrames:\n",
    "                    participantData = participantFrames[participantId]\n",
    "                    timestampData.append([timestamp, participantData])\n",
    "\n",
    "                    # Call the excludeColumns method\n",
    "                    excludedData = excludeColumns(participantData, columnsToExclude, displayNoZero)\n",
    "\n",
    "                    # Display either the original data or the excluded data based on your requirement\n",
    "                    if displayNoZero:\n",
    "                        print(f\"Timestamp at minute {targetMinute}: {timestamp}\")\n",
    "                        displayNonZeroParams(excludedData, displayNoZero)\n",
    "                        print(\"\\n---\\n\")\n",
    "                    else:\n",
    "                        print(f\"Timestamp at minute {targetMinute}: {timestamp}\")\n",
    "                        displayNonZeroParams(participantData, displayNoZero)\n",
    "                        print(\"\\n---\\n\")\n",
    "    return timestampData\n",
    "\n",
    "desiredParticipantId = \"2\"\n",
    "desiredMinute = 2 \n",
    "columnsToExclude = ['magicDamageDone', 'magicDamageDoneToChampions', 'magicDamageTaken', 'physicalDamageDone', 'physicalDamageDoneToChampions', 'physicalDamageTaken', 'trueDamageDone', 'trueDamageDoneToChampions', 'trueDamageTaken', 'timeEnemySpentControlled']\n",
    "\n",
    "# Call the function with displayNoZero set to True\n",
    "result = getParticipantDataAtMinute(data, desiredParticipantId, desiredMinute, columnsToExclude=columnsToExclude, displayNoZero=True)\n"
   ]
  },
  {
   "cell_type": "code",
   "execution_count": 28,
   "id": "f0c439ab",
   "metadata": {
    "scrolled": false
   },
   "outputs": [
    {
     "name": "stdout",
     "output_type": "stream",
     "text": [
      "Timestamp of CHAMPION_KILL event: 255814\n",
      "Victim Damage Dealt:\n",
      "  Name: Kayn\n",
      "  Name: Kayn\n",
      "Timestamp of CHAMPION_KILL event: 260683\n",
      "Victim Damage Dealt:\n",
      "  Name: Sion\n",
      "  Name: Sion\n",
      "  Name: Sion\n",
      "  Name: Sion\n",
      "Timestamp of CHAMPION_KILL event: 303299\n",
      "Victim Damage Dealt:\n",
      "  Name: Nautilus\n",
      "  Name: Nautilus\n",
      "  Name: Nautilus\n",
      "  Name: Nautilus\n",
      "  Name: Nautilus\n",
      "  Name: Nautilus\n",
      "  Name: Nautilus\n",
      "Timestamp of CHAMPION_KILL event: 352366\n",
      "Victim Damage Dealt:\n",
      "  Name: Kayn\n",
      "Timestamp of CHAMPION_KILL event: 389728\n",
      "Victim Damage Dealt:\n",
      "  Name: Sion\n",
      "  Name: Sion\n",
      "  Name: Sion\n",
      "  Name: Sion\n",
      "  Name: Sion\n",
      "  Name: Sion\n",
      "Timestamp of CHAMPION_KILL event: 413939\n",
      "Victim Damage Dealt:\n",
      "  Name: Veigar\n",
      "  Name: Veigar\n",
      "  Name: Veigar\n",
      "Timestamp of CHAMPION_KILL event: 439097\n",
      "Victim Damage Dealt:\n",
      "  Name: Volibear\n",
      "  Name: Volibear\n",
      "  Name: Volibear\n",
      "  Name: Volibear\n",
      "Timestamp of CHAMPION_KILL event: 494299\n",
      "Victim Damage Dealt:\n",
      "  Name: Brand\n",
      "  Name: Brand\n",
      "  Name: Brand\n",
      "  Name: Brand\n",
      "  Name: Brand\n",
      "  Name: Brand\n",
      "  Name: Brand\n",
      "Timestamp of CHAMPION_KILL event: 529933\n",
      "Victim Damage Dealt:\n",
      "  Name: Volibear\n",
      "  Name: Volibear\n",
      "  Name: Volibear\n",
      "  Name: Volibear\n",
      "  Name: Volibear\n",
      "  Name: Volibear\n",
      "  Name: Volibear\n",
      "  Name: Volibear\n",
      "  Name: Volibear\n",
      "  Name: Volibear\n"
     ]
    }
   ],
   "source": [
    "# [NOTFINISHED] Get killed within specified timestamps \n",
    "def getParticipantIdByKill(data, start_timestamp, end_timestamp):\n",
    "    for frame in data['info']['frames']:\n",
    "        timestamp = frame['timestamp']\n",
    "        \n",
    "        for event in frame.get('events', []):\n",
    "            if event['type'] == 'CHAMPION_KILL':\n",
    "                kill_timestamp = event['timestamp']\n",
    "                \n",
    "                if start_timestamp <= kill_timestamp <= end_timestamp:\n",
    "                    print(f\"Timestamp of CHAMPION_KILL event: {kill_timestamp}\")\n",
    "                    print(\"Victim Damage Dealt:\")\n",
    "                    \n",
    "                    # Assuming 'victimDamageDealt' is a list in the 'CHAMPION_KILL' event\n",
    "                    for damage_info in event.get('victimDamageDealt', []):\n",
    "                        print(f\"  Name: {damage_info['name']}\")\n",
    "\n",
    "# Example usage: Specify the start and end timestamps\n",
    "start_timestamp = 240035  # Replace with your desired start timestamp\n",
    "end_timestamp = 540109    # Replace with your desired end timestamp\n",
    "\n",
    "# Call the function with the specified time frame\n",
    "getParticipantIdByKill(data, start_timestamp, end_timestamp)"
   ]
  },
  {
   "cell_type": "code",
   "execution_count": null,
   "id": "417663e9",
   "metadata": {
    "scrolled": true
   },
   "outputs": [],
   "source": [
    "# Get timestamp of every kill in the game\n",
    "def get_timestamp_of_champion_kill(data):\n",
    "    for frame in data['info']['frames']:\n",
    "        for event in frame.get('events', []):\n",
    "            if event['type'] == 'CHAMPION_KILL':\n",
    "                timestamp = event['timestamp']\n",
    "                print(f\"Timestamp of CHAMPION_KILL: {timestamp}\")\n",
    "        \n",
    "                \n",
    "# Call the function\n",
    "get_timestamp_of_champion_kill(data)\n"
   ]
  },
  {
   "cell_type": "code",
   "execution_count": null,
   "id": "9f434d15",
   "metadata": {
    "scrolled": false
   },
   "outputs": [],
   "source": [
    "# [NOTFINSHED] Print out all champion kill information at specific kill timestamp\n",
    "def get_event_of_champion_kill_at_timestamp(data, target_timestamp):\n",
    "    for frame in data['info']['frames']:\n",
    "        for event in frame.get('events', []):\n",
    "            if event['type'] == 'CHAMPION_KILL' and event['timestamp'] == target_timestamp:\n",
    "                return event\n",
    "\n",
    "# Example: Get CHAMPION_KILL event data at timestamp 134226\n",
    "target_timestamp = 134226\n",
    "champion_kill_event = get_event_of_champion_kill_at_timestamp(data, target_timestamp)\n",
    "\n",
    "# Print or use the champion_kill_event data as needed\n",
    "if champion_kill_event:\n",
    "    print(f\"CHAMPION_KILL event data:\")\n",
    "    pprint.pprint(champion_kill_event)\n",
    "else:\n",
    "    print(f\"No CHAMPION_KILL event found at timestamp {target_timestamp}.\")\n"
   ]
  }
 ],
 "metadata": {
  "kernelspec": {
   "display_name": "Python 3 (ipykernel)",
   "language": "python",
   "name": "python3"
  },
  "language_info": {
   "codemirror_mode": {
    "name": "ipython",
    "version": 3
   },
   "file_extension": ".py",
   "mimetype": "text/x-python",
   "name": "python",
   "nbconvert_exporter": "python",
   "pygments_lexer": "ipython3",
   "version": "3.11.5"
  }
 },
 "nbformat": 4,
 "nbformat_minor": 5
}
