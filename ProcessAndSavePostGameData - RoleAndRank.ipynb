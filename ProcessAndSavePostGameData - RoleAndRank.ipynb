{
 "cells": [
  {
   "cell_type": "code",
   "execution_count": 43,
   "id": "4164ff4f",
   "metadata": {},
   "outputs": [],
   "source": [
    "import os\n",
    "import json\n",
    "import numpy as np"
   ]
  },
  {
   "cell_type": "code",
   "execution_count": 44,
   "id": "c3dbafaf",
   "metadata": {},
   "outputs": [],
   "source": [
    "def processAndSaveGameData(directoryPath, teamPosition, rank, outputDirectory):\n",
    "    \"\"\"\n",
    "    Processes game data for a specific team position and saves it to a CSV file in the specified output directory.\n",
    "    \n",
    "    Parameters:\n",
    "    - directoryPath: Path to the directory containing the game data files.\n",
    "    - teamPosition: The team position to filter by (e.g., \"top\", \"bottom\").\n",
    "    - rank: The rank of the games being processed (e.g., \"Bronze\").\n",
    "    - outputDirectory: The directory where the output CSV file will be saved.\n",
    "    \"\"\"\n",
    "    # Initialize a local list to store the data for the current team position\n",
    "    lanersData = []\n",
    "    \n",
    "    for filename in os.listdir(directoryPath):\n",
    "        filePath = os.path.join(directoryPath, filename)\n",
    "        \n",
    "        with open(filePath, 'r', encoding='utf-8') as file:\n",
    "            matchData = json.load(file)\n",
    "            \n",
    "            for participant in matchData['info']['participants']:\n",
    "                if participant.get('teamPosition', '').lower() == teamPosition.lower():\n",
    "                    lanerData = {\n",
    "                        'damageDealtToObjectives': participant.get('damageDealtToObjectives', 0),\n",
    "                        'goldEarned': participant.get('goldEarned', 0),\n",
    "                        'totalDamageDealt': participant.get('totalDamageDealt', 0),\n",
    "                        'totalDamageDealtToChampions': participant.get('totalDamageDealtToChampions', 0),\n",
    "                        'visionScore': participant.get('visionScore', 0),\n",
    "                        'turretTakedowns': participant.get('turretTakedowns', 0),\n",
    "                        'wardsPlaced': participant.get('wardsPlaced', 0),\n",
    "                        'wardsKilled': participant.get('wardsKilled', 0),\n",
    "                    }\n",
    "                    \n",
    "                    lanersData.append(lanerData)\n",
    "                    break  # Assuming only one participant per teamPosition, remove this if not applicable\n",
    "\n",
    "    # Process and save the data as before\n",
    "    columns = lanersData[0].keys() if lanersData else []\n",
    "    data = [[laner[key] for key in columns] for laner in lanersData]\n",
    "    dataArray = np.array(data, dtype=object) if data else np.empty((0, len(columns)), dtype=object)\n",
    "\n",
    "    # Ensure the output directory exists\n",
    "    if not os.path.exists(outputDirectory):\n",
    "        os.makedirs(outputDirectory)\n",
    "\n",
    "    # Define the output file name with the full path\n",
    "    fileName = os.path.join(outputDirectory, f\"{rank}{teamPosition.capitalize()}Data.csv\")\n",
    "    \n",
    "    # Save the data to a CSV file, checking if there's data to save\n",
    "    if dataArray.size > 0:\n",
    "        np.savetxt(fileName, dataArray, delimiter=',', header=','.join(columns), comments='', fmt='%s', encoding='utf-8')\n",
    "        print(f\"Data for {rank} rank and {teamPosition} position saved to {fileName}\")\n",
    "    else:\n",
    "        print(f\"No data found for {rank} rank and {teamPosition} position.\")"
   ]
  },
  {
   "cell_type": "code",
   "execution_count": 45,
   "id": "3dbcf911",
   "metadata": {},
   "outputs": [
    {
     "name": "stdout",
     "output_type": "stream",
     "text": [
      "Data for Bronze rank and top position saved to D:\\KR\\PostgameData\\BronzeTopData.csv\n"
     ]
    }
   ],
   "source": [
    "directoryPath = \"D:\\\\KR\\\\PostgameData\\\\CleanedBronzePostMatchDataJsonsKorea\"\n",
    "outputDirectory = \"D:\\\\KR\\\\PostgameData\"\n",
    "processAndSaveGameData(directoryPath, \"top\", \"Bronze\", outputDirectory)"
   ]
  },
  {
   "cell_type": "code",
   "execution_count": 46,
   "id": "4a217d24",
   "metadata": {},
   "outputs": [
    {
     "name": "stdout",
     "output_type": "stream",
     "text": [
      "Data for Bronze rank and Jungle position saved to D:\\KR\\PostgameData\\BronzeJungleData.csv\n"
     ]
    }
   ],
   "source": [
    "directoryPath = \"D:\\\\KR\\\\PostgameData\\\\CleanedBronzePostMatchDataJsonsKorea\"\n",
    "outputDirectory = \"D:\\\\KR\\\\PostgameData\"\n",
    "processAndSaveGameData(directoryPath, \"Jungle\", \"Bronze\", outputDirectory)"
   ]
  },
  {
   "cell_type": "code",
   "execution_count": 47,
   "id": "22a00484",
   "metadata": {},
   "outputs": [
    {
     "name": "stdout",
     "output_type": "stream",
     "text": [
      "Data for Bronze rank and Middle position saved to D:\\KR\\PostgameData\\BronzeMiddleData.csv\n"
     ]
    }
   ],
   "source": [
    "directoryPath = \"D:\\\\KR\\\\PostgameData\\\\CleanedBronzePostMatchDataJsonsKorea\"\n",
    "outputDirectory = \"D:\\\\KR\\\\PostgameData\"\n",
    "processAndSaveGameData(directoryPath, \"Middle\", \"Bronze\", outputDirectory)"
   ]
  },
  {
   "cell_type": "code",
   "execution_count": 48,
   "id": "39524ab9",
   "metadata": {},
   "outputs": [
    {
     "name": "stdout",
     "output_type": "stream",
     "text": [
      "Data for Bronze rank and Utility position saved to D:\\KR\\PostgameData\\BronzeUtilityData.csv\n"
     ]
    }
   ],
   "source": [
    "directoryPath = \"D:\\\\KR\\\\PostgameData\\\\CleanedBronzePostMatchDataJsonsKorea\"\n",
    "outputDirectory = \"D:\\\\KR\\\\PostgameData\"\n",
    "processAndSaveGameData(directoryPath, \"Utility\", \"Bronze\", outputDirectory)"
   ]
  },
  {
   "cell_type": "code",
   "execution_count": 49,
   "id": "11379143",
   "metadata": {},
   "outputs": [
    {
     "name": "stdout",
     "output_type": "stream",
     "text": [
      "Data for Bronze rank and Bottom position saved to D:\\KR\\PostgameData\\BronzeBottomData.csv\n"
     ]
    }
   ],
   "source": [
    "directoryPath = \"D:\\\\KR\\\\PostgameData\\\\CleanedBronzePostMatchDataJsonsKorea\"\n",
    "outputDirectory = \"D:\\\\KR\\\\PostgameData\"\n",
    "processAndSaveGameData(directoryPath, \"Bottom\", \"Bronze\", outputDirectory)"
   ]
  },
  {
   "cell_type": "markdown",
   "id": "574f579c",
   "metadata": {},
   "source": [
    "_______________________________________________________________________________________________________________________________"
   ]
  },
  {
   "cell_type": "code",
   "execution_count": 50,
   "id": "47cb9414",
   "metadata": {},
   "outputs": [
    {
     "name": "stdout",
     "output_type": "stream",
     "text": [
      "Data for Iron rank and top position saved to D:\\KR\\PostgameData\\IronTopData.csv\n"
     ]
    }
   ],
   "source": [
    "directoryPath = \"D:\\\\KR\\\\PostgameData\\\\CleanedIronPostMatchDataJsonsKorea\"\n",
    "outputDirectory = \"D:\\\\KR\\\\PostgameData\"\n",
    "processAndSaveGameData(directoryPath, \"top\", \"Iron\", outputDirectory)"
   ]
  },
  {
   "cell_type": "code",
   "execution_count": 51,
   "id": "8ebb8372",
   "metadata": {},
   "outputs": [
    {
     "name": "stdout",
     "output_type": "stream",
     "text": [
      "Data for Iron rank and Jungle position saved to D:\\KR\\PostgameData\\IronJungleData.csv\n"
     ]
    }
   ],
   "source": [
    "directoryPath = \"D:\\\\KR\\\\PostgameData\\\\CleanedIronPostMatchDataJsonsKorea\"\n",
    "outputDirectory = \"D:\\\\KR\\\\PostgameData\"\n",
    "processAndSaveGameData(directoryPath, \"Jungle\", \"Iron\", outputDirectory)"
   ]
  },
  {
   "cell_type": "code",
   "execution_count": 52,
   "id": "1fa069ac",
   "metadata": {},
   "outputs": [
    {
     "name": "stdout",
     "output_type": "stream",
     "text": [
      "Data for Iron rank and Middle position saved to D:\\KR\\PostgameData\\IronMiddleData.csv\n"
     ]
    }
   ],
   "source": [
    "directoryPath = \"D:\\\\KR\\\\PostgameData\\\\CleanedIronPostMatchDataJsonsKorea\"\n",
    "outputDirectory = \"D:\\\\KR\\\\PostgameData\"\n",
    "processAndSaveGameData(directoryPath, \"Middle\", \"Iron\", outputDirectory)"
   ]
  },
  {
   "cell_type": "code",
   "execution_count": 53,
   "id": "2ecdc4cd",
   "metadata": {},
   "outputs": [
    {
     "name": "stdout",
     "output_type": "stream",
     "text": [
      "Data for Iron rank and Bottom position saved to D:\\KR\\PostgameData\\IronBottomData.csv\n"
     ]
    }
   ],
   "source": [
    "directoryPath = \"D:\\\\KR\\\\PostgameData\\\\CleanedIronPostMatchDataJsonsKorea\"\n",
    "outputDirectory = \"D:\\\\KR\\\\PostgameData\"\n",
    "processAndSaveGameData(directoryPath, \"Bottom\", \"Iron\", outputDirectory)"
   ]
  },
  {
   "cell_type": "code",
   "execution_count": 54,
   "id": "d330eaad",
   "metadata": {},
   "outputs": [
    {
     "name": "stdout",
     "output_type": "stream",
     "text": [
      "Data for Iron rank and Utility position saved to D:\\KR\\PostgameData\\IronUtilityData.csv\n"
     ]
    }
   ],
   "source": [
    "directoryPath = \"D:\\\\KR\\\\PostgameData\\\\CleanedIronPostMatchDataJsonsKorea\"\n",
    "outputDirectory = \"D:\\\\KR\\\\PostgameData\"\n",
    "processAndSaveGameData(directoryPath, \"Utility\", \"Iron\", outputDirectory)"
   ]
  },
  {
   "cell_type": "markdown",
   "id": "66bf028a",
   "metadata": {},
   "source": [
    "_______________________________________________________________________________________________________________________________"
   ]
  },
  {
   "cell_type": "code",
   "execution_count": 55,
   "id": "4c0753dc",
   "metadata": {},
   "outputs": [
    {
     "name": "stdout",
     "output_type": "stream",
     "text": [
      "Data for Silver rank and top position saved to D:\\KR\\PostgameData\\SilverTopData.csv\n"
     ]
    }
   ],
   "source": [
    "directoryPath = \"D:\\\\KR\\\\PostgameData\\\\CleanedSilverPostMatchDataJsonsKorea\"\n",
    "outputDirectory = \"D:\\\\KR\\\\PostgameData\"\n",
    "processAndSaveGameData(directoryPath, \"top\", \"Silver\", outputDirectory)"
   ]
  },
  {
   "cell_type": "code",
   "execution_count": 56,
   "id": "ed75ee97",
   "metadata": {},
   "outputs": [
    {
     "name": "stdout",
     "output_type": "stream",
     "text": [
      "Data for Silver rank and Jungle position saved to D:\\KR\\PostgameData\\SilverJungleData.csv\n"
     ]
    }
   ],
   "source": [
    "directoryPath = \"D:\\\\KR\\\\PostgameData\\\\CleanedSilverPostMatchDataJsonsKorea\"\n",
    "outputDirectory = \"D:\\\\KR\\\\PostgameData\"\n",
    "processAndSaveGameData(directoryPath, \"Jungle\", \"Silver\", outputDirectory)"
   ]
  },
  {
   "cell_type": "code",
   "execution_count": 57,
   "id": "214d6e87",
   "metadata": {},
   "outputs": [
    {
     "name": "stdout",
     "output_type": "stream",
     "text": [
      "Data for Silver rank and Middle position saved to D:\\KR\\PostgameData\\SilverMiddleData.csv\n"
     ]
    }
   ],
   "source": [
    "directoryPath = \"D:\\\\KR\\\\PostgameData\\\\CleanedSilverPostMatchDataJsonsKorea\"\n",
    "outputDirectory = \"D:\\\\KR\\\\PostgameData\"\n",
    "processAndSaveGameData(directoryPath, \"Middle\", \"Silver\", outputDirectory)"
   ]
  },
  {
   "cell_type": "code",
   "execution_count": 58,
   "id": "f2c408dc",
   "metadata": {},
   "outputs": [
    {
     "name": "stdout",
     "output_type": "stream",
     "text": [
      "Data for Silver rank and Bottom position saved to D:\\KR\\PostgameData\\SilverBottomData.csv\n"
     ]
    }
   ],
   "source": [
    "directoryPath = \"D:\\\\KR\\\\PostgameData\\\\CleanedSilverPostMatchDataJsonsKorea\"\n",
    "outputDirectory = \"D:\\\\KR\\\\PostgameData\"\n",
    "processAndSaveGameData(directoryPath, \"Bottom\", \"Silver\", outputDirectory)"
   ]
  },
  {
   "cell_type": "code",
   "execution_count": 59,
   "id": "478d9964",
   "metadata": {},
   "outputs": [
    {
     "name": "stdout",
     "output_type": "stream",
     "text": [
      "Data for Silver rank and Utility position saved to D:\\KR\\PostgameData\\SilverUtilityData.csv\n"
     ]
    }
   ],
   "source": [
    "directoryPath = \"D:\\\\KR\\\\PostgameData\\\\CleanedSilverPostMatchDataJsonsKorea\"\n",
    "outputDirectory = \"D:\\\\KR\\\\PostgameData\"\n",
    "processAndSaveGameData(directoryPath, \"Utility\", \"Silver\", outputDirectory)"
   ]
  },
  {
   "cell_type": "markdown",
   "id": "9217f3d1",
   "metadata": {},
   "source": [
    "_______________________________________________________________________________________________________________________________"
   ]
  },
  {
   "cell_type": "code",
   "execution_count": 60,
   "id": "b092f25f",
   "metadata": {},
   "outputs": [
    {
     "name": "stdout",
     "output_type": "stream",
     "text": [
      "Data for Gold rank and top position saved to D:\\KR\\PostgameData\\GoldTopData.csv\n"
     ]
    }
   ],
   "source": [
    "directoryPath = \"D:\\\\KR\\\\PostgameData\\\\CleanedGoldPostMatchDataJsonsKorea\"\n",
    "outputDirectory = \"D:\\\\KR\\\\PostgameData\"\n",
    "processAndSaveGameData(directoryPath, \"top\", \"Gold\", outputDirectory)"
   ]
  },
  {
   "cell_type": "code",
   "execution_count": 61,
   "id": "c76d887f",
   "metadata": {},
   "outputs": [
    {
     "name": "stdout",
     "output_type": "stream",
     "text": [
      "Data for Gold rank and Jungle position saved to D:\\KR\\PostgameData\\GoldJungleData.csv\n"
     ]
    }
   ],
   "source": [
    "directoryPath = \"D:\\\\KR\\\\PostgameData\\\\CleanedGoldPostMatchDataJsonsKorea\"\n",
    "outputDirectory = \"D:\\\\KR\\\\PostgameData\"\n",
    "processAndSaveGameData(directoryPath, \"Jungle\", \"Gold\", outputDirectory)"
   ]
  },
  {
   "cell_type": "code",
   "execution_count": 62,
   "id": "d1a8e9f8",
   "metadata": {},
   "outputs": [
    {
     "name": "stdout",
     "output_type": "stream",
     "text": [
      "Data for Gold rank and Middle position saved to D:\\KR\\PostgameData\\GoldMiddleData.csv\n"
     ]
    }
   ],
   "source": [
    "directoryPath = \"D:\\\\KR\\\\PostgameData\\\\CleanedGoldPostMatchDataJsonsKorea\"\n",
    "outputDirectory = \"D:\\\\KR\\\\PostgameData\"\n",
    "processAndSaveGameData(directoryPath, \"Middle\", \"Gold\", outputDirectory)"
   ]
  },
  {
   "cell_type": "code",
   "execution_count": 63,
   "id": "b6304ded",
   "metadata": {},
   "outputs": [
    {
     "name": "stdout",
     "output_type": "stream",
     "text": [
      "Data for Gold rank and Bottom position saved to D:\\KR\\PostgameData\\GoldBottomData.csv\n"
     ]
    }
   ],
   "source": [
    "directoryPath = \"D:\\\\KR\\\\PostgameData\\\\CleanedGoldPostMatchDataJsonsKorea\"\n",
    "outputDirectory = \"D:\\\\KR\\\\PostgameData\"\n",
    "processAndSaveGameData(directoryPath, \"Bottom\", \"Gold\", outputDirectory)"
   ]
  },
  {
   "cell_type": "code",
   "execution_count": 64,
   "id": "96658e48",
   "metadata": {},
   "outputs": [
    {
     "name": "stdout",
     "output_type": "stream",
     "text": [
      "Data for Gold rank and Utility position saved to D:\\KR\\PostgameData\\GoldUtilityData.csv\n"
     ]
    }
   ],
   "source": [
    "directoryPath = \"D:\\\\KR\\\\PostgameData\\\\CleanedGoldPostMatchDataJsonsKorea\"\n",
    "outputDirectory = \"D:\\\\KR\\\\PostgameData\"\n",
    "processAndSaveGameData(directoryPath, \"Utility\", \"Gold\", outputDirectory)"
   ]
  },
  {
   "cell_type": "markdown",
   "id": "7be950de",
   "metadata": {},
   "source": [
    "_______________________________________________________________________________________________________________________________"
   ]
  },
  {
   "cell_type": "code",
   "execution_count": 65,
   "id": "eb43aa00",
   "metadata": {},
   "outputs": [
    {
     "name": "stdout",
     "output_type": "stream",
     "text": [
      "Data for Platinum rank and Top position saved to D:\\KR\\PostgameData\\PlatinumTopData.csv\n"
     ]
    }
   ],
   "source": [
    "directoryPath = \"D:\\\\KR\\\\PostgameData\\\\CleanedPlatinumPostMatchDataJsonsKorea\"\n",
    "outputDirectory = \"D:\\\\KR\\\\PostgameData\"\n",
    "processAndSaveGameData(directoryPath, \"Top\", \"Platinum\", outputDirectory)"
   ]
  },
  {
   "cell_type": "code",
   "execution_count": 66,
   "id": "42fc8d42",
   "metadata": {},
   "outputs": [
    {
     "name": "stdout",
     "output_type": "stream",
     "text": [
      "Data for Platinum rank and Jungle position saved to D:\\KR\\PostgameData\\PlatinumJungleData.csv\n"
     ]
    }
   ],
   "source": [
    "directoryPath = \"D:\\\\KR\\\\PostgameData\\\\CleanedPlatinumPostMatchDataJsonsKorea\"\n",
    "outputDirectory = \"D:\\\\KR\\\\PostgameData\"\n",
    "processAndSaveGameData(directoryPath, \"Jungle\", \"Platinum\", outputDirectory)"
   ]
  },
  {
   "cell_type": "code",
   "execution_count": 67,
   "id": "b5608e60",
   "metadata": {},
   "outputs": [
    {
     "name": "stdout",
     "output_type": "stream",
     "text": [
      "Data for Platinum rank and Middle position saved to D:\\KR\\PostgameData\\PlatinumMiddleData.csv\n"
     ]
    }
   ],
   "source": [
    "directoryPath = \"D:\\\\KR\\\\PostgameData\\\\CleanedPlatinumPostMatchDataJsonsKorea\"\n",
    "outputDirectory = \"D:\\\\KR\\\\PostgameData\"\n",
    "processAndSaveGameData(directoryPath, \"Middle\", \"Platinum\", outputDirectory)"
   ]
  },
  {
   "cell_type": "code",
   "execution_count": 68,
   "id": "d67db045",
   "metadata": {},
   "outputs": [
    {
     "name": "stdout",
     "output_type": "stream",
     "text": [
      "Data for Platinum rank and Bottom position saved to D:\\KR\\PostgameData\\PlatinumBottomData.csv\n"
     ]
    }
   ],
   "source": [
    "vdirectoryPath = \"D:\\\\KR\\\\PostgameData\\\\CleanedPlatinumPostMatchDataJsonsKorea\"\n",
    "outputDirectory = \"D:\\\\KR\\\\PostgameData\"\n",
    "processAndSaveGameData(directoryPath, \"Bottom\", \"Platinum\", outputDirectory)"
   ]
  },
  {
   "cell_type": "code",
   "execution_count": 69,
   "id": "95b33551",
   "metadata": {},
   "outputs": [
    {
     "name": "stdout",
     "output_type": "stream",
     "text": [
      "Data for Platinum rank and Utility position saved to D:\\KR\\PostgameData\\PlatinumUtilityData.csv\n"
     ]
    }
   ],
   "source": [
    "directoryPath = \"D:\\\\KR\\\\PostgameData\\\\CleanedPlatinumPostMatchDataJsonsKorea\"\n",
    "outputDirectory = \"D:\\\\KR\\\\PostgameData\"\n",
    "processAndSaveGameData(directoryPath, \"Utility\", \"Platinum\", outputDirectory)"
   ]
  },
  {
   "cell_type": "markdown",
   "id": "189620e4",
   "metadata": {},
   "source": [
    "_______________________________________________________________________________________________________________________________"
   ]
  },
  {
   "cell_type": "code",
   "execution_count": 70,
   "id": "c614570b",
   "metadata": {},
   "outputs": [
    {
     "name": "stdout",
     "output_type": "stream",
     "text": [
      "Data for Emerald rank and Top position saved to D:\\KR\\PostgameData\\EmeraldTopData.csv\n"
     ]
    }
   ],
   "source": [
    "directoryPath = \"D:\\\\KR\\\\PostgameData\\\\CleanedEmeraldPostMatchDataJsonsKorea\"\n",
    "outputDirectory = \"D:\\\\KR\\\\PostgameData\"\n",
    "processAndSaveGameData(directoryPath, \"Top\", \"Emerald\", outputDirectory)"
   ]
  },
  {
   "cell_type": "code",
   "execution_count": 71,
   "id": "9eb22ef6",
   "metadata": {},
   "outputs": [
    {
     "name": "stdout",
     "output_type": "stream",
     "text": [
      "Data for Emerald rank and Jungle position saved to D:\\KR\\PostgameData\\EmeraldJungleData.csv\n"
     ]
    }
   ],
   "source": [
    "directoryPath = \"D:\\\\KR\\\\PostgameData\\\\CleanedEmeraldPostMatchDataJsonsKorea\"\n",
    "outputDirectory = \"D:\\\\KR\\\\PostgameData\"\n",
    "processAndSaveGameData(directoryPath, \"Jungle\", \"Emerald\", outputDirectory)"
   ]
  },
  {
   "cell_type": "code",
   "execution_count": 72,
   "id": "74b588b2",
   "metadata": {},
   "outputs": [
    {
     "name": "stdout",
     "output_type": "stream",
     "text": [
      "Data for Emerald rank and Middle position saved to D:\\KR\\PostgameData\\EmeraldMiddleData.csv\n"
     ]
    }
   ],
   "source": [
    "directoryPath = \"D:\\\\KR\\\\PostgameData\\\\CleanedEmeraldPostMatchDataJsonsKorea\"\n",
    "outputDirectory = \"D:\\\\KR\\\\PostgameData\"\n",
    "processAndSaveGameData(directoryPath, \"Middle\", \"Emerald\", outputDirectory)"
   ]
  },
  {
   "cell_type": "code",
   "execution_count": 73,
   "id": "c11e1734",
   "metadata": {},
   "outputs": [
    {
     "name": "stdout",
     "output_type": "stream",
     "text": [
      "Data for Emerald rank and Bottom position saved to D:\\KR\\PostgameData\\EmeraldBottomData.csv\n"
     ]
    }
   ],
   "source": [
    "directoryPath = \"D:\\\\KR\\\\PostgameData\\\\CleanedEmeraldPostMatchDataJsonsKorea\"\n",
    "outputDirectory = \"D:\\\\KR\\\\PostgameData\"\n",
    "processAndSaveGameData(directoryPath, \"Bottom\", \"Emerald\", outputDirectory)"
   ]
  },
  {
   "cell_type": "code",
   "execution_count": 74,
   "id": "fc32ad05",
   "metadata": {},
   "outputs": [
    {
     "name": "stdout",
     "output_type": "stream",
     "text": [
      "Data for Emerald rank and Utility position saved to D:\\KR\\PostgameData\\EmeraldUtilityData.csv\n"
     ]
    }
   ],
   "source": [
    "directoryPath = \"D:\\\\KR\\\\PostgameData\\\\CleanedEmeraldPostMatchDataJsonsKorea\"\n",
    "outputDirectory = \"D:\\\\KR\\\\PostgameData\"\n",
    "processAndSaveGameData(directoryPath, \"Utility\", \"Emerald\", outputDirectory)"
   ]
  },
  {
   "cell_type": "markdown",
   "id": "e9f76370",
   "metadata": {},
   "source": [
    "_______________________________________________________________________________________________________________________________"
   ]
  },
  {
   "cell_type": "code",
   "execution_count": 75,
   "id": "336d26c1",
   "metadata": {},
   "outputs": [
    {
     "name": "stdout",
     "output_type": "stream",
     "text": [
      "Data for Diamond rank and Top position saved to D:\\EUW\\PostgameData\\DiamondTopData.csv\n"
     ]
    }
   ],
   "source": [
    "directoryPath = \"D:\\\\EUW\\\\PostgameData\\\\CleanedDiamondPostMatchDataJsons\"\n",
    "outputDirectory = \"D:\\\\EUW\\\\PostgameData\"\n",
    "processAndSaveGameData(directoryPath, \"Top\", \"Diamond\", outputDirectory)"
   ]
  },
  {
   "cell_type": "code",
   "execution_count": 76,
   "id": "b6e25cca",
   "metadata": {},
   "outputs": [
    {
     "name": "stdout",
     "output_type": "stream",
     "text": [
      "Data for Diamond rank and Jungle position saved to D:\\EUW\\PostgameData\\DiamondJungleData.csv\n"
     ]
    }
   ],
   "source": [
    "directoryPath = \"D:\\\\EUW\\\\PostgameData\\\\CleanedDiamondPostMatchDataJsons\"\n",
    "outputDirectory = \"D:\\\\EUW\\\\PostgameData\"\n",
    "processAndSaveGameData(directoryPath, \"Jungle\", \"Diamond\", outputDirectory)"
   ]
  },
  {
   "cell_type": "code",
   "execution_count": 77,
   "id": "9e1cf469",
   "metadata": {},
   "outputs": [
    {
     "name": "stdout",
     "output_type": "stream",
     "text": [
      "Data for Diamond rank and Middle position saved to D:\\EUW\\PostgameData\\DiamondMiddleData.csv\n"
     ]
    }
   ],
   "source": [
    "directoryPath = \"D:\\\\EUW\\\\PostgameData\\\\CleanedDiamondPostMatchDataJsons\"\n",
    "outputDirectory = \"D:\\\\EUW\\\\PostgameData\"\n",
    "processAndSaveGameData(directoryPath, \"Middle\", \"Diamond\", outputDirectory)"
   ]
  },
  {
   "cell_type": "code",
   "execution_count": 78,
   "id": "8df2b2c6",
   "metadata": {},
   "outputs": [
    {
     "name": "stdout",
     "output_type": "stream",
     "text": [
      "Data for Diamond rank and Bottom position saved to D:\\EUW\\PostgameData\\DiamondBottomData.csv\n"
     ]
    }
   ],
   "source": [
    "directoryPath = \"D:\\\\EUW\\\\PostgameData\\\\CleanedDiamondPostMatchDataJsons\"\n",
    "outputDirectory = \"D:\\\\EUW\\\\PostgameData\"\n",
    "processAndSaveGameData(directoryPath, \"Bottom\", \"Diamond\", outputDirectory)"
   ]
  },
  {
   "cell_type": "code",
   "execution_count": 79,
   "id": "caacaa61",
   "metadata": {},
   "outputs": [
    {
     "name": "stdout",
     "output_type": "stream",
     "text": [
      "Data for Diamond rank and Utility position saved to D:\\EUW\\PostgameData\\DiamondUtilityData.csv\n"
     ]
    }
   ],
   "source": [
    "directoryPath = \"D:\\\\EUW\\\\PostgameData\\\\CleanedDiamondPostMatchDataJsons\"\n",
    "outputDirectory = \"D:\\\\EUW\\\\PostgameData\"\n",
    "processAndSaveGameData(directoryPath, \"Utility\", \"Diamond\", outputDirectory)"
   ]
  },
  {
   "cell_type": "markdown",
   "id": "035f46f0",
   "metadata": {},
   "source": [
    "_______________________________________________________________________________________________________________________________"
   ]
  },
  {
   "cell_type": "code",
   "execution_count": 80,
   "id": "c269b00f",
   "metadata": {},
   "outputs": [
    {
     "name": "stdout",
     "output_type": "stream",
     "text": [
      "Data for Diamond rank and Top position saved to D:\\KR\\PostgameData\\DiamondTopData.csv\n"
     ]
    }
   ],
   "source": [
    "directoryPath = \"D:\\\\KR\\\\PostgameData\\\\CleanedDiamondPostMatchDataJsonsKorea\"\n",
    "outputDirectory = \"D:\\\\KR\\\\PostgameData\"\n",
    "processAndSaveGameData(directoryPath, \"Top\", \"Diamond\", outputDirectory)"
   ]
  },
  {
   "cell_type": "code",
   "execution_count": 81,
   "id": "b6ab4cba",
   "metadata": {},
   "outputs": [
    {
     "name": "stdout",
     "output_type": "stream",
     "text": [
      "Data for Diamond rank and Jungle position saved to D:\\KR\\PostgameData\\DiamondJungleData.csv\n"
     ]
    }
   ],
   "source": [
    "directoryPath = \"D:\\\\KR\\\\PostgameData\\\\CleanedDiamondPostMatchDataJsonsKorea\"\n",
    "outputDirectory = \"D:\\\\KR\\\\PostgameData\"\n",
    "processAndSaveGameData(directoryPath, \"Jungle\", \"Diamond\", outputDirectory)"
   ]
  },
  {
   "cell_type": "code",
   "execution_count": 82,
   "id": "01fcfb7f",
   "metadata": {},
   "outputs": [
    {
     "name": "stdout",
     "output_type": "stream",
     "text": [
      "Data for Diamond rank and Middle position saved to D:\\KR\\PostgameData\\DiamondMiddleData.csv\n"
     ]
    }
   ],
   "source": [
    "directoryPath = \"D:\\\\KR\\\\PostgameData\\\\CleanedDiamondPostMatchDataJsonsKorea\"\n",
    "outputDirectory = \"D:\\\\KR\\\\PostgameData\"\n",
    "processAndSaveGameData(directoryPath, \"Middle\", \"Diamond\", outputDirectory)"
   ]
  },
  {
   "cell_type": "code",
   "execution_count": 83,
   "id": "c807d3ba",
   "metadata": {},
   "outputs": [
    {
     "name": "stdout",
     "output_type": "stream",
     "text": [
      "Data for Diamond rank and Bottom position saved to D:\\KR\\PostgameData\\DiamondBottomData.csv\n"
     ]
    }
   ],
   "source": [
    "directoryPath = \"D:\\\\KR\\\\PostgameData\\\\CleanedDiamondPostMatchDataJsonsKorea\"\n",
    "outputDirectory = \"D:\\\\KR\\\\PostgameData\"\n",
    "processAndSaveGameData(directoryPath, \"Bottom\", \"Diamond\", outputDirectory)"
   ]
  },
  {
   "cell_type": "code",
   "execution_count": 84,
   "id": "d2b50cf7",
   "metadata": {},
   "outputs": [
    {
     "name": "stdout",
     "output_type": "stream",
     "text": [
      "Data for Diamond rank and Utility position saved to D:\\KR\\PostgameData\\DiamondUtilityData.csv\n"
     ]
    }
   ],
   "source": [
    "directoryPath = \"D:\\\\KR\\\\PostgameData\\\\CleanedDiamondPostMatchDataJsonsKorea\"\n",
    "outputDirectory = \"D:\\\\KR\\\\PostgameData\"\n",
    "processAndSaveGameData(directoryPath, \"Utility\", \"Diamond\", outputDirectory)"
   ]
  },
  {
   "cell_type": "code",
   "execution_count": null,
   "id": "da7bea70",
   "metadata": {},
   "outputs": [],
   "source": []
  }
 ],
 "metadata": {
  "kernelspec": {
   "display_name": "Python 3 (ipykernel)",
   "language": "python",
   "name": "python3"
  },
  "language_info": {
   "codemirror_mode": {
    "name": "ipython",
    "version": 3
   },
   "file_extension": ".py",
   "mimetype": "text/x-python",
   "name": "python",
   "nbconvert_exporter": "python",
   "pygments_lexer": "ipython3",
   "version": "3.11.5"
  }
 },
 "nbformat": 4,
 "nbformat_minor": 5
}
