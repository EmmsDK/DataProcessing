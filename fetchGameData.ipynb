{
 "cells": [
  {
   "cell_type": "code",
   "execution_count": 1,
   "id": "e6e8def4",
   "metadata": {},
   "outputs": [],
   "source": [
    "import json"
   ]
  },
  {
   "cell_type": "code",
   "execution_count": 6,
   "id": "e5660243",
   "metadata": {},
   "outputs": [],
   "source": [
    "def cleanParticipantFrames(data, columnsToExclude=None, displayNoZero=False):\n",
    "    if 'info' in data and 'frames' in data['info']:\n",
    "        for frame in data['info']['frames']:\n",
    "            if 'participantFrames' in frame:\n",
    "                cleanedParticipantFrames = {}\n",
    "                for participantId, participantFrame in frame['participantFrames'].items():\n",
    "                    # Clean each participant frame\n",
    "                    cleanedParticipantFrames[participantId] = cleanData(participantFrame, columnsToExclude, displayNoZero)\n",
    "                frame['participantFrames'] = cleanedParticipantFrames\n",
    "    return data\n",
    "\n",
    "def cleanData(data, columnsToExclude=None, displayNoZero=False):\n",
    "    cleanedData = {}\n",
    "    \n",
    "    for key, value in data.items():\n",
    "        if columnsToExclude and key in columnsToExclude:\n",
    "            continue\n",
    "        if displayNoZero and isinstance(value, (int, float)) and value == 0:\n",
    "            continue\n",
    "        elif isinstance(value, dict):\n",
    "            cleanedData[key] = cleanData(value, columnsToExclude, displayNoZero)\n",
    "        elif isinstance(value, list):\n",
    "            cleanedList = []\n",
    "            for item in value:\n",
    "                if isinstance(item, dict):\n",
    "                    cleanedItem = cleanData(item, columnsToExclude, displayNoZero)\n",
    "                    cleanedList.append(cleanedItem)\n",
    "                else:\n",
    "                    cleanedList.append(item)\n",
    "            cleanedData[key] = cleanedList\n",
    "        else:\n",
    "            cleanedData[key] = value\n",
    "\n",
    "    return cleanedData\n"
   ]
  },
  {
   "cell_type": "code",
   "execution_count": 7,
   "id": "4ba85827",
   "metadata": {},
   "outputs": [
    {
     "name": "stdout",
     "output_type": "stream",
     "text": [
      "Cleaned game data has been saved.\n"
     ]
    }
   ],
   "source": [
    "with open(\"../DataProcessing/TestData/gameData.json\", \"r\", encoding=\"utf-8\") as file:\n",
    "    data = json.load(file)\n",
    "\n",
    "columnsToExclude = ['magicDamageDone', 'magicDamageDoneToChampions', 'magicDamageTaken', \n",
    "                    'physicalDamageDone', 'physicalDamageDoneToChampions', 'physicalDamageTaken', \n",
    "                    'trueDamageDone', 'trueDamageDoneToChampions', 'trueDamageTaken', 'timeEnemySpentControlled']\n",
    "displayNoZero = True\n",
    "\n",
    "cleanedData = cleanData(data, columnsToExclude, displayNoZero)\n",
    "\n",
    "# Use the cleaned data as needed, or save it back to a file\n",
    "with open(\"../DataProcessing/TestData/cleanedGameData.json\", \"w\", encoding=\"utf-8\") as file:\n",
    "    json.dump(cleanedData, file, indent=4, ensure_ascii=False)\n",
    "\n",
    "print(\"Cleaned game data has been saved.\")\n"
   ]
  },
  {
   "cell_type": "code",
   "execution_count": null,
   "id": "6c94bfac",
   "metadata": {},
   "outputs": [],
   "source": []
  }
 ],
 "metadata": {
  "kernelspec": {
   "display_name": "Python 3 (ipykernel)",
   "language": "python",
   "name": "python3"
  },
  "language_info": {
   "codemirror_mode": {
    "name": "ipython",
    "version": 3
   },
   "file_extension": ".py",
   "mimetype": "text/x-python",
   "name": "python",
   "nbconvert_exporter": "python",
   "pygments_lexer": "ipython3",
   "version": "3.11.5"
  }
 },
 "nbformat": 4,
 "nbformat_minor": 5
}
