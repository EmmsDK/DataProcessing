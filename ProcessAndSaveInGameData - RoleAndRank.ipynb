{
 "cells": [
  {
   "cell_type": "code",
   "execution_count": 11,
   "id": "680587b3",
   "metadata": {},
   "outputs": [],
   "source": [
    "import os\n",
    "import json\n",
    "import numpy as np"
   ]
  },
  {
   "cell_type": "code",
   "execution_count": 10,
   "id": "182f2be3",
   "metadata": {},
   "outputs": [
    {
     "name": "stdout",
     "output_type": "stream",
     "text": [
      "Processed and saved filtered data to ../DataProcessing/FilteredData\\filtered_cleanedGameData.json\n"
     ]
    }
   ],
   "source": [
    "def processAndFilterInGameData(inputFilePath, outputDirectory):\n",
    "    with open(inputFilePath, 'r', encoding='utf-8') as file:\n",
    "        ingameData = json.load(file)\n",
    "\n",
    "    # Initialize structure to hold filtered data, including frameInterval\n",
    "    relevantData = {\n",
    "        'frameInterval': ingameData['info'].get('frameInterval', 60000),\n",
    "        'frames': []\n",
    "    }\n",
    "\n",
    "    if 'frames' not in ingameData['info']:\n",
    "        print(f\"Skipping {inputFilePath}, 'frames' key not found.\")\n",
    "        return\n",
    "\n",
    "    for frame in ingameData['info']['frames']:\n",
    "        # Create a new frame structure to be added to relevantData\n",
    "        newFrame = {\n",
    "            'participantFrames': {},\n",
    "            'events': []\n",
    "        }\n",
    "\n",
    "        # Process participant frames for IDs 3 and 8\n",
    "        for participantId, participantInfo in frame['participantFrames'].items():\n",
    "            if int(participantId) in [3, 8]:\n",
    "                newFrame['participantFrames'][participantId] = participantInfo\n",
    "        \n",
    "        # Process events based on your criteria (if needed, you can add here)\n",
    "        for event in frame['events']:\n",
    "            # Example criteria: include events of certain types involving participants 3 or 8\n",
    "            if event['type'] in ['CHAMPION_KILL', 'ELITE_MONSTER_KILL', 'BUILDING_KILL']:\n",
    "                participants = [event.get('killerId')] + event.get('assistingParticipantIds', [])\n",
    "                if 'victimId' in event:\n",
    "                    participants.append(event['victimId'])\n",
    "\n",
    "                if any(pid in [3, 8] for pid in participants if pid is not None):\n",
    "                    newFrame['events'].append(event)\n",
    "        \n",
    "        # Add the newFrame to relevantData if it contains filtered participantFrames or events\n",
    "        if newFrame['participantFrames'] or newFrame['events']:\n",
    "            relevantData['frames'].append(newFrame)\n",
    "\n",
    "    # Ensure the output directory exists\n",
    "    if not os.path.exists(outputDirectory):\n",
    "        os.makedirs(outputDirectory)\n",
    "\n",
    "    outputFilePath = os.path.join(outputDirectory, \"filtered_\" + os.path.basename(inputFilePath))\n",
    "    with open(outputFilePath, 'w', encoding='utf-8') as outFile:\n",
    "        json.dump(relevantData, outFile, indent=4)\n",
    "    print(f\"Processed and saved filtered data to {outputFilePath}\")\n",
    "\n",
    "# Example usage\n",
    "inputFilePath = \"../DataProcessing/TestData/cleanedGameData.json\"  # Update to the correct path\n",
    "outputDirectory = \"../DataProcessing/FilteredData\"  # Update to the desired output directory\n",
    "processAndFilterInGameData(inputFilePath, outputDirectory)\n"
   ]
  },
  {
   "cell_type": "code",
   "execution_count": 16,
   "id": "624b41a2",
   "metadata": {},
   "outputs": [],
   "source": [
    "def consolidateAndFilterFirst50Games(directoryPath, outputFilePath):\n",
    "    consolidatedData = {}\n",
    "    gamesProcessed = 0\n",
    "\n",
    "    for filename in sorted(os.listdir(directoryPath)):\n",
    "        if gamesProcessed >= 50:\n",
    "            break  # Stop after processing the first 50 games\n",
    "\n",
    "        filePath = os.path.join(directoryPath, filename)\n",
    "        \n",
    "        # Skip directories or non-JSON files\n",
    "        if os.path.isdir(filePath) or not filePath.endswith('.json'):\n",
    "            continue\n",
    "\n",
    "        with open(filePath, 'r', encoding='utf-8') as file:\n",
    "            ingameData = json.load(file)\n",
    "        \n",
    "        # Initialize the structure for filtered game data\n",
    "        relevantData = {\n",
    "            'frameInterval': ingameData['info'].get('frameInterval', 60000),\n",
    "            'frames': [],\n",
    "            'gameEnd': None  # Placeholder for GAME_END event data\n",
    "        }\n",
    "\n",
    "        for frame in ingameData['info'].get('frames', []):\n",
    "            newFrame = {\n",
    "                'participantFrames': {},\n",
    "                'events': []\n",
    "            }\n",
    "            \n",
    "            # Process participant frames for IDs 3 and 8\n",
    "            for participantId, participantInfo in frame.get('participantFrames', {}).items():\n",
    "                if int(participantId) in [3, 8]:  # Adjust IDs as necessary\n",
    "                    newFrame['participantFrames'][participantId] = participantInfo\n",
    "\n",
    "            # Process events based on your criteria\n",
    "            for event in frame.get('events', []):\n",
    "                # Include CHAMPION_KILL, ELITE_MONSTER_KILL, BUILDING_KILL events\n",
    "                if event['type'] in ['CHAMPION_KILL', 'ELITE_MONSTER_KILL', 'BUILDING_KILL']:\n",
    "                    participants = [event.get('killerId')] + event.get('assistingParticipantIds', [])\n",
    "                    if 'victimId' in event:\n",
    "                        participants.append(event['victimId'])\n",
    "                    if any(pid in [3, 8] for pid in participants if pid is not None):\n",
    "                        newFrame['events'].append(event)\n",
    "\n",
    "                # Look for GAME_END event to capture winning team and timestamp\n",
    "                elif event['type'] == 'GAME_END':\n",
    "                    relevantData['gameEnd'] = {\n",
    "                        'winningTeam': event.get('winningTeam'),\n",
    "                        'timestamp': frame.get('timestamp')\n",
    "                    }\n",
    "                    break  # Assuming only one GAME_END event per game\n",
    "\n",
    "            if newFrame['participantFrames'] or newFrame['events']:\n",
    "                relevantData['frames'].append(newFrame)\n",
    "        \n",
    "        # Use matchId as key to include filtered game data\n",
    "        matchId = ingameData.get('metadata', {}).get('matchId', f'unknown_{gamesProcessed}')\n",
    "        consolidatedData[matchId] = relevantData\n",
    "        gamesProcessed += 1\n",
    "\n",
    "    # Ensure the output directory exists\n",
    "    outputDirectory = os.path.dirname(outputFilePath)\n",
    "    if not os.path.exists(outputDirectory):\n",
    "        os.makedirs(outputDirectory)\n",
    "\n",
    "    with open(outputFilePath, 'w', encoding='utf-8') as outFile:\n",
    "        json.dump(consolidatedData, outFile, indent=4)\n",
    "    print(f\"Consolidated and filtered data for the first 50 games has been saved to {outputFilePath}\")\n"
   ]
  },
  {
   "cell_type": "code",
   "execution_count": 17,
   "id": "7fd85a24",
   "metadata": {},
   "outputs": [
    {
     "name": "stdout",
     "output_type": "stream",
     "text": [
      "Consolidated and filtered data for the first 50 games has been saved to D:\\EUW\\IngameData\\IronMidIngameDataTest.json\n"
     ]
    }
   ],
   "source": [
    "directoryPath = \"D:\\EUW\\IngameData\\FinalCleanedIronMatchJsons\"\n",
    "outputFilePath = \"D:\\EUW\\IngameData\\IronMidIngameDataTest.json\"\n",
    "consolidateAndFilterFirst50Games(directoryPath, outputFilePath)"
   ]
  },
  {
   "cell_type": "code",
   "execution_count": null,
   "id": "62f0eba8",
   "metadata": {},
   "outputs": [],
   "source": []
  }
 ],
 "metadata": {
  "kernelspec": {
   "display_name": "Python 3 (ipykernel)",
   "language": "python",
   "name": "python3"
  },
  "language_info": {
   "codemirror_mode": {
    "name": "ipython",
    "version": 3
   },
   "file_extension": ".py",
   "mimetype": "text/x-python",
   "name": "python",
   "nbconvert_exporter": "python",
   "pygments_lexer": "ipython3",
   "version": "3.11.5"
  }
 },
 "nbformat": 4,
 "nbformat_minor": 5
}
