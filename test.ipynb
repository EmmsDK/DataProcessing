{
 "cells": [
  {
   "cell_type": "code",
   "execution_count": 15,
   "id": "8b3de558",
   "metadata": {},
   "outputs": [],
   "source": [
    "#test"
   ]
  },
  {
   "cell_type": "code",
   "execution_count": 16,
   "id": "d2d23803",
   "metadata": {},
   "outputs": [],
   "source": [
    "import os"
   ]
  },
  {
   "cell_type": "code",
   "execution_count": 17,
   "id": "38ca6a7a",
   "metadata": {},
   "outputs": [
    {
     "name": "stdout",
     "output_type": "stream",
     "text": [
      "GitHub\\DataProcessing\n"
     ]
    }
   ],
   "source": [
    "# Define the path\n",
    "path = os.path.join(\"GitHub\", \"DataProcessing\")\n",
    "\n",
    "# Print the path\n",
    "print(path)\n"
   ]
  },
  {
   "cell_type": "code",
   "execution_count": 18,
   "id": "8d4c6032",
   "metadata": {},
   "outputs": [
    {
     "data": {
      "text/plain": [
       "'C:\\\\Users\\\\HP4\\\\Documents\\\\GitHub\\\\DataProcessing'"
      ]
     },
     "execution_count": 18,
     "metadata": {},
     "output_type": "execute_result"
    }
   ],
   "source": [
    "pwd"
   ]
  },
  {
   "cell_type": "code",
   "execution_count": null,
   "id": "9eb71c65",
   "metadata": {},
   "outputs": [],
   "source": [
    "testGame = (../)"
   ]
  }
 ],
 "metadata": {
  "kernelspec": {
   "display_name": "Python 3 (ipykernel)",
   "language": "python",
   "name": "python3"
  },
  "language_info": {
   "codemirror_mode": {
    "name": "ipython",
    "version": 3
   },
   "file_extension": ".py",
   "mimetype": "text/x-python",
   "name": "python",
   "nbconvert_exporter": "python",
   "pygments_lexer": "ipython3",
   "version": "3.11.5"
  }
 },
 "nbformat": 4,
 "nbformat_minor": 5
}
