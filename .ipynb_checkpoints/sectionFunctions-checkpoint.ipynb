{
 "cells": [
  {
   "cell_type": "code",
   "execution_count": 2,
   "id": "3a9a7192",
   "metadata": {},
   "outputs": [
    {
     "name": "stdout",
     "output_type": "stream",
     "text": [
      "safe\n",
      "danger\n",
      "danger\n",
      "danger\n"
     ]
    }
   ],
   "source": [
    "def blueCase1(x,y):\n",
    "    if y<-x+15000 and x<11400:\n",
    "        print(\"safe\")\n",
    "    else:\n",
    "        print(\"danger\")\n",
    "        \n",
    "coordinate_set1 = (7000, 7000) #safe\n",
    "coordinate_set2 = (8000, 8000) #danger\n",
    "coordinate_set3 = (7000, 8000) #danger\n",
    "coordinate_set4 = (12000, 1000)#danger\n",
    "\n",
    "blueCase1(*coordinate_set1)\n",
    "blueCase1(*coordinate_set2)\n",
    "blueCase1(*coordinate_set3)\n",
    "blueCase1(*coordinate_set4)"
   ]
  },
  {
   "cell_type": "code",
   "execution_count": 4,
   "id": "5de38977",
   "metadata": {},
   "outputs": [
    {
     "name": "stdout",
     "output_type": "stream",
     "text": [
      "safe\n",
      "danger\n",
      "safe\n",
      "safe\n"
     ]
    }
   ],
   "source": [
    "def redCase1(x,y):\n",
    "    if y>-x+15000 and y>3000:\n",
    "        print(\"safe\")\n",
    "    else:\n",
    "        print(\"danger\")\n",
    "        \n",
    "coordinate_set1 = (14000, 4000)\n",
    "coordinate_set2 = (14000, 2000)\n",
    "coordinate_set3 = (8000, 8000)\n",
    "coordinate_set4 = (4000, 12000)\n",
    "redCase1(*coordinate_set1) #safe\n",
    "redCase1(*coordinate_set2) #danger\n",
    "redCase1(*coordinate_set3) #safe\n",
    "redCase1(*coordinate_set4) #safe"
   ]
  },
  {
   "cell_type": "code",
   "execution_count": 5,
   "id": "31e858fd",
   "metadata": {},
   "outputs": [
    {
     "name": "stdout",
     "output_type": "stream",
     "text": [
      "safe\n",
      "danger\n"
     ]
    }
   ],
   "source": [
    "def blueCase2(x,y):\n",
    "    if y<5200 and x<5200:\n",
    "        print(\"safe\")\n",
    "    else:\n",
    "        print(\"danger\")\n",
    "\n",
    "        \n",
    "coordinate_set1 = (5000, 5000)\n",
    "coordinate_set2 = (6000, 6000)\n",
    "blueCase2(*coordinate_set1) #safe\n",
    "blueCase2(*coordinate_set2) #danger"
   ]
  },
  {
   "cell_type": "code",
   "execution_count": 6,
   "id": "5147a666",
   "metadata": {},
   "outputs": [
    {
     "name": "stdout",
     "output_type": "stream",
     "text": [
      "safe\n",
      "danger\n"
     ]
    }
   ],
   "source": [
    "def redCase2(x,y):\n",
    "    if y>9800 and x>9800:\n",
    "        print(\"safe\")\n",
    "    else:\n",
    "        print(\"danger\")\n",
    "\n",
    "        \n",
    "coordinate_set1 = (10000, 10000)\n",
    "coordinate_set2 = (9000, 9000)\n",
    "redCase2(*coordinate_set1) #safe\n",
    "redCase2(*coordinate_set2) #danger"
   ]
  },
  {
   "cell_type": "code",
   "execution_count": 7,
   "id": "720887c9",
   "metadata": {},
   "outputs": [
    {
     "name": "stdout",
     "output_type": "stream",
     "text": [
      "champion is in danger\n",
      "champion is safe\n",
      "champion is safe\n",
      "champion is safe\n",
      "champion is safe\n",
      "champion is safe\n",
      "champion is safe\n"
     ]
    },
    {
     "data": {
      "text/plain": [
       "True"
      ]
     },
     "execution_count": 7,
     "metadata": {},
     "output_type": "execute_result"
    }
   ],
   "source": [
    "def blueCase3(x, y):\n",
    "    if x < 11400:\n",
    "        if x<1730:\n",
    "            print(\"champion is safe\")\n",
    "            return True\n",
    "        elif y<1800:\n",
    "            print(\"champion is safe\")\n",
    "            return True\n",
    "        elif x < 5200 and y < 5200:\n",
    "            print(\"champion is safe\")\n",
    "            return True\n",
    "\n",
    "    print(\"champion is in danger\")\n",
    "    return False\n",
    "\n",
    "# Test with some coordinates\n",
    "coordinate_set1 = (2000, 6000)\n",
    "coordinate_set2 = (4000, 2000)\n",
    "coordinate_set3 = (6000, 1000)\n",
    "coordinate_set4 = (2000, 2000)\n",
    "coordinate_set5 = (1500, 1500)\n",
    "coordinate_set6 = (1000, 4000)\n",
    "coordinate_set7 = (1000, 6000)\n",
    "\n",
    "blueCase3(*coordinate_set1)  # should print \"champion is in danger\"\n",
    "blueCase3(*coordinate_set2)  # should print \"champion is safe\"\n",
    "blueCase3(*coordinate_set3)  # should print \"champion is safe\"\n",
    "blueCase3(*coordinate_set4)  # should print \"champion is safe\"\n",
    "blueCase3(*coordinate_set5)  # should print \"champion is safe\"\n",
    "blueCase3(*coordinate_set6)  # should print \"champion is safe\"\n",
    "blueCase3(*coordinate_set7)  # should print \"champion is safe\""
   ]
  },
  {
   "cell_type": "code",
   "execution_count": 8,
   "id": "86e1c72b",
   "metadata": {},
   "outputs": [
    {
     "name": "stdout",
     "output_type": "stream",
     "text": [
      "champion is safe\n",
      "champion is safe\n",
      "champion is safe\n",
      "champion is safe\n",
      "champion is safe\n",
      "champion is safe\n",
      "champion is in danger\n",
      "champion is in danger\n"
     ]
    },
    {
     "data": {
      "text/plain": [
       "False"
      ]
     },
     "execution_count": 8,
     "metadata": {},
     "output_type": "execute_result"
    }
   ],
   "source": [
    "def redCase3(x, y):\n",
    "    if y > 3000:\n",
    "        if x>13100:\n",
    "            print(\"champion is safe\")\n",
    "            return True\n",
    "        elif y>13200:\n",
    "            print(\"champion is safe\")\n",
    "            return True\n",
    "        elif x > 9800 and y > 9800:\n",
    "            print(\"champion is safe\")\n",
    "            return True\n",
    "\n",
    "    print(\"champion is in danger\")\n",
    "    return False\n",
    "\n",
    "# Test with some coordinates\n",
    "coordinate_set1 = (14000, 14000)\n",
    "coordinate_set2 = (13000, 14000)\n",
    "coordinate_set3 = (14000, 13000)\n",
    "coordinate_set4 = (5000, 14000)\n",
    "coordinate_set5 = (14000, 5000)\n",
    "coordinate_set6 = (11000, 11000)\n",
    "coordinate_set7 = (14000, 2000)\n",
    "coordinate_set8 = (8000, 8000)\n",
    "\n",
    "\n",
    "redCase3(*coordinate_set1)  # should print \"champion is safe\"\n",
    "redCase3(*coordinate_set2)  # should print \"champion is safe\"\n",
    "redCase3(*coordinate_set3)  # should print \"champion is safe\"\n",
    "redCase3(*coordinate_set4)  # should print \"champion is safe\"\n",
    "redCase3(*coordinate_set5)  # should print \"champion is safe\"\n",
    "redCase3(*coordinate_set6)  # should print \"champion is safe\"\n",
    "redCase3(*coordinate_set7)  # should print \"champion is in danger\"\n",
    "redCase3(*coordinate_set8)  # should print \"champion is in danger\""
   ]
  },
  {
   "cell_type": "code",
   "execution_count": 13,
   "id": "8d4f10cf",
   "metadata": {},
   "outputs": [
    {
     "name": "stdout",
     "output_type": "stream",
     "text": [
      "champion is in danger\n",
      "champion is in danger\n",
      "champion is safe\n",
      "champion is safe\n"
     ]
    },
    {
     "data": {
      "text/plain": [
       "True"
      ]
     },
     "execution_count": 13,
     "metadata": {},
     "output_type": "execute_result"
    }
   ],
   "source": [
    "def blueCase4(x,y):\n",
    "    if x<11400:\n",
    "        if x<5447 and y<(-2.0624159268227*x)+16837.97955:\n",
    "            print(\"champion is safe\")\n",
    "            return True\n",
    "        elif x>5447 and y<(-0.6390055434235*x)+9084.6631950277:\n",
    "            print(\"champion is safe\")\n",
    "            return True\n",
    "    print(\"champion is in danger\")\n",
    "    return False\n",
    "\n",
    "coordinate_set1 = (4602,7871)\n",
    "coordinate_set2 = (6870,4976 )\n",
    "coordinate_set3 = (7222, 2632)\n",
    "coordinate_set4 = (3162, 5497)\n",
    "\n",
    "blueCase4(*coordinate_set1)  # should print \"champion is in danger\"\n",
    "blueCase4(*coordinate_set2)  # should print \"champion is in danger\"\n",
    "blueCase4(*coordinate_set3)  # should print \"champion is safe\"\n",
    "blueCase4(*coordinate_set4)  # should print \"champion is safe\""
   ]
  },
  {
   "cell_type": "code",
   "execution_count": 16,
   "id": "f2e559e5",
   "metadata": {},
   "outputs": [
    {
     "name": "stdout",
     "output_type": "stream",
     "text": [
      "champion is in danger\n",
      "champion is in danger\n",
      "champion is safe\n",
      "champion is safe\n"
     ]
    },
    {
     "data": {
      "text/plain": [
       "True"
      ]
     },
     "execution_count": 16,
     "metadata": {},
     "output_type": "execute_result"
    }
   ],
   "source": [
    "def redCase4(x,y):\n",
    "    if y>3000:\n",
    "        if y<9311 and y>(-1.6880181866809*x) + 25113.038245:\n",
    "            print(\"champion is safe\")\n",
    "            return True\n",
    "        elif y>9311 and y>(-0.5142838248909*x)+14125.710884:\n",
    "            print(\"champion is safe\")\n",
    "            return True\n",
    "        \n",
    "    print(\"champion is in danger\")\n",
    "    return False\n",
    "\n",
    "coordinate_set1 = (4602,7871)\n",
    "coordinate_set2 = (6870,4976 )\n",
    "coordinate_set3 = (7728, 10889)\n",
    "coordinate_set4 = (11711, 7182)\n",
    "\n",
    "redCase4(*coordinate_set1)  # should print \"champion is in danger\"\n",
    "redCase4(*coordinate_set2)  # should print \"champion is in danger\"\n",
    "redCase4(*coordinate_set3)  # should print \"champion is safe\"\n",
    "redCase4(*coordinate_set4)  # should print \"champion is safe\""
   ]
  },
  {
   "cell_type": "code",
   "execution_count": 18,
   "id": "93035df3",
   "metadata": {},
   "outputs": [
    {
     "name": "stdout",
     "output_type": "stream",
     "text": [
      "champion is in danger\n",
      "champion is in danger\n",
      "champion is safe\n"
     ]
    },
    {
     "data": {
      "text/plain": [
       "True"
      ]
     },
     "execution_count": 18,
     "metadata": {},
     "output_type": "execute_result"
    }
   ],
   "source": [
    "def blueCase5(x,y):\n",
    "    if y<7500 and x<11400 and y<-x+15000:\n",
    "        print(\"champion is safe\")\n",
    "        return True\n",
    "    print(\"champion is in danger\")\n",
    "    return False\n",
    "\n",
    "coordinate_set1 = (8586,7167)\n",
    "coordinate_set2 = (11879,2647 )\n",
    "coordinate_set3 = (3545, 7182)\n",
    "\n",
    "blueCase5(*coordinate_set1)  # should print \"champion is in danger\"\n",
    "blueCase5(*coordinate_set2)  # should print \"champion is in danger\"\n",
    "blueCase5(*coordinate_set3)  # should print \"champion is safe\""
   ]
  },
  {
   "cell_type": "code",
   "execution_count": 20,
   "id": "129c2e8f",
   "metadata": {},
   "outputs": [
    {
     "name": "stdout",
     "output_type": "stream",
     "text": [
      "champion is in danger\n",
      "champion is in danger\n",
      "champion is safe\n"
     ]
    },
    {
     "data": {
      "text/plain": [
       "True"
      ]
     },
     "execution_count": 20,
     "metadata": {},
     "output_type": "execute_result"
    }
   ],
   "source": [
    "def redCase5(x,y):\n",
    "    if x>7500 and y>3000 and y>-x+15000:\n",
    "        print(\"champion is safe\")\n",
    "        return True\n",
    "        \n",
    "    print(\"champion is in danger\")\n",
    "    return False\n",
    "\n",
    "coordinate_set1 = (4602,7871)\n",
    "coordinate_set2 = (6870,4976 )\n",
    "coordinate_set3 = (7728, 10889)\n",
    "\n",
    "\n",
    "redCase5(*coordinate_set1)  # should print \"champion is in danger\"\n",
    "redCase5(*coordinate_set2)  # should print \"champion is in danger\"\n",
    "redCase5(*coordinate_set3)  # should print \"champion is safe\"\n"
   ]
  },
  {
   "cell_type": "code",
   "execution_count": 23,
   "id": "f090c290",
   "metadata": {},
   "outputs": [
    {
     "name": "stdout",
     "output_type": "stream",
     "text": [
      "champion is in danger\n",
      "champion is in danger\n",
      "champion is in danger\n",
      "champion is in danger\n",
      "champion is safe\n",
      "champion is safe\n",
      "champion is safe\n"
     ]
    },
    {
     "data": {
      "text/plain": [
       "True"
      ]
     },
     "execution_count": 23,
     "metadata": {},
     "output_type": "execute_result"
    }
   ],
   "source": [
    "def blueCase6(x,y):\n",
    "    if x<11400:\n",
    "        if x<4200 and y<5200:\n",
    "            print(\"champion is safe\")\n",
    "            return True\n",
    "        elif 4200<x<7500 and y<x+1000 and y<7500:\n",
    "            print(\"champion is safe\")\n",
    "            return True\n",
    "        elif x>7500 and y<-x+15000:\n",
    "            print(\"champion is safe\")\n",
    "            return True \n",
    "        \n",
    "    print(\"champion is in danger\")\n",
    "    return False\n",
    "\n",
    "coordinate_set1 = (2125,5768)\n",
    "coordinate_set2 = (4367,5860)\n",
    "coordinate_set3 = (8075, 7343)\n",
    "coordinate_set4 = (6981,7696)\n",
    "coordinate_set5 = (2124,3877)\n",
    "coordinate_set6 = (4683,4915)\n",
    "coordinate_set7 = (8223,5286)\n",
    "\n",
    "\n",
    "blueCase6(*coordinate_set1)  # should print \"champion is in danger\"\n",
    "blueCase6(*coordinate_set2)  # should print \"champion is in danger\"\n",
    "blueCase6(*coordinate_set3)  # should print \"champion is in danger\"\n",
    "blueCase6(*coordinate_set4)  # should print \"champion is in danger\"\n",
    "blueCase6(*coordinate_set5)  # should print \"champion is safe\"\n",
    "blueCase6(*coordinate_set6)  # should print \"champion is safe\"\n",
    "blueCase6(*coordinate_set7)  # should print \"champion is safe\"\n"
   ]
  },
  {
   "cell_type": "code",
   "execution_count": 25,
   "id": "ddf23d69",
   "metadata": {},
   "outputs": [
    {
     "name": "stdout",
     "output_type": "stream",
     "text": [
      "champion is in danger\n",
      "champion is in danger\n",
      "champion is in danger\n",
      "champion is in danger\n",
      "champion is safe\n",
      "champion is safe\n",
      "champion is safe\n"
     ]
    },
    {
     "data": {
      "text/plain": [
       "True"
      ]
     },
     "execution_count": 25,
     "metadata": {},
     "output_type": "execute_result"
    }
   ],
   "source": [
    "def redCase6(x,y):\n",
    "    if y>3000:\n",
    "        if y>10800 and x>9800:\n",
    "            print(\"champion is safe\")\n",
    "            return True\n",
    "        elif 7500<y<10800 and y<x+1000 and x>7500:\n",
    "            print(\"champion is safe\")\n",
    "            return True\n",
    "        elif y<7500 and y>-x+15000:\n",
    "            print(\"champion is safe\")\n",
    "            return True\n",
    "        \n",
    "    print(\"champion is in danger\")\n",
    "    return False\n",
    "\n",
    "coordinate_set1 = (8920,13779)\n",
    "coordinate_set2 = (7901,9579)\n",
    "coordinate_set3 = (7309,8070)\n",
    "coordinate_set4 = (7962,6622)\n",
    "coordinate_set5 = (10517,12536)\n",
    "coordinate_set6 = (10103,10517)\n",
    "coordinate_set7 = (10959,5745)\n",
    "\n",
    "\n",
    "redCase6(*coordinate_set1)  # should print \"champion is in danger\"\n",
    "redCase6(*coordinate_set2)  # should print \"champion is in danger\"\n",
    "redCase6(*coordinate_set3)  # should print \"champion is in danger\"\n",
    "redCase6(*coordinate_set4)  # should print \"champion is in danger\"\n",
    "redCase6(*coordinate_set5)  # should print \"champion is safe\"\n",
    "redCase6(*coordinate_set6)  # should print \"champion is safe\"\n",
    "redCase6(*coordinate_set7)  # should print \"champion is safe\"\n"
   ]
  },
  {
   "cell_type": "code",
   "execution_count": 26,
   "id": "8211c61d",
   "metadata": {},
   "outputs": [
    {
     "name": "stdout",
     "output_type": "stream",
     "text": [
      "champion is in danger\n",
      "champion is safe\n"
     ]
    },
    {
     "data": {
      "text/plain": [
       "True"
      ]
     },
     "execution_count": 26,
     "metadata": {},
     "output_type": "execute_result"
    }
   ],
   "source": [
    "def blueCase7(x,y):\n",
    "    if x<7500 and y<-x+15000:\n",
    "        print(\"champion is safe\")\n",
    "        return True\n",
    "\n",
    "    print(\"champion is in danger\")\n",
    "    return False\n",
    "\n",
    "coordinate_set1 = (8000,5768)\n",
    "coordinate_set2 = (6000,5860)\n",
    "\n",
    "\n",
    "\n",
    "blueCase7(*coordinate_set1)  # should print \"champion is in danger\"\n",
    "blueCase7(*coordinate_set2)  # should print \"champion is safe\""
   ]
  },
  {
   "cell_type": "code",
   "execution_count": 27,
   "id": "c702df36",
   "metadata": {},
   "outputs": [
    {
     "name": "stdout",
     "output_type": "stream",
     "text": [
      "champion is in danger\n",
      "champion is safe\n"
     ]
    },
    {
     "data": {
      "text/plain": [
       "True"
      ]
     },
     "execution_count": 27,
     "metadata": {},
     "output_type": "execute_result"
    }
   ],
   "source": [
    "def redCase7(x,y):\n",
    "    if y>7500 and y>-x+15000:\n",
    "        print(\"champion is safe\")\n",
    "        return True\n",
    "\n",
    "    print(\"champion is in danger\")\n",
    "    return False\n",
    "\n",
    "coordinate_set1 = (8000,7000)\n",
    "coordinate_set2 = (8000,8000)\n",
    "\n",
    "\n",
    "\n",
    "redCase7(*coordinate_set1)  # should print \"champion is in danger\"\n",
    "redCase7(*coordinate_set2)  # should print \"champion is safe\""
   ]
  },
  {
   "cell_type": "code",
   "execution_count": 28,
   "id": "3666ddd5",
   "metadata": {},
   "outputs": [
    {
     "name": "stdout",
     "output_type": "stream",
     "text": [
      "champion is in danger\n",
      "champion is in danger\n",
      "champion is safe\n",
      "champion is safe\n"
     ]
    },
    {
     "data": {
      "text/plain": [
       "True"
      ]
     },
     "execution_count": 28,
     "metadata": {},
     "output_type": "execute_result"
    }
   ],
   "source": [
    "def blueCase8(x,y):\n",
    "    if x<7500:\n",
    "        if y<4200 and x<5200:\n",
    "            print(\"champion is safe\")\n",
    "            return True\n",
    "        elif y>4200 and y>x-1000 and y<-x+15000:\n",
    "            print(\"champion is safe\")\n",
    "            return True\n",
    "\n",
    "    print(\"champion is in danger\")\n",
    "    return False\n",
    "\n",
    "coordinate_set1 = (6167,2361)\n",
    "coordinate_set2 = (7126,8784)\n",
    "coordinate_set3 = (6000,8000)\n",
    "coordinate_set4 = (3639,2299)\n",
    "\n",
    "\n",
    "\n",
    "blueCase8(*coordinate_set1)  # should print \"champion is in danger\"\n",
    "blueCase8(*coordinate_set2)  # should print \"champion is in danger\"\n",
    "blueCase8(*coordinate_set3)  # should print \"champion is safe\"\n",
    "blueCase8(*coordinate_set4)  # should print \"champion is safe\""
   ]
  },
  {
   "cell_type": "code",
   "execution_count": 29,
   "id": "c49471e3",
   "metadata": {},
   "outputs": [
    {
     "name": "stdout",
     "output_type": "stream",
     "text": [
      "champion is safe\n",
      "champion is in danger\n",
      "champion is in danger\n",
      "champion is safe\n"
     ]
    },
    {
     "data": {
      "text/plain": [
       "True"
      ]
     },
     "execution_count": 29,
     "metadata": {},
     "output_type": "execute_result"
    }
   ],
   "source": [
    "def redCase8(x,y):\n",
    "    if y>7500:\n",
    "        if x>10800 and y>9800:\n",
    "            print(\"champion is safe\")\n",
    "            return True\n",
    "        elif x<10800 and y>x-1000 and y>-x+15000:\n",
    "            print(\"champion is safe\")\n",
    "            return True\n",
    "\n",
    "    print(\"champion is in danger\")\n",
    "    return False\n",
    "\n",
    "coordinate_set1 = (7689,7580)\n",
    "coordinate_set2 = (12065,9247)\n",
    "coordinate_set3 = (12304,7060)\n",
    "coordinate_set4 = (7000,10000)\n",
    "\n",
    "\n",
    "\n",
    "redCase8(*coordinate_set1)  # should print \"champion is safe\"\n",
    "redCase8(*coordinate_set2)  # should print \"champion is in danger\"\n",
    "redCase8(*coordinate_set3)  # should print \"champion is in danger\"\n",
    "redCase8(*coordinate_set4)  # should print \"champion is safe\""
   ]
  },
  {
   "cell_type": "code",
   "execution_count": 33,
   "id": "40727be9",
   "metadata": {},
   "outputs": [
    {
     "name": "stdout",
     "output_type": "stream",
     "text": [
      "champion is in danger\n",
      "champion is in danger\n",
      "champion is safe\n",
      "champion is safe\n"
     ]
    },
    {
     "data": {
      "text/plain": [
       "True"
      ]
     },
     "execution_count": 33,
     "metadata": {},
     "output_type": "execute_result"
    }
   ],
   "source": [
    "def blueCase9(x,y):\n",
    "    \n",
    "    if x<5447 and y<(-2.0624159268227*x)+16837.97955:\n",
    "        print(\"champion is safe\")\n",
    "        return True\n",
    "    elif x>5447 and y<(-2.1480295450622*x)+17304.316931954:\n",
    "        print(\"champion is safe\")\n",
    "        return True\n",
    "\n",
    "    print(\"champion is in danger\")\n",
    "    return False\n",
    "\n",
    "coordinate_set1 = (7080,2265)\n",
    "coordinate_set2 = (5120,6600)\n",
    "coordinate_set3 = (5810,2982)\n",
    "coordinate_set4 = (4126,6669)\n",
    "\n",
    "\n",
    "\n",
    "blueCase9(*coordinate_set1)  # should print \"champion is in danger\"\n",
    "blueCase9(*coordinate_set2)  # should print \"champion is in danger\"\n",
    "blueCase9(*coordinate_set3)  # should print \"champion is safe\"\n",
    "blueCase9(*coordinate_set4)  # should print \"champion is safe\""
   ]
  },
  {
   "cell_type": "code",
   "execution_count": 35,
   "id": "862089a9",
   "metadata": {},
   "outputs": [
    {
     "name": "stdout",
     "output_type": "stream",
     "text": [
      "champion is in danger\n",
      "champion is in danger\n",
      "champion is safe\n",
      "champion is safe\n"
     ]
    },
    {
     "data": {
      "text/plain": [
       "True"
      ]
     },
     "execution_count": 35,
     "metadata": {},
     "output_type": "execute_result"
    }
   ],
   "source": [
    "def redCase9(x,y):\n",
    "    \n",
    "    if y<9311 and y>(-0.3763593030811*x)+12834.599436:\n",
    "        print(\"champion is safe\")\n",
    "        return True\n",
    "    elif y>9311 and y>(-0.5142838248909*x)+14125.710884:\n",
    "        print(\"champion is safe\")\n",
    "        return True\n",
    "\n",
    "    print(\"champion is in danger\")\n",
    "    return False\n",
    "\n",
    "coordinate_set1 = (13248,7666)\n",
    "coordinate_set2 = (8193,9688)\n",
    "coordinate_set3 = (12000,9000)\n",
    "coordinate_set4 = (8329,11010)\n",
    "\n",
    "\n",
    "\n",
    "redCase9(*coordinate_set1)  # should print \"champion is in danger\"\n",
    "redCase9(*coordinate_set2)  # should print \"champion is in danger\"\n",
    "redCase9(*coordinate_set3)  # should print \"champion is safe\"\n",
    "redCase9(*coordinate_set4)  # should print \"champion is safe\""
   ]
  },
  {
   "cell_type": "code",
   "execution_count": 36,
   "id": "c144700c",
   "metadata": {},
   "outputs": [
    {
     "name": "stdout",
     "output_type": "stream",
     "text": [
      "champion is in danger\n",
      "champion is in danger\n",
      "champion is safe\n",
      "champion is safe\n"
     ]
    },
    {
     "data": {
      "text/plain": [
       "True"
      ]
     },
     "execution_count": 36,
     "metadata": {},
     "output_type": "execute_result"
    }
   ],
   "source": [
    "def blueCase10(x,y):\n",
    "    \n",
    "    if x<11400:\n",
    "        if x<5447 and y<(-0.3983844317973*x)+7774:\n",
    "            print(\"champion is safe\")\n",
    "            return True\n",
    "        elif x>5447 and y<(-0.6390055434235*x)+9084.6631950277:\n",
    "            print(\"champion is safe\")\n",
    "            return True\n",
    "\n",
    "    print(\"champion is in danger\")\n",
    "    return False\n",
    "\n",
    "coordinate_set1 = (2309,7113)\n",
    "coordinate_set2 = (9193,3826)\n",
    "coordinate_set3 = (3499,5690)\n",
    "coordinate_set4 = (7278,3179)\n",
    "\n",
    "\n",
    "\n",
    "blueCase10(*coordinate_set1)  # should print \"champion is in danger\"\n",
    "blueCase10(*coordinate_set2)  # should print \"champion is in danger\"\n",
    "blueCase10(*coordinate_set3)  # should print \"champion is safe\"\n",
    "blueCase10(*coordinate_set4)  # should print \"champion is safe\""
   ]
  },
  {
   "cell_type": "code",
   "execution_count": 37,
   "id": "5b2c53b2",
   "metadata": {},
   "outputs": [
    {
     "name": "stdout",
     "output_type": "stream",
     "text": [
      "champion is in danger\n",
      "champion is in danger\n",
      "champion is safe\n",
      "champion is safe\n"
     ]
    },
    {
     "data": {
      "text/plain": [
       "True"
      ]
     },
     "execution_count": 37,
     "metadata": {},
     "output_type": "execute_result"
    }
   ],
   "source": [
    "def redCase10(x,y):\n",
    "    \n",
    "    if y>3000:\n",
    "        if x<9361 and y>(-2.3536322283175*x)+31343.8512892805:\n",
    "            print(\"champion is safe\")\n",
    "            return True\n",
    "        elif x>9361 and y>(-1.6880181866809*x)+25113.038245:\n",
    "            print(\"champion is safe\")\n",
    "            return True\n",
    "\n",
    "    print(\"champion is in danger\")\n",
    "    return False\n",
    "\n",
    "coordinate_set1 = (7925,11176)\n",
    "coordinate_set2 = (10590,5767)\n",
    "coordinate_set3 = (9322,11461)\n",
    "coordinate_set4 = (12402,6052)\n",
    "\n",
    "\n",
    "\n",
    "redCase10(*coordinate_set1)  # should print \"champion is in danger\"\n",
    "redCase10(*coordinate_set2)  # should print \"champion is in danger\"\n",
    "redCase10(*coordinate_set3)  # should print \"champion is safe\"\n",
    "redCase10(*coordinate_set4)  # should print \"champion is safe\""
   ]
  },
  {
   "cell_type": "code",
   "execution_count": null,
   "id": "ff82aa00",
   "metadata": {},
   "outputs": [],
   "source": []
  },
  {
   "cell_type": "code",
   "execution_count": null,
   "id": "4bbaf509",
   "metadata": {},
   "outputs": [],
   "source": []
  },
  {
   "cell_type": "code",
   "execution_count": null,
   "id": "747a7cf4",
   "metadata": {},
   "outputs": [],
   "source": []
  },
  {
   "cell_type": "code",
   "execution_count": null,
   "id": "756e550c",
   "metadata": {},
   "outputs": [],
   "source": []
  },
  {
   "cell_type": "code",
   "execution_count": null,
   "id": "207ecacc",
   "metadata": {},
   "outputs": [],
   "source": []
  }
 ],
 "metadata": {
  "kernelspec": {
   "display_name": "Python 3 (ipykernel)",
   "language": "python",
   "name": "python3"
  },
  "language_info": {
   "codemirror_mode": {
    "name": "ipython",
    "version": 3
   },
   "file_extension": ".py",
   "mimetype": "text/x-python",
   "name": "python",
   "nbconvert_exporter": "python",
   "pygments_lexer": "ipython3",
   "version": "3.11.5"
  }
 },
 "nbformat": 4,
 "nbformat_minor": 5
}
