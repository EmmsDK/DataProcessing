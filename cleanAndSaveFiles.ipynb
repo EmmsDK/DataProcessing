{
 "cells": [
  {
   "cell_type": "code",
   "execution_count": null,
   "id": "1e24ce76",
   "metadata": {},
   "outputs": [],
   "source": [
    "import os\n",
    "import json\n",
    "import sys"
   ]
  },
  {
   "cell_type": "code",
   "execution_count": 7,
   "id": "b20eba89",
   "metadata": {},
   "outputs": [
    {
     "name": "stdout",
     "output_type": "stream",
     "text": [
      "Cleaned game data has been saved.\n"
     ]
    }
   ],
   "source": [
    "%run fetchGameData.ipynb\n",
    "\n",
    "def cleanAndSaveFiles(rawFolderPath, cleanedFolderPath, columnsToExclude, displayNoZero):\n",
    "    # Ensure the cleaned data folder exists\n",
    "    if not os.path.exists(cleanedFolderPath):\n",
    "        os.makedirs(cleanedFolderPath)\n",
    "\n",
    "    files = os.listdir(rawFolderPath)\n",
    "    totalAmountOfFiles = len(files)\n",
    "    processedFilesCount = 0\n",
    "\n",
    "    # Iterate through each file in the raw data folder\n",
    "    for filename in files:\n",
    "        rawFilePath = os.path.join(rawFolderPath, filename)\n",
    "        cleanedFilePath = os.path.join(cleanedFolderPath, filename)\n",
    "\n",
    "        # Read the raw game data\n",
    "        with open(rawFilePath, \"r\", encoding=\"utf-8\") as file:\n",
    "            data = json.load(file)\n",
    "\n",
    "        # Clean the data\n",
    "        cleanedData = cleanData(data, columnsToExclude, displayNoZero)\n",
    "\n",
    "        # Save the cleaned data\n",
    "        with open(cleanedFilePath, \"w\", encoding=\"utf-8\") as file:\n",
    "            json.dump(cleanedData, file, indent=4, ensure_ascii=False)\n",
    "        \n",
    "        processedFilesCount += 1\n",
    "        if processedFilesCount % 250 == 0:\n",
    "            print(f\"Processed {processedFilesCount} out of {totalAmountOfFiles} files.\")\n",
    "\n",
    "    if processedFilesCount % 250 != 0:\n",
    "        # Print the final count if it doesn't end on a multiple of 250\n",
    "        print(f\"Processed {processedFilesCount} out of {totalAmountOfFiles} files.\")\n",
    "\n",
    "# Example usage\n",
    "columnsToExclude = ['magicDamageDone', 'magicDamageDoneToChampions', 'magicDamageTaken', \n",
    "                    'physicalDamageDone', 'physicalDamageDoneToChampions', 'physicalDamageTaken', \n",
    "                    'trueDamageDone', 'trueDamageDoneToChampions', 'trueDamageTaken', 'timeEnemySpentControlled']\n",
    "displayNoZero = True\n"
   ]
  },
  {
   "cell_type": "code",
   "execution_count": null,
   "id": "2933ff99",
   "metadata": {},
   "outputs": [
    {
     "name": "stdout",
     "output_type": "stream",
     "text": [
      "Processed 250 out of 17608 files.\n",
      "Processed 500 out of 17608 files.\n",
      "Processed 750 out of 17608 files.\n",
      "Processed 1000 out of 17608 files.\n",
      "Processed 1250 out of 17608 files.\n",
      "Processed 1500 out of 17608 files.\n",
      "Processed 1750 out of 17608 files.\n"
     ]
    }
   ],
   "source": [
    "rawFolderPath = \"D:\\\\RawSilverMatchJsons\"\n",
    "cleanedFolderPath = \"D:\\\\CleanedSilverMatchJsons\"\n",
    "cleanAndSaveFiles(rawFolderPath, cleanedFolderPath, columnsToExclude, displayNoZero)"
   ]
  },
  {
   "cell_type": "code",
   "execution_count": null,
   "id": "8faca59f",
   "metadata": {},
   "outputs": [],
   "source": [
    "rawFolderPath = \"D:\\\\RawBronzeMatchJsons\"\n",
    "cleanedFolderPath = \"D:\\\\CleanedBronzeMatchJsons\"\n",
    "cleanAndSaveFiles(rawFolderPath, cleanedFolderPath, columnsToExclude, displayNoZero)"
   ]
  },
  {
   "cell_type": "code",
   "execution_count": null,
   "id": "1dd18ac0",
   "metadata": {},
   "outputs": [],
   "source": [
    "rawFolderPath = \"D:\\\\RawIronMatchJsons\"\n",
    "cleanedFolderPath = \"D:\\\\CleanedIronMatchJsons\"\n",
    "cleanAndSaveFiles(rawFolderPath, cleanedFolderPath, columnsToExclude, displayNoZero)"
   ]
  },
  {
   "cell_type": "code",
   "execution_count": null,
   "id": "0edb44de",
   "metadata": {},
   "outputs": [],
   "source": [
    "rawFolderPath = \"D:\\\\RawGoldMatchJsons\"\n",
    "cleanedFolderPath = \"D:\\\\CleanedGoldMatchJsons\"\n",
    "cleanAndSaveFiles(rawFolderPath, cleanedFolderPath, columnsToExclude, displayNoZero)"
   ]
  },
  {
   "cell_type": "code",
   "execution_count": null,
   "id": "c2ba505f",
   "metadata": {},
   "outputs": [],
   "source": [
    "rawFolderPath = \"D:\\\\RawDiamondMatchJsons\"\n",
    "cleanedFolderPath = \"D:\\\\CleanedDiamondMatchJsons\"\n",
    "cleanAndSaveFiles(rawFolderPath, cleanedFolderPath, columnsToExclude, displayNoZero)"
   ]
  },
  {
   "cell_type": "code",
   "execution_count": null,
   "id": "ab798b82",
   "metadata": {},
   "outputs": [],
   "source": [
    "rawFolderPath = \"D:\\\\RawEmeraldMatchJsons\"\n",
    "cleanedFolderPath = \"D:\\\\CleanedEmeraldMatchJsons\"\n",
    "cleanAndSaveFiles(rawFolderPath, cleanedFolderPath, columnsToExclude, displayNoZero)"
   ]
  },
  {
   "cell_type": "code",
   "execution_count": null,
   "id": "ac1b5b33",
   "metadata": {},
   "outputs": [],
   "source": [
    "rawFolderPath = \"D:\\\\RawPlatinumMatchJsons\"\n",
    "cleanedFolderPath = \"D:\\\\CleanedPlatinumMatchJsons\"\n",
    "cleanAndSaveFiles(rawFolderPath, cleanedFolderPath, columnsToExclude, displayNoZero)"
   ]
  },
  {
   "cell_type": "code",
   "execution_count": null,
   "id": "abe37f2d",
   "metadata": {},
   "outputs": [],
   "source": []
  }
 ],
 "metadata": {
  "kernelspec": {
   "display_name": "Python 3 (ipykernel)",
   "language": "python",
   "name": "python3"
  },
  "language_info": {
   "codemirror_mode": {
    "name": "ipython",
    "version": 3
   },
   "file_extension": ".py",
   "mimetype": "text/x-python",
   "name": "python",
   "nbconvert_exporter": "python",
   "pygments_lexer": "ipython3",
   "version": "3.11.5"
  }
 },
 "nbformat": 4,
 "nbformat_minor": 5
}
