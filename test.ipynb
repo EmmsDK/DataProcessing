{
 "cells": [
  {
   "cell_type": "code",
   "execution_count": null,
   "id": "d2d23803",
   "metadata": {},
   "outputs": [],
   "source": [
    "import os\n",
    "import pandas as pd\n",
    "import json\n",
    "import pprint\n",
    "import re\n",
    "import nbformat"
   ]
  },
  {
   "cell_type": "code",
   "execution_count": null,
   "id": "38ca6a7a",
   "metadata": {},
   "outputs": [],
   "source": [
    "# Define the path\n",
    "path = os.path.join(\"GitHub\", \"DataProcessing\")\n",
    "\n",
    "# Print the path\n",
    "print(path)\n"
   ]
  },
  {
   "cell_type": "code",
   "execution_count": null,
   "id": "8d4c6032",
   "metadata": {},
   "outputs": [],
   "source": [
    "pwd"
   ]
  },
  {
   "cell_type": "code",
   "execution_count": null,
   "id": "9eb71c65",
   "metadata": {},
   "outputs": [],
   "source": [
    "td = pd.read_json(\"..\\DataProcessing\\TestData\\message.json\", orient='index')"
   ]
  },
  {
   "cell_type": "code",
   "execution_count": null,
   "id": "2c732000",
   "metadata": {},
   "outputs": [],
   "source": [
    "# Read the JSON file\n",
    "with open(\"../DataProcessing/TestData/message.json\", \"r\") as file:\n",
    "    data = json.load(file)"
   ]
  },
  {
   "cell_type": "code",
   "execution_count": null,
   "id": "d4e486fc",
   "metadata": {},
   "outputs": [],
   "source": [
    "# Access the 'participants' array within 'metadata'\n",
    "participants_data = data['metadata']['participants']\n",
    "participants_data"
   ]
  },
  {
   "cell_type": "code",
   "execution_count": null,
   "id": "c5426211",
   "metadata": {},
   "outputs": [],
   "source": [
    "puuidPair = data['info']['participants']\n",
    "puuidPair"
   ]
  },
  {
   "cell_type": "code",
   "execution_count": null,
   "id": "51b075a8",
   "metadata": {},
   "outputs": [],
   "source": []
  },
  {
   "cell_type": "code",
   "execution_count": null,
   "id": "9ab47bb7",
   "metadata": {},
   "outputs": [],
   "source": [
    "for counter, frame in enumerate(data['info']['frames']):\n",
    "    timestamp = frame['timestamp']\n",
    "    print(f\"{counter + 1} Timestamp = {timestamp}\")"
   ]
  },
  {
   "cell_type": "code",
   "execution_count": null,
   "id": "4758beff",
   "metadata": {
    "scrolled": true
   },
   "outputs": [],
   "source": [
    "def get_participant_data_at_minute(data, participant_id, target_minute, display_nozero=False):\n",
    "    timestamp_data = []\n",
    "\n",
    "    def display_nonzero_params(participant_frame):\n",
    "        # Iterate through the participant frame's items\n",
    "        for key, value in participant_frame.items():\n",
    "            if isinstance(value, dict):\n",
    "                print(f\"{key}:\")\n",
    "                # If the value is a nested dictionary, iterate through its items\n",
    "                display_nonzero_params(value)\n",
    "            elif isinstance(value, (int, float)) and (not display_nozero or value != 0):\n",
    "                # Display the parameter if it's a numeric value and not zero\n",
    "                print(f\"{key}: {value}\")\n",
    "\n",
    "    # Check if there are frames in the data\n",
    "    if 'info' in data and 'frames' in data['info']:\n",
    "        for frame in data['info']['frames']:\n",
    "            timestamp = frame['timestamp']\n",
    "            current_minute = round(timestamp / 60000)  # Convert milliseconds to minutes and round to the nearest minute\n",
    "\n",
    "            if current_minute == target_minute:\n",
    "                participant_frames = frame.get('participantFrames', {})\n",
    "                if participant_id in participant_frames:\n",
    "                    participant_data = participant_frames[participant_id]\n",
    "                    timestamp_data.append([timestamp, participant_data])\n",
    "\n",
    "                    # Display nonzero parameters if specified\n",
    "                    if display_nozero:\n",
    "                        print(f\"Timestamp at minute {target_minute}: {timestamp}\")\n",
    "                        display_nonzero_params(participant_data)\n",
    "                        print(\"\\n---\\n\")\n",
    "\n",
    "    return timestamp_data\n",
    "\n",
    "desired_participant_id = \"2\"\n",
    "desired_minute = 5 \n",
    "\n",
    "# Call the function with display_nozero set to True\n",
    "result = get_participant_data_at_minute(data, desired_participant_id, desired_minute, display_nozero=True)\n"
   ]
  },
  {
   "cell_type": "code",
   "execution_count": null,
   "id": "1e10c98a",
   "metadata": {},
   "outputs": [],
   "source": [
    "def get_participant_info(participants_data):\n",
    "    # Assuming participants_data is a list of summoner IDs\n",
    "    # You might need to fetch summoner information from your data source\n",
    "    # and map it to participant IDs\n",
    "    participant_info = {}\n",
    "    \n",
    "    # Replace this with your logic to fetch summoner information\n",
    "    for i, summoner_id in enumerate(participants_data):\n",
    "        participant_info[i + 1] = {\n",
    "            'summoner_id': summoner_id,\n",
    "            'participant_id': f'Participant{i + 1}',  # Replace with actual participant ID\n",
    "            'champion_name': f'Champion{i + 1}',  # Replace with actual champion name\n",
    "        }\n",
    "    \n",
    "    return participant_info"
   ]
  },
  {
   "cell_type": "code",
   "execution_count": null,
   "id": "070a0872",
   "metadata": {},
   "outputs": [],
   "source": [
    "participant_info"
   ]
  },
  {
   "cell_type": "code",
   "execution_count": null,
   "id": "f0c439ab",
   "metadata": {},
   "outputs": [],
   "source": [
    "def getParticipantIdByKill(data, start_timestamp, end_timestamp):\n",
    "    for frame in data['info']['frames']:\n",
    "        timestamp = frame['timestamp']\n",
    "        \n",
    "        for event in frame.get('events', []):\n",
    "            if event['type'] == 'CHAMPION_KILL':\n",
    "                kill_timestamp = event['timestamp']\n",
    "                \n",
    "                if start_timestamp <= kill_timestamp <= end_timestamp:\n",
    "                    print(f\"Timestamp of CHAMPION_KILL event: {kill_timestamp}\")\n",
    "                    print(\"Victim Damage Dealt:\")\n",
    "                    \n",
    "                    # Assuming 'victimDamageDealt' is a list in the 'CHAMPION_KILL' event\n",
    "                    for damage_info in event.get('victimDamageDealt', []):\n",
    "                        print(f\"  Name: {damage_info['name']}\")\n",
    "\n",
    "# Example usage: Specify the start and end timestamps\n",
    "start_timestamp = 120000  # Replace with your desired start timestamp\n",
    "end_timestamp = 180000    # Replace with your desired end timestamp\n",
    "\n",
    "# Call the function with the specified time frame\n",
    "getParticipantIdByKill(data, start_timestamp, end_timestamp)\n"
   ]
  },
  {
   "cell_type": "code",
   "execution_count": null,
   "id": "417663e9",
   "metadata": {
    "scrolled": true
   },
   "outputs": [],
   "source": [
    "def get_timestamp_of_champion_kill(data):\n",
    "    for frame in data['info']['frames']:\n",
    "        for event in frame.get('events', []):\n",
    "            if event['type'] == 'CHAMPION_KILL':\n",
    "                timestamp = event['timestamp']\n",
    "                print(f\"Timestamp of CHAMPION_KILL: {timestamp}\")\n",
    "        \n",
    "                \n",
    "# Call the function\n",
    "get_timestamp_of_champion_kill(data)\n"
   ]
  },
  {
   "cell_type": "code",
   "execution_count": null,
   "id": "9f434d15",
   "metadata": {
    "scrolled": true
   },
   "outputs": [],
   "source": [
    "def get_event_of_champion_kill_at_timestamp(data, target_timestamp):\n",
    "    for frame in data['info']['frames']:\n",
    "        for event in frame.get('events', []):\n",
    "            if event['type'] == 'CHAMPION_KILL' and event['timestamp'] == target_timestamp:\n",
    "                return event\n",
    "\n",
    "# Example: Get CHAMPION_KILL event data at timestamp 134226\n",
    "target_timestamp = 134226\n",
    "champion_kill_event = get_event_of_champion_kill_at_timestamp(data, target_timestamp)\n",
    "\n",
    "# Print or use the champion_kill_event data as needed\n",
    "if champion_kill_event:\n",
    "    print(f\"CHAMPION_KILL event data:\")\n",
    "    pprint.pprint(champion_kill_event)\n",
    "else:\n",
    "    print(f\"No CHAMPION_KILL event found at timestamp {target_timestamp}.\")\n"
   ]
  },
  {
   "cell_type": "code",
   "execution_count": null,
   "id": "9b1dd40a",
   "metadata": {},
   "outputs": [],
   "source": []
  },
  {
   "cell_type": "code",
   "execution_count": null,
   "id": "360d2d7f",
   "metadata": {},
   "outputs": [],
   "source": []
  },
  {
   "cell_type": "code",
   "execution_count": null,
   "id": "81bfb2fa",
   "metadata": {},
   "outputs": [],
   "source": []
  }
 ],
 "metadata": {
  "kernelspec": {
   "display_name": "Python 3 (ipykernel)",
   "language": "python",
   "name": "python3"
  },
  "language_info": {
   "codemirror_mode": {
    "name": "ipython",
    "version": 3
   },
   "file_extension": ".py",
   "mimetype": "text/x-python",
   "name": "python",
   "nbconvert_exporter": "python",
   "pygments_lexer": "ipython3",
   "version": "3.11.5"
  }
 },
 "nbformat": 4,
 "nbformat_minor": 5
}
