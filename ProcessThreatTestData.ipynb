{
 "cells": [
  {
   "cell_type": "code",
   "execution_count": 41,
   "id": "21eb9f75",
   "metadata": {},
   "outputs": [],
   "source": [
    "import os\n",
    "import json\n",
    "import numpy as np\n",
    "import pandas as pd\n",
    "\n",
    "from mpl_toolkits.mplot3d import Axes3D\n",
    "import plotly.graph_objects as go\n",
    "import matplotlib.pyplot as plt\n",
    "import matplotlib.image as mpimg\n",
    "\n",
    "from ipywidgets import interact, fixed, IntSlider"
   ]
  },
  {
   "cell_type": "code",
   "execution_count": 2,
   "id": "828215e2",
   "metadata": {},
   "outputs": [],
   "source": [
    "numGames = 40"
   ]
  },
  {
   "cell_type": "markdown",
   "id": "ceb7b56c",
   "metadata": {},
   "source": [
    "    rawFolderPath = \"D:/EUW/ThreatTestData/Ingame/RawIngameThreatTestData\"\n",
    "    rawFolderPath = \"D:/EUW/ThreatTestData/Postgame/RawPostGameThreatTestData\""
   ]
  },
  {
   "cell_type": "markdown",
   "id": "d8bfd58e",
   "metadata": {},
   "source": [
    "# Ingame Data: Process and Cleaning"
   ]
  },
  {
   "cell_type": "code",
   "execution_count": 6,
   "id": "d2eb00e1",
   "metadata": {},
   "outputs": [
    {
     "name": "stdout",
     "output_type": "stream",
     "text": [
      "Cleaned game data has been saved.\n"
     ]
    }
   ],
   "source": [
    "%run fetchGameData.ipynb\n",
    "\n",
    "def cleanAndSaveIngameFiles(rawFolderPath, cleanedFolderPath, columnsToExclude, displayNoZero, eventsToExclude):\n",
    "    if not os.path.exists(cleanedFolderPath):\n",
    "        os.makedirs(cleanedFolderPath)\n",
    "\n",
    "    files = os.listdir(rawFolderPath)\n",
    "    totalAmountOfFiles = len(files)  # Define totalAmountOfFiles here\n",
    "    processedFilesCount = 0\n",
    "\n",
    "    for filename in files:\n",
    "        rawFilePath = os.path.join(rawFolderPath, filename)\n",
    "        cleanedFilePath = os.path.join(cleanedFolderPath, filename)\n",
    "\n",
    "        with open(rawFilePath, \"r\", encoding=\"utf-8\") as file:\n",
    "            data = json.load(file)\n",
    "\n",
    "        cleanedData = cleanData(data, columnsToExclude, displayNoZero, eventsToExclude)\n",
    "\n",
    "        with open(cleanedFilePath, \"w\", encoding=\"utf-8\") as file:\n",
    "            json.dump(cleanedData, file, indent=4, ensure_ascii=False)\n",
    "        \n",
    "        processedFilesCount += 1\n",
    "        if processedFilesCount % 250 == 0:\n",
    "            print(f\"Processed {processedFilesCount} out of {totalAmountOfFiles} files.\")\n",
    "\n",
    "    if processedFilesCount % 250 != 0 or processedFilesCount == totalAmountOfFiles:\n",
    "        # Print the final count if it doesn't end on a multiple of 250 or if it's the last file\n",
    "        print(f\"Processed {processedFilesCount} out of {totalAmountOfFiles} files.\")\n",
    "\n",
    "\n",
    "\n",
    "eventsToExclude = ['WARD_PLACED', 'SKILL_LEVEL_UP', 'ITEM_DESTROYED', 'WARD_KILL', 'ITEM_SOLD', 'ITEM_UNDO']\n",
    "        \n",
    "columnsToExclude = ['magicDamageDone', 'magicDamageDoneToChampions', 'magicDamageTaken', \n",
    "                    'physicalDamageDone', 'physicalDamageDoneToChampions', 'physicalDamageTaken', \n",
    "                    'trueDamageDone', 'trueDamageDoneToChampions', 'trueDamageTaken', 'timeEnemySpentControlled']\n",
    "displayNoZero = True"
   ]
  },
  {
   "cell_type": "code",
   "execution_count": 7,
   "id": "37ab9a9e",
   "metadata": {},
   "outputs": [
    {
     "name": "stdout",
     "output_type": "stream",
     "text": [
      "Processed 40 out of 40 files.\n"
     ]
    }
   ],
   "source": [
    "rawFolderPath = \"D:/EUW/ThreatTestData/Ingame/RawIngameThreatTestData\"\n",
    "cleanedFolderPath = \"D:/EUW/ThreatTestData/Ingame/CleanedIngameThreatTestData\"\n",
    "cleanAndSaveIngameFiles(rawFolderPath, cleanedFolderPath, columnsToExclude, displayNoZero, eventsToExclude)"
   ]
  },
  {
   "cell_type": "code",
   "execution_count": 8,
   "id": "941ed725",
   "metadata": {},
   "outputs": [],
   "source": [
    "def consolidateAndFilterIngameData(directoryPath, outputFilePath):\n",
    "    consolidatedData = {}\n",
    "    gamesProcessed = 0\n",
    "\n",
    "    for filename in os.listdir(directoryPath):\n",
    "        if gamesProcessed > numGames:\n",
    "            break\n",
    "\n",
    "        filePath = os.path.join(directoryPath, filename)\n",
    "        \n",
    "        if os.path.isdir(filePath) or not filePath.endswith('.json'):\n",
    "            print(f\"Skipping: {filePath}\")  # Debug print for skipping\n",
    "            continue\n",
    "\n",
    "        with open(filePath, 'r', encoding='utf-8') as file:\n",
    "            ingameData = json.load(file)\n",
    "        \n",
    "        relevantData = {\n",
    "            'frameInterval': ingameData['info'].get('frameInterval', 60000),\n",
    "            'frames': [],\n",
    "            'gameEnd': None,\n",
    "            'allBuildingKills': []  # List to store all BUILDING_KILL events\n",
    "        }\n",
    "        \n",
    "        gameDuration = 0\n",
    "\n",
    "        for frame in ingameData['info'].get('frames', []):\n",
    "            newFrame = {'participantFrames': {}, 'events': []}\n",
    "            \n",
    "            # Process participant frames for IDs 3 and 8\n",
    "            for participantId, participantInfo in frame.get('participantFrames', {}).items():\n",
    "                if int(participantId) in [3, 8]:\n",
    "                    newFrame['participantFrames'][participantId] = participantInfo\n",
    "\n",
    "            # Process all BUILDING_KILL events and add them to the allBuildingKills list\n",
    "            for event in frame.get('events', []):\n",
    "                if event['type'] == 'BUILDING_KILL':\n",
    "                    relevantData['allBuildingKills'].append(event)\n",
    "\n",
    "            # Process CHAMPION_KILL and ELITE_MONSTER_KILL events based on participation by IDs 3 or 8\n",
    "            for event in frame.get('events', []):\n",
    "                if event['type'] in ['CHAMPION_KILL', 'ELITE_MONSTER_KILL']:\n",
    "                    participants = [event.get('killerId')] + event.get('assistingParticipantIds', [])\n",
    "                    if 'victimId' in event:\n",
    "                        participants.append(event['victimId'])\n",
    "                    if any(pid in [3, 8] for pid in participants):\n",
    "                        newFrame['events'].append(event)\n",
    "\n",
    "            if newFrame['participantFrames'] or newFrame['events']:\n",
    "                relevantData['frames'].append(newFrame)\n",
    "                \n",
    "            # Look for GAME_END event to capture game duration and winning team\n",
    "            if 'GAME_END' not in relevantData:  # Ensure we only capture this once per game\n",
    "                for event in frame.get('events', []):\n",
    "                    if event['type'] == 'GAME_END':\n",
    "                        relevantData['gameEnd'] = {\n",
    "                            'winningTeam': event.get('winningTeam'),\n",
    "                            'timestamp': event.get('timestamp')\n",
    "                        }\n",
    "                        gameDuration = event.get('timestamp')\n",
    "                        break\n",
    "\n",
    "        gamesProcessed += 1\n",
    "\n",
    "        if gameDuration < 300000:  # Skip if game duration is less than 5 minutes\n",
    "            continue\n",
    "\n",
    "        matchId = ingameData.get('metadata', {}).get('matchId', f'unknown_{gamesProcessed}')\n",
    "        consolidatedData[matchId] = relevantData\n",
    "        \n",
    "    os.makedirs(os.path.dirname(outputFilePath), exist_ok=True)\n",
    "\n",
    "    with open(outputFilePath, 'w', encoding='utf-8') as outFile:\n",
    "        json.dump(consolidatedData, outFile, indent=4)\n",
    "    \n",
    "    print(f\"Consolidated and filtered data for {gamesProcessed} games has been saved to {outputFilePath}\")"
   ]
  },
  {
   "cell_type": "code",
   "execution_count": 9,
   "id": "34b457a4",
   "metadata": {},
   "outputs": [
    {
     "name": "stdout",
     "output_type": "stream",
     "text": [
      "Consolidated and filtered data for 40 games has been saved to D:/EUW/ThreatTestData/Ingame/MidIngameThreatTestData.json\n"
     ]
    }
   ],
   "source": [
    "directoryPath = \"D:/EUW/ThreatTestData/Ingame/CleanedIngameThreatTestData\"\n",
    "outputFilePath = \"D:/EUW/ThreatTestData/Ingame/MidIngameThreatTestData.json\"\n",
    "consolidateAndFilterIngameData(directoryPath, outputFilePath)"
   ]
  },
  {
   "cell_type": "code",
   "execution_count": 10,
   "id": "341d4638",
   "metadata": {},
   "outputs": [],
   "source": [
    "def saveStructuredAttributesForIngameData(filePath, numGames, outputFilePath):\n",
    "    try:\n",
    "        with open(filePath, 'r') as file:\n",
    "            data = json.load(file)\n",
    "    except Exception as e:\n",
    "        print(f\"Failed to read or parse JSON from {filePath}: {e}\")\n",
    "        return\n",
    "\n",
    "    structuredGamesData = {}\n",
    "    gamesProcessed = 0\n",
    "\n",
    "    for gameId, gameData in data.items():\n",
    "        if gamesProcessed >= numGames:\n",
    "            break\n",
    "\n",
    "        structuredDataP3, structuredDataP8 = {'frames': []}, {'frames': []}\n",
    "        gameEndData = gameData.get('gameEnd', None)\n",
    "        \n",
    "        allBuildingKills = gameData.get('allBuildingKills', [])\n",
    "        \n",
    "        for frame in gameData.get('frames', []):\n",
    "            frameDataP3 = {'totalGold': None, 'xp': None, 'events': [], 'position': {}, 'damageStats': {}}\n",
    "            frameDataP8 = {'totalGold': None, 'xp': None, 'events': [], 'position': {}, 'damageStats': {}}\n",
    "\n",
    "            # Process data for participant 3\n",
    "            participantData3 = frame.get('participantFrames', {}).get('3')\n",
    "            if participantData3:\n",
    "                frameDataP3['totalGold'] = participantData3.get('totalGold', 0)\n",
    "                frameDataP3['xp'] = participantData3.get('xp', 0)\n",
    "                frameDataP3['position'] = participantData3.get('position', {})\n",
    "                frameDataP3['damageStats'] = participantData3.get('damageStats', {})\n",
    "\n",
    "            # Process data for participant 8\n",
    "            participantData8 = frame.get('participantFrames', {}).get('8')\n",
    "            if participantData8:\n",
    "                frameDataP8['totalGold'] = participantData8.get('totalGold', 0)\n",
    "                frameDataP8['xp'] = participantData8.get('xp', 0)\n",
    "                frameDataP8['position'] = participantData8.get('position', {})\n",
    "                frameDataP8['damageStats'] = participantData8.get('damageStats', {})\n",
    "\n",
    "            # Process relevant events for this frame\n",
    "            for event in frame.get('events', []):\n",
    "                # CHAMPION_KILL events processing\n",
    "                if event['type'] == 'CHAMPION_KILL' and (event.get('killerId') in [3, 8] or event.get('victimId') in [3, 8] or set(event.get('assistingParticipantIds', [])).intersection({3, 8})):\n",
    "                    relevant_event = {\n",
    "                        'killerId': event.get('killerId'),\n",
    "                        'victimId': event.get('victimId'),\n",
    "                        'timestamp': event.get('timestamp'),\n",
    "                        'position': event.get('position'),\n",
    "                        'assistingParticipants': event.get('assistingParticipantIds', [])\n",
    "                    }\n",
    "                    if 3 in [event.get('killerId'), event.get('victimId')] or 3 in event.get('assistingParticipantIds', []):\n",
    "                        frameDataP3['events'].append(relevant_event)\n",
    "                    if 8 in [event.get('killerId'), event.get('victimId')] or 8 in event.get('assistingParticipantIds', []):\n",
    "                        frameDataP8['events'].append(relevant_event)\n",
    "\n",
    "                # ELITE_MONSTER_KILL events processing\n",
    "                if event['type'] == 'ELITE_MONSTER_KILL' and (event.get('killerId') in [3, 8] or set(event.get('assistingParticipantIds', [])).intersection({3,8})):\n",
    "                    elite_event = {\n",
    "                        'killerId': event.get('killerId'),\n",
    "                        'killerTeamId': event.get('killerTeamId'),\n",
    "                        'monsterType': event.get('monsterType'),\n",
    "                        'position': event.get('position'),\n",
    "                        'timestamp': event.get('timestamp'),\n",
    "                        'assistingParticipants': event.get('assistingParticipantIds', [])\n",
    "                    }\n",
    "                    if 3 in [event.get('killerId')] or 3 in event.get('assistingParticipantIds', []):\n",
    "                        frameDataP3['events'].append(elite_event)\n",
    "                    if 8 in [event.get('killerId')] or 8 in event.get('assistingParticipantIds', []):\n",
    "                        frameDataP8['events'].append(elite_event)\n",
    "\n",
    "\n",
    "            structuredDataP3['frames'].append(frameDataP3)\n",
    "            structuredDataP8['frames'].append(frameDataP8)\n",
    "\n",
    "        structuredGamesData[gameId] = {\n",
    "            '3': structuredDataP3,\n",
    "            '8': structuredDataP8,\n",
    "            'allBuildingKills': allBuildingKills,  # Include the allBuildingKills list\n",
    "            'gameEnd': gameEndData\n",
    "        }\n",
    "        gamesProcessed += 1\n",
    "\n",
    "    try:\n",
    "        with open(outputFilePath, 'w', encoding='utf-8') as outputFile:\n",
    "            json.dump(structuredGamesData, outputFile, indent=4)\n",
    "        print(f\"Structured data for the first {numGames} games has been saved to {outputFilePath}\")\n",
    "    except Exception as e:\n",
    "        print(f\"Failed to write structured data to {outputFilePath}: {e}\")"
   ]
  },
  {
   "cell_type": "code",
   "execution_count": 11,
   "id": "5251ef5f",
   "metadata": {},
   "outputs": [
    {
     "name": "stdout",
     "output_type": "stream",
     "text": [
      "Structured data for the first 40 games has been saved to D:/EUW/ThreatTestData/Ingame/ProcessedMidIngameThreatTestData.json\n"
     ]
    }
   ],
   "source": [
    "inputFilePath = \"D:/EUW/ThreatTestData/Ingame/MidIngameThreatTestData.json\"\n",
    "outputFilePath = \"D:/EUW/ThreatTestData/Ingame/ProcessedMidIngameThreatTestData.json\"\n",
    "saveStructuredAttributesForIngameData(inputFilePath, numGames, outputFilePath)"
   ]
  },
  {
   "cell_type": "markdown",
   "id": "2bd64d99",
   "metadata": {},
   "source": [
    "--------------------------------------------------------------------------------------------------------------------------"
   ]
  },
  {
   "cell_type": "markdown",
   "id": "5793cd0d",
   "metadata": {},
   "source": [
    "# Postgame Data: Process and Clean"
   ]
  },
  {
   "cell_type": "code",
   "execution_count": 12,
   "id": "3dc5cf5a",
   "metadata": {},
   "outputs": [],
   "source": [
    "def filterPostData(data):\n",
    "    # Define the keys to keep in the info section\n",
    "    infoKeysToKeep = {'endOfGameResult', 'gameCreation', 'gameDuration', 'gameEndTimestamp', 'gameId',\n",
    "                      'gameMode', 'gameName', 'gameStartTimestamp', 'gameType', 'gameVersion', 'mapId',\n",
    "                      'platformId', 'queueId', 'teams', 'tournamentCode'}\n",
    "    \n",
    "    # Define participant keys to keep\n",
    "    participantKeysToKeep = {'championName', 'damageDealtToBuildings', 'damageDealtToObjectives',\n",
    "                             'damageDealtToTurrets', 'goldEarned', 'goldSpent', 'individualPosition',\n",
    "                             'inhibitorTakedowns', 'lane', 'participantId', 'perks', 'puuid', 'riotIdGameName',\n",
    "                             'riotIdTagline', 'role', 'summonerId', 'summonerName', 'teamEarlySurrendered', 'teamId',\n",
    "                             'teamPosition', 'totalAllyJungleMinionsKilled', 'totalDamageDealt',\n",
    "                             'totalDamageDealtToChampions', 'totalDamageTaken', 'totalEnemyJungleMinionsKilled',\n",
    "                             'turretTakedowns', 'visionScore', 'wardsKilled', 'wardsPlaced', 'win', 'challenges'}\n",
    "\n",
    "    # Define the keys to keep within the challenges dictionary\n",
    "    challengesKeysToKeep = {'controlWardsPlaced', 'dragonTakedowns', 'goldPerMinute', 'kda',\n",
    "                            'killParticipation', 'killsNearEnemyTurret', 'killsUnderOwnTurret',\n",
    "                            'maxCsAdvantageOnLaneOpponent', 'maxLevelLeadLaneOpponent', 'soloKills',\n",
    "                            'stealthWardsPlaced', 'takedownOnFirstTurret', 'takedowns', 'teamBaronKills',\n",
    "                            'teamDamagePercentage', 'teamElderDragonKills', 'teamRiftHeraldKills',\n",
    "                            'visionScorePerMinute', 'wardTakedowns'}\n",
    "    \n",
    "    # Keep entire metadata\n",
    "    filteredData = {'metadata': data['metadata']}\n",
    "    \n",
    "    # Filter info section\n",
    "    filteredInfo = {key: data['info'][key] for key in data['info'] if key in infoKeysToKeep}\n",
    "    \n",
    "    # Filter participants\n",
    "    filteredParticipants = []\n",
    "    for participant in data['info']['participants']:\n",
    "        filteredParticipant = {}\n",
    "        for key in participant:\n",
    "            if key in participantKeysToKeep:\n",
    "                if key == 'challenges':\n",
    "                    # Special handling for the challenges dictionary\n",
    "                    challenges = participant[key]\n",
    "                    filteredChallenges = {ckey: challenges[ckey] for ckey in challenges if ckey in challengesKeysToKeep}\n",
    "                    filteredParticipant[key] = filteredChallenges\n",
    "                else:\n",
    "                    filteredParticipant[key] = participant[key]\n",
    "        filteredParticipants.append(filteredParticipant)\n",
    "    \n",
    "    # Add filtered info and participants to the filteredData\n",
    "    filteredInfo['participants'] = filteredParticipants\n",
    "    filteredData['info'] = filteredInfo\n",
    "\n",
    "    return filteredData\n",
    "\n",
    "def cleanAndSavePostGameData(rawFolderPath, cleanedFolderPath):\n",
    "    # Ensure the cleaned data folder exists\n",
    "    if not os.path.exists(cleanedFolderPath):\n",
    "        os.makedirs(cleanedFolderPath)\n",
    "\n",
    "    files = os.listdir(rawFolderPath)\n",
    "    totalAmountOfFiles = len(files)\n",
    "    processedFilesCount = 0\n",
    "\n",
    "    # Iterate through each file in the raw data folder\n",
    "    for filename in files:\n",
    "        rawFilePath = os.path.join(rawFolderPath, filename)\n",
    "        cleanedFilePath = os.path.join(cleanedFolderPath, filename)\n",
    "\n",
    "        # Read the raw game data\n",
    "        with open(rawFilePath, \"r\", encoding=\"utf-8\") as file:\n",
    "            data = json.load(file)\n",
    "\n",
    "        # Clean the data using filterPostData\n",
    "        cleanedData = filterPostData(data)\n",
    "\n",
    "        # Save the cleaned data\n",
    "        with open(cleanedFilePath, \"w\", encoding=\"utf-8\") as file:\n",
    "            json.dump(cleanedData, file, indent=4, ensure_ascii=False)\n",
    "        \n",
    "        processedFilesCount += 1\n",
    "        if processedFilesCount % 250 == 0:\n",
    "            print(f\"Processed {processedFilesCount} out of {totalAmountOfFiles} files.\")\n",
    "\n",
    "    if processedFilesCount % 250 != 0:\n",
    "        # Print the final count if it doesn't end on a multiple of 250\n",
    "        print(f\"Processed {processedFilesCount} out of {totalAmountOfFiles} files.\")"
   ]
  },
  {
   "cell_type": "code",
   "execution_count": 13,
   "id": "f5470bf9",
   "metadata": {},
   "outputs": [
    {
     "name": "stdout",
     "output_type": "stream",
     "text": [
      "Processed 40 out of 40 files.\n"
     ]
    }
   ],
   "source": [
    "rawFolderPath = \"D:/EUW/ThreatTestData/Postgame/RawPostGameThreatTestData\"\n",
    "cleanedFolderPath = \"D:/EUW/ThreatTestData/Postgame/CleanedPostGameThreatTestData\"\n",
    "cleanAndSavePostGameData(rawFolderPath, cleanedFolderPath)"
   ]
  },
  {
   "cell_type": "code",
   "execution_count": 34,
   "id": "18c1d855",
   "metadata": {},
   "outputs": [],
   "source": [
    "def extractAndSaveMidPostgameData(directoryPath, outputFilePath):\n",
    "    lanersData = {}  # Initialize as an empty dictionary\n",
    "    \n",
    "    for filename in os.listdir(directoryPath):\n",
    "        filePath = os.path.join(directoryPath, filename)\n",
    "        \n",
    "        with open(filePath, 'r', encoding='utf-8') as file:\n",
    "            matchData = json.load(file)\n",
    "            \n",
    "            if matchData['info']['gameDuration'] < 300:\n",
    "                continue\n",
    "            \n",
    "            matchId = matchData['metadata']['matchId']\n",
    "            \n",
    "            for participant in matchData['info']['participants']:\n",
    "                if participant.get('teamPosition', '').lower() == \"middle\":\n",
    "                    lanersData[matchId] = {  # Assign laner data to its matchId\n",
    "                        'damageDealtToObjectives': participant.get('damageDealtToObjectives', 0),\n",
    "                        'goldEarned': participant.get('goldEarned', 0),\n",
    "                        'totalDamageDealt': participant.get('totalDamageDealt', 0),\n",
    "                        'totalDamageDealtToChampions': participant.get('totalDamageDealtToChampions', 0),\n",
    "                        'visionScore': participant.get('visionScore', 0),\n",
    "                        'turretTakedowns': participant.get('turretTakedowns', 0),\n",
    "                        'wardsPlaced': participant.get('wardsPlaced', 0),\n",
    "                        'wardsKilled': participant.get('wardsKilled', 0)\n",
    "                    }\n",
    "                    break  # Assuming only one participant per teamPosition\n",
    "\n",
    "    if lanersData:\n",
    "        os.makedirs(os.path.dirname(outputFilePath), exist_ok=True)\n",
    "        with open(outputFilePath, 'w', encoding='utf-8') as outputFile:\n",
    "            json.dump(lanersData, outputFile, indent=4)  # Dump the dictionary to the file\n",
    "        print(f\"Mid lane postgame data saved to {outputFilePath}\")\n",
    "    else:\n",
    "        print(\"No mid lane postgame data found.\")"
   ]
  },
  {
   "cell_type": "code",
   "execution_count": 35,
   "id": "f26f32ac",
   "metadata": {},
   "outputs": [
    {
     "name": "stdout",
     "output_type": "stream",
     "text": [
      "Mid lane postgame data saved to D:/EUW/ThreatTestData/Postgame/ProcessedMidPostGameThreatTestData.json\n"
     ]
    }
   ],
   "source": [
    "directoryPath = \"D:/EUW/ThreatTestData/Postgame/CleanedPostGameThreatTestData\"\n",
    "outputFilePath = \"D:/EUW/ThreatTestData/Postgame/ProcessedMidPostGameThreatTestData.json\"\n",
    "extractAndSaveMidPostgameData(directoryPath, outputFilePath)"
   ]
  },
  {
   "cell_type": "markdown",
   "id": "3dcf3be2",
   "metadata": {},
   "source": [
    "# Compare and Streamline Code"
   ]
  },
  {
   "cell_type": "code",
   "execution_count": 36,
   "id": "ee695468",
   "metadata": {},
   "outputs": [],
   "source": [
    "def identifyAndReportUniqueMatchIDs(file1, file2, matchIdKey='matchId'):\n",
    "    # Load data from the first JSON file\n",
    "    with open(file1, 'r') as f1:\n",
    "        data1 = json.load(f1)\n",
    "    # Extract match IDs from the list\n",
    "    matchIDsFile1 = set(item[matchIdKey] for item in data1 if matchIdKey in item)\n",
    "    \n",
    "    # Load data from the second JSON file\n",
    "    with open(file2, 'r') as f2:\n",
    "        data2 = json.load(f2)\n",
    "    # Extract match IDs from the list\n",
    "    matchIDsFile2 = set(item[matchIdKey] for item in data2 if matchIdKey in item)\n",
    "    \n",
    "    # Find match IDs that are unique to each file\n",
    "    uniqueToFile1 = matchIDsFile1 - matchIDsFile2\n",
    "    uniqueToFile2 = matchIDsFile2 - matchIDsFile1\n",
    "    \n",
    "    # Calculate the total amount of unique match IDs\n",
    "    totalUniqueFile1 = len(uniqueToFile1)\n",
    "    totalUniqueFile2 = len(uniqueToFile2)\n",
    "    \n",
    "    # Print out the unique match IDs and their total count\n",
    "    if uniqueToFile1:\n",
    "        print(f\"Match IDs unique to {file1}:\")\n",
    "        for matchID in uniqueToFile1:\n",
    "            print(matchID)\n",
    "        print(f\"Total unique match IDs in {file1}: {totalUniqueFile1}\")\n",
    "    else:\n",
    "        print(f\"No match IDs unique to {file1}\")\n",
    "        \n",
    "    if uniqueToFile2:\n",
    "        print(f\"Match IDs unique to {file2}:\")\n",
    "        for matchID in uniqueToFile2:\n",
    "            print(matchID)\n",
    "        print(f\"Total unique match IDs in {file2}: {totalUniqueFile2}\")\n",
    "    else:\n",
    "        print(f\"No match IDs unique to {file2}\")"
   ]
  },
  {
   "cell_type": "code",
   "execution_count": 37,
   "id": "4a6a43e9",
   "metadata": {
    "scrolled": true
   },
   "outputs": [
    {
     "name": "stdout",
     "output_type": "stream",
     "text": [
      "No match IDs unique to D:/EUW/ThreatTestData/Postgame/ProcessedMidPostGameThreatTestData.json\n",
      "No match IDs unique to D:/EUW/ThreatTestData/Ingame/ProcessedMidIngameThreatTestData.json\n"
     ]
    }
   ],
   "source": [
    "file1 = \"D:/EUW/ThreatTestData/Postgame/ProcessedMidPostGameThreatTestData.json\"\n",
    "file2 = \"D:/EUW/ThreatTestData/Ingame/ProcessedMidIngameThreatTestData.json\"\n",
    "identifyAndReportUniqueMatchIDs(file1, file2)"
   ]
  },
  {
   "cell_type": "code",
   "execution_count": 38,
   "id": "c66ef30c",
   "metadata": {},
   "outputs": [
    {
     "name": "stdout",
     "output_type": "stream",
     "text": [
      "Number of games in D:/EUW/ThreatTestData/Postgame/ProcessedMidPostGameThreatTestData.json: 40\n",
      "Number of games in D:/EUW/ThreatTestData/Ingame/ProcessedMidIngameThreatTestData.json: 40\n"
     ]
    }
   ],
   "source": [
    "def countGamesInJSON(filePath):\n",
    "    with open(filePath, 'r', encoding='utf-8') as file:\n",
    "        data = json.load(file)\n",
    "    \n",
    "    # Check if the data is a list or a dictionary and count accordingly\n",
    "    if isinstance(data, list):\n",
    "        return len(data)  # Each item in the list represents a game\n",
    "    elif isinstance(data, dict):\n",
    "        return len(data.keys())  # Each key in the dictionary represents a game\n",
    "    else:\n",
    "        return 0  # In case the data is neither a list nor a dictionary\n",
    "\n",
    "# File paths\n",
    "file1 = 'D:/EUW/ThreatTestData/Postgame/ProcessedMidPostGameThreatTestData.json'\n",
    "file2 = 'D:/EUW/ThreatTestData/Ingame/ProcessedMidIngameThreatTestData.json'\n",
    "\n",
    "# Count the games in each file\n",
    "gamesInFile1 = countGamesInJSON(file1)\n",
    "gamesInFile2 = countGamesInJSON(file2)\n",
    "\n",
    "print(f\"Number of games in {file1}: {gamesInFile1}\")\n",
    "print(f\"Number of games in {file2}: {gamesInFile2}\")\n"
   ]
  },
  {
   "cell_type": "markdown",
   "id": "94d9fca9",
   "metadata": {},
   "source": [
    "# Data Visualization"
   ]
  },
  {
   "cell_type": "code",
   "execution_count": 42,
   "id": "a2e6b8ad",
   "metadata": {},
   "outputs": [
    {
     "data": {
      "application/vnd.jupyter.widget-view+json": {
       "model_id": "ed8e13f4c2dd4d6e838b00ce9287c2d7",
       "version_major": 2,
       "version_minor": 0
      },
      "text/plain": [
       "interactive(children=(IntSlider(value=5, continuous_update=False, description='Minute:', max=24), Output()), _…"
      ]
     },
     "metadata": {},
     "output_type": "display_data"
    }
   ],
   "source": [
    "def plotGameEventsWithTowers(backgroundImagePath, gameDataPath, matchId, targetMinute):\n",
    "    plt.figure(figsize=(10, 10))\n",
    "    plt.title(f'Player Positions at Minute {targetMinute} and {targetMinute-1}')\n",
    "    \n",
    "    backgroundImage = mpimg.imread(backgroundImagePath)\n",
    "    plt.xlim(0, 15000)\n",
    "    plt.ylim(0, 15000)\n",
    "    plt.imshow(backgroundImage, extent=[0, 15000, 0, 15000], alpha=0.8)\n",
    "\n",
    "    # Load game data\n",
    "    with open(gameDataPath, 'r') as file:\n",
    "        gamesData = json.load(file)\n",
    "        \n",
    "    gameData = gamesData.get(matchId)\n",
    "    if not gameData:\n",
    "        print(f\"No data found for match ID {matchId}\")\n",
    "        return\n",
    "\n",
    "    def plot_participant_position(frames, participantId, color, targetMinute):\n",
    "        # Plot participant positions at the target and previous minutes\n",
    "        for minute, frame in enumerate(frames):\n",
    "            if minute in [targetMinute, targetMinute - 1] and 'position' in frame:\n",
    "                alpha = 1 if minute == targetMinute else 0.5\n",
    "                plt.text(frame['position']['x'], frame['position']['y'], str(participantId),\n",
    "                         color=color, fontsize=12, ha='center', va='center', alpha=alpha)\n",
    "\n",
    "    #TODO: scale code to use \"3\" and \"8\" as input instead of hardcode\n",
    "    plot_participant_position(gameData['3']['frames'], 3, '#069aff', targetMinute)     \n",
    "    plot_participant_position(gameData['8']['frames'], 8, 'red', targetMinute)\n",
    "    \n",
    "    # Plot tower destructions with added debugging prints\n",
    "    print(f\"Plotting towers destroyed on or before minute {targetMinute}:\")\n",
    "    def plot_tower_destructions(allBuildingKills, targetMinute):\n",
    "        # Plot tower destructions up to and including the target minute\n",
    "        for tower in allBuildingKills:\n",
    "            destructionMinute = tower['timestamp'] / 60000\n",
    "            if destructionMinute <= targetMinute:\n",
    "                # Assuming tower['position'] contains 'x' and 'y' keys\n",
    "                print(f\"Plotting tower: x={tower['position']['x']}, y={tower['position']['y']}, min={destructionMinute}\")\n",
    "                plt.scatter(tower['position']['x'], tower['position']['y'], color='yellow', marker='d', s=100)\n",
    "                # Optional: Annotate the tower destruction minute or type\n",
    "                plt.text(tower['position']['x'], tower['position']['y'] - 500, f\"Min {destructionMinute:.0f}\",\n",
    "                         color='white', fontsize=9, ha='center')\n",
    "\n",
    "    # Ensure to call this function where appropriate in your code, \n",
    "    # similar to how you call plot_participant_position\n",
    "    plot_tower_destructions(gameData.get('allBuildingKills', []), targetMinute)\n",
    "\n",
    "\n",
    "    # Custom legend\n",
    "    legend_elements = [\n",
    "        plt.Line2D([0], [0], marker='o', color='w', label='Current Frame (Participant 3)', markerfacecolor='#069aff', markersize=15),\n",
    "        plt.Line2D([0], [0], marker='o', color='w', label='Current Frame (Participant 8)', markerfacecolor='red', markersize=15),\n",
    "        plt.Line2D([0], [0], marker='o', color='w', label='Previous Frame (less visible)', markerfacecolor='#069aff', markersize=15, alpha=0.5),\n",
    "        plt.Line2D([0], [0], color='yellow', marker='d', linestyle='None', markersize=10, label='Tower Destroyed')\n",
    "    ]\n",
    "    plt.legend(handles=legend_elements, loc='upper right')\n",
    "    plt.axis('off')\n",
    "    plt.show()\n",
    "\n",
    "def getGameDuration(gameDataPath, matchId):\n",
    "    with open(gameDataPath, 'r') as file:\n",
    "        gamesData = json.load(file)\n",
    "    gameData = gamesData.get(matchId)\n",
    "    if gameData and 'gameEnd' in gameData:\n",
    "        gameDurationMinutes = gameData['gameEnd']['timestamp'] / 60000\n",
    "        return gameDurationMinutes\n",
    "    return None\n",
    "\n",
    "def interactivePlotFunction(gameDataPath, matchId):\n",
    "    maxMinutes = getGameDuration(gameDataPath, matchId)\n",
    "    interact(plotGameEventsWithTowers, \n",
    "             backgroundImagePath=fixed('../DataProcessing/TestData/lolMap.PNG'),  # Update this path\n",
    "             gameDataPath=fixed(gameDataPath),\n",
    "             matchId=fixed(matchId),\n",
    "             targetMinute=IntSlider(value=5, min=0, max=int(maxMinutes or 45), step=1, description='Minute:', continuous_update=False))\n",
    "\n",
    "gameDataPath = 'D:/EUW/ThreatTestData/Ingame/ProcessedMidIngameThreatTestData.json'\n",
    "matchId = 'EUW1_6844839591'  # Replace with your actual match ID\n",
    "\n",
    "interactivePlotFunction(gameDataPath, matchId)\n"
   ]
  },
  {
   "cell_type": "code",
   "execution_count": null,
   "id": "bf9b52b1",
   "metadata": {},
   "outputs": [],
   "source": []
  },
  {
   "cell_type": "code",
   "execution_count": null,
   "id": "7dec8a4c",
   "metadata": {},
   "outputs": [],
   "source": []
  }
 ],
 "metadata": {
  "kernelspec": {
   "display_name": "Python 3 (ipykernel)",
   "language": "python",
   "name": "python3"
  },
  "language_info": {
   "codemirror_mode": {
    "name": "ipython",
    "version": 3
   },
   "file_extension": ".py",
   "mimetype": "text/x-python",
   "name": "python",
   "nbconvert_exporter": "python",
   "pygments_lexer": "ipython3",
   "version": "3.11.5"
  }
 },
 "nbformat": 4,
 "nbformat_minor": 5
}
