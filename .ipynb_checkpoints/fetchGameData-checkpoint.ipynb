{
 "cells": [
  {
   "cell_type": "code",
   "execution_count": 3,
   "id": "e6e8def4",
   "metadata": {},
   "outputs": [],
   "source": [
    "import json"
   ]
  },
  {
   "cell_type": "code",
   "execution_count": 4,
   "id": "e5660243",
   "metadata": {},
   "outputs": [],
   "source": [
    "def cleanParticipantFrames(data, columnsToExclude=None, displayNoZero=False):\n",
    "    if 'info' in data and 'frames' in data['info']:\n",
    "        for frame in data['info']['frames']:\n",
    "            if 'participantFrames' in frame:\n",
    "                cleanedParticipantFrames = {}\n",
    "                for participantId, participantFrame in frame['participantFrames'].items():\n",
    "                    # Clean each participant frame\n",
    "                    cleanedParticipantFrames[participantId] = cleanData(participantFrame, columnsToExclude, displayNoZero)\n",
    "                frame['participantFrames'] = cleanedParticipantFrames\n",
    "    return data\n",
    "\n",
    "def cleanData(data, columnsToExclude=None, displayNoZero=False, eventsToExclude=None):\n",
    "    cleanedData = {}\n",
    "    \n",
    "    for key, value in data.items():\n",
    "        if columnsToExclude and key in columnsToExclude:\n",
    "            continue\n",
    "        if displayNoZero and isinstance(value, (int, float)) and value == 0:\n",
    "            continue\n",
    "        elif key == 'events' and eventsToExclude:  # Additional check for 'events' key\n",
    "            cleanedEvents = [event for event in value if event.get('type') not in eventsToExclude]\n",
    "            cleanedData[key] = cleanedEvents\n",
    "        elif isinstance(value, dict):\n",
    "            cleanedData[key] = cleanData(value, columnsToExclude, displayNoZero, eventsToExclude)\n",
    "        elif isinstance(value, list):\n",
    "            cleanedList = [cleanData(item, columnsToExclude, displayNoZero, eventsToExclude) if isinstance(item, dict) else item for item in value]\n",
    "            cleanedData[key] = cleanedList\n",
    "        else:\n",
    "            cleanedData[key] = value\n",
    "    return cleanedData\n"
   ]
  },
  {
   "cell_type": "code",
   "execution_count": null,
   "id": "4ba85827",
   "metadata": {},
   "outputs": [],
   "source": []
  },
  {
   "cell_type": "code",
   "execution_count": null,
   "id": "6c94bfac",
   "metadata": {},
   "outputs": [],
   "source": []
  }
 ],
 "metadata": {
  "kernelspec": {
   "display_name": "Python 3 (ipykernel)",
   "language": "python",
   "name": "python3"
  },
  "language_info": {
   "codemirror_mode": {
    "name": "ipython",
    "version": 3
   },
   "file_extension": ".py",
   "mimetype": "text/x-python",
   "name": "python",
   "nbconvert_exporter": "python",
   "pygments_lexer": "ipython3",
   "version": "3.11.5"
  }
 },
 "nbformat": 4,
 "nbformat_minor": 5
}
