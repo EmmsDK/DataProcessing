{
 "cells": [
  {
   "cell_type": "code",
   "execution_count": 52,
   "id": "dc23a79d",
   "metadata": {},
   "outputs": [],
   "source": [
    "import json\n",
    "\n",
    "from collections import defaultdict"
   ]
  },
  {
   "cell_type": "code",
   "execution_count": 53,
   "id": "a331ee03",
   "metadata": {},
   "outputs": [],
   "source": [
    "with open(\"../DataProcessing/TestData/gameData.json\", \"r\", encoding=\"utf-8\") as file:\n",
    "    data = json.load(file)\n",
    "\n",
    "championCountsDict = defaultdict(lambda: defaultdict(int))\n",
    "namesDict = defaultdict(list)\n",
    "\n",
    "mostMentionedNamesDict = {}\n",
    "participantData = []"
   ]
  },
  {
   "cell_type": "code",
   "execution_count": 54,
   "id": "5732264f",
   "metadata": {},
   "outputs": [],
   "source": [
    "#1,'9nFTht795izeoOQoIQMOHtY01trPiRW8SC7kUFIqsDJtTEeNUbpxbRriCUtJ3sApIbpwIBNV44mFjg' - Top\n",
    "#2,'7hSyI8OKEFPpadVyhqKmTOJlT6umda2FMt1sAeIcZ1WcxdATw7Tvu4ixaR8llqv9u2qPutnAsL9Shg' - Jungle\n",
    "#3,'OosGFQGfn836eMPWWHKI4078RDJNVjtEN5rDdfGWkVKE9WQt57XOtBX7dJbKA2gCjvT2B2oKSOPvQA' - Mid\n",
    "#4,'GDyaku8KMFbw6-NeobFdpBjk0cH7HeEwcO1O6lJDWx5DlKXBJACwQboLx_8YpwIKIjQajzWtoYjFlQ' - Bot\n",
    "#5,'YXHmDXvWI5gKk7U3akJzmYR7-SUqINElADzyjLGaKOQ3uo114kFt0bgb9jfrbFyGv3wJY-fss-iGCA' - Support\n",
    "#6,'a8PtUmwWlbJrEzU-nfibnfFXKmsStyk87eyureQ-juwhCH8cT9V7PIro5PogLxdME0DzYgHuuyl-Fg' - Top\n",
    "#7,'735uoGC0wWXxRrYW7td31v_tqqAJkVJ3WIwoDAMnOCVvVL6gTw84KV5LFOQpwFkBdPGOQATvkx6ZHw' - Jungle\n",
    "#8,'eVreMXaliubuCZDOSDs-HnMy3YSPNa3BoCKTUDDQBx3uotw36LQHmhYoJNWBxy5v0U5Wt_jV0yR80A' - Mid\n",
    "#9,'esX_22maBbJu3Sf7pHod9r65uxnslhai-EnVbgIGjdC4XhW3_5Pocq561XKKt80bZlP5CPvJ3kCoow' - Bot\n",
    "#10,'pnMNfdDjM97Gr0Qh67jTzEEfLefEI8qjsBxmojuIqGp7cpQPWeBBZ6jfv_UUeV3DqvUg06Rk3lphTg' - Support"
   ]
  },
  {
   "cell_type": "code",
   "execution_count": 55,
   "id": "e0c8ef7e",
   "metadata": {},
   "outputs": [
    {
     "name": "stdout",
     "output_type": "stream",
     "text": [
      "Participant ID: 4, Champion: Varus\n"
     ]
    }
   ],
   "source": [
    "# Function to calculate champion counts\n",
    "def calculateChampionCounts(data):\n",
    "    championCountsDict = {}\n",
    "    namesDict = {}\n",
    "\n",
    "    if 'info' in data and 'frames' in data['info']:\n",
    "        for frame in data['info']['frames']:\n",
    "            for event in frame.get('events', []):\n",
    "                if event['type'] == 'CHAMPION_KILL':\n",
    "                    killerId = int(event.get('killerId'))\n",
    "                    victimId = int(event.get('victimId'))\n",
    "\n",
    "                    if killerId not in championCountsDict:\n",
    "                        championCountsDict[killerId] = {}\n",
    "                        namesDict[killerId] = []\n",
    "\n",
    "                    if victimId not in championCountsDict:\n",
    "                        championCountsDict[victimId] = {}\n",
    "                        namesDict[victimId] = []\n",
    "\n",
    "                    # Find the killer's and victim's participant data\n",
    "                    killerNames = [victim.get('name') for victim in event.get('victimDamageReceived', [])]\n",
    "                    victimNames = [killer.get('name') for killer in event.get('victimDamageDealt', [])]\n",
    "\n",
    "                    # Use the last name mentioned as the killer name\n",
    "                    if killerNames:\n",
    "                        killerName = killerNames[-1]\n",
    "                        if killerName not in championCountsDict[killerId]:\n",
    "                            championCountsDict[killerId][killerName] = 1\n",
    "                        else:\n",
    "                            championCountsDict[killerId][killerName] += 1\n",
    "                        namesDict[killerId].append(killerName)\n",
    "\n",
    "                    # Use the last name mentioned as the victim name\n",
    "                    if victimNames:\n",
    "                        victimName = victimNames[-1]\n",
    "                        if victimName not in championCountsDict[victimId]:\n",
    "                            championCountsDict[victimId][victimName] = 1\n",
    "                        else:\n",
    "                            championCountsDict[victimId][victimName] += 1\n",
    "                        namesDict[victimId].append(victimName)\n",
    "    return championCountsDict, namesDict\n",
    "\n",
    "def calculateMostMentionedChampionNames(data):\n",
    "    # Calculate champion counts\n",
    "    championCountsDict, namesDict = calculateChampionCounts(data)\n",
    "\n",
    "    # Process the counts and choose the most mentioned champion name for each ID\n",
    "    mostMentionedNamesDict = {}\n",
    "    for participantId, championCounts in championCountsDict.items():\n",
    "        mostMentionedChampion = max(championCounts, key=championCounts.get)\n",
    "        mostMentionedNamesDict[participantId] = mostMentionedChampion\n",
    "        count = championCounts[mostMentionedChampion]\n",
    "        names = namesDict[participantId]\n",
    "    return mostMentionedNamesDict\n",
    "\n",
    "mostMentionedNamesDict = calculateMostMentionedChampionNames(data)\n",
    "\n",
    "def addParticipantData(participantId, puuid, championName):  # add championName\n",
    "    participantData.append([participantId, puuid, championName])  # add championName\n",
    "\n",
    "def findParticipantData(data):\n",
    "    if 'info' in data and 'participants' in data['info']:\n",
    "        for participant in data['info']['participants']:\n",
    "            participantId = participant['participantId']\n",
    "            puuid = participant['puuid']\n",
    "            \n",
    "            championName = mostMentionedNamesDict[participantId]\n",
    "            addParticipantData(participantId, puuid, championName)\n",
    "\n",
    "findParticipantData(data)\n",
    "\n",
    "def findParticipantByPuuid(participantData, targetPuuid):\n",
    "    for entry in participantData:\n",
    "        participantId, puuid, championName = entry\n",
    "        if puuid == targetPuuid:\n",
    "            return participantId, championName\n",
    "    return None, None\n",
    "\n",
    "# Example usage:\n",
    "# Assuming 'targetPuuid' is the Puuid you want to find\n",
    "targetParticipantId, targetChampionName = findParticipantByPuuid(participantData, targetPuuid)\n",
    "\n",
    "if targetParticipantId is not None:\n",
    "    print(f\"Participant ID: {targetParticipantId}, Champion: {targetChampionName}\")\n",
    "else:\n",
    "    print(\"Participant not found.\")\n"
   ]
  },
  {
   "cell_type": "code",
   "execution_count": null,
   "id": "2309558c",
   "metadata": {},
   "outputs": [],
   "source": []
  }
 ],
 "metadata": {
  "kernelspec": {
   "display_name": "Python 3 (ipykernel)",
   "language": "python",
   "name": "python3"
  },
  "language_info": {
   "codemirror_mode": {
    "name": "ipython",
    "version": 3
   },
   "file_extension": ".py",
   "mimetype": "text/x-python",
   "name": "python",
   "nbconvert_exporter": "python",
   "pygments_lexer": "ipython3",
   "version": "3.11.5"
  }
 },
 "nbformat": 4,
 "nbformat_minor": 5
}
