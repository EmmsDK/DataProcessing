{
 "cells": [
  {
   "cell_type": "code",
   "execution_count": 3,
   "id": "d2d23803",
   "metadata": {},
   "outputs": [],
   "source": [
    "import os\n",
    "import pandas as pd\n",
    "import json\n",
    "import pprint\n",
    "import re\n",
    "import nbformat"
   ]
  },
  {
   "cell_type": "code",
   "execution_count": 4,
   "id": "38ca6a7a",
   "metadata": {},
   "outputs": [
    {
     "name": "stdout",
     "output_type": "stream",
     "text": [
      "GitHub\\DataProcessing\n"
     ]
    }
   ],
   "source": [
    "# Define the path\n",
    "path = os.path.join(\"GitHub\", \"DataProcessing\")\n",
    "\n",
    "# Print the path\n",
    "print(path)\n"
   ]
  },
  {
   "cell_type": "code",
   "execution_count": 5,
   "id": "8d4c6032",
   "metadata": {},
   "outputs": [
    {
     "data": {
      "text/plain": [
       "'C:\\\\Users\\\\HP4\\\\Documents\\\\GitHub\\\\DataProcessing'"
      ]
     },
     "execution_count": 5,
     "metadata": {},
     "output_type": "execute_result"
    }
   ],
   "source": [
    "pwd"
   ]
  },
  {
   "cell_type": "code",
   "execution_count": 6,
   "id": "9eb71c65",
   "metadata": {},
   "outputs": [],
   "source": [
    "td = pd.read_json(\"..\\DataProcessing\\TestData\\message.json\", orient='index')"
   ]
  },
  {
   "cell_type": "code",
   "execution_count": 7,
   "id": "2c732000",
   "metadata": {},
   "outputs": [],
   "source": [
    "# Read the JSON file\n",
    "with open(\"../DataProcessing/TestData/message.json\", \"r\") as file:\n",
    "    data = json.load(file)"
   ]
  },
  {
   "cell_type": "code",
   "execution_count": 34,
   "id": "d4e486fc",
   "metadata": {},
   "outputs": [
    {
     "data": {
      "text/plain": [
       "['NLZhdGCfh-EgdvaODKW2IlCFzJBMtE4Dr9SFgKNpE1UC6GDNH2u2TQmGZoqSLXcVjo-erCaRQVV0cQ',\n",
       " 'vfktkyVovXtnWWgFEDKxdtfJFVHSV3tAJeoT_UjbZB8TlE8tyVYLyC23nudviaAwk0c6AkFGGTYJhQ',\n",
       " 'O9jmQXkdmuplQq2s4YGCd-x2VnJetyQ7ssrBczKK-xwT0PYaVpMyOWIHX_iIIznvHmk0M5_uE_CRzw',\n",
       " 'HHVQBTfTWCQzCredc0AtS4BotTQqhQhK_7T4241WyfhlVNI1Oy7SHDjpPOg4T0KOuHu7eIS8gsRXsA',\n",
       " '-e-lfG5zpkNcr96I_Q_5ZdDefVsot-QfGnTH2QSHv-cMyP1_u8NUf-hImv_nQKwCUIq05DF8yFAIEw',\n",
       " 'tTu5MniQjpI3G_eEm31jSm8ZhwCYJjRUQgQu0ynIs05DxKEkiRMdpOBq_3axazOPR4eP-M_gYcsHxg',\n",
       " '8s-H0x0EL9H84mDtglkoIYtyxASxccITkQaICj8RKUore3nABvXCZg_apnRSXMwLJYd2nCDUkJVk_A',\n",
       " 'JBQKhP0EHYxtzSCrglHYSWq8of63qVowOOQ9NyMm6Rfv_Ups7-qrn11AgSY9-RoKro32bTDMsAqF3A',\n",
       " 'y_0f-NLP6I974-LIJDU7WDu4qdHkqjVDaOUODjo6U85Jc50Z31pyAxvqKbfd4ceS5GCVWT-h8O8-0Q',\n",
       " 'bztkNWyCR__do5ACtWbe4vhBdR1eXLFwxDdql2Y9kfT26TbuiNLgxNhLwTpoJWToU5UK-FCXFGTBWA']"
      ]
     },
     "execution_count": 34,
     "metadata": {},
     "output_type": "execute_result"
    }
   ],
   "source": [
    "# Access the 'participants' array within 'metadata'\n",
    "participants_data = data['metadata']['participants']\n",
    "participants_data"
   ]
  },
  {
   "cell_type": "code",
   "execution_count": 79,
   "id": "c5426211",
   "metadata": {},
   "outputs": [
    {
     "data": {
      "text/plain": [
       "[{'participantId': 1,\n",
       "  'puuid': 'NLZhdGCfh-EgdvaODKW2IlCFzJBMtE4Dr9SFgKNpE1UC6GDNH2u2TQmGZoqSLXcVjo-erCaRQVV0cQ'},\n",
       " {'participantId': 2,\n",
       "  'puuid': 'vfktkyVovXtnWWgFEDKxdtfJFVHSV3tAJeoT_UjbZB8TlE8tyVYLyC23nudviaAwk0c6AkFGGTYJhQ'},\n",
       " {'participantId': 3,\n",
       "  'puuid': 'O9jmQXkdmuplQq2s4YGCd-x2VnJetyQ7ssrBczKK-xwT0PYaVpMyOWIHX_iIIznvHmk0M5_uE_CRzw'},\n",
       " {'participantId': 4,\n",
       "  'puuid': 'HHVQBTfTWCQzCredc0AtS4BotTQqhQhK_7T4241WyfhlVNI1Oy7SHDjpPOg4T0KOuHu7eIS8gsRXsA'},\n",
       " {'participantId': 5,\n",
       "  'puuid': '-e-lfG5zpkNcr96I_Q_5ZdDefVsot-QfGnTH2QSHv-cMyP1_u8NUf-hImv_nQKwCUIq05DF8yFAIEw'},\n",
       " {'participantId': 6,\n",
       "  'puuid': 'tTu5MniQjpI3G_eEm31jSm8ZhwCYJjRUQgQu0ynIs05DxKEkiRMdpOBq_3axazOPR4eP-M_gYcsHxg'},\n",
       " {'participantId': 7,\n",
       "  'puuid': '8s-H0x0EL9H84mDtglkoIYtyxASxccITkQaICj8RKUore3nABvXCZg_apnRSXMwLJYd2nCDUkJVk_A'},\n",
       " {'participantId': 8,\n",
       "  'puuid': 'JBQKhP0EHYxtzSCrglHYSWq8of63qVowOOQ9NyMm6Rfv_Ups7-qrn11AgSY9-RoKro32bTDMsAqF3A'},\n",
       " {'participantId': 9,\n",
       "  'puuid': 'y_0f-NLP6I974-LIJDU7WDu4qdHkqjVDaOUODjo6U85Jc50Z31pyAxvqKbfd4ceS5GCVWT-h8O8-0Q'},\n",
       " {'participantId': 10,\n",
       "  'puuid': 'bztkNWyCR__do5ACtWbe4vhBdR1eXLFwxDdql2Y9kfT26TbuiNLgxNhLwTpoJWToU5UK-FCXFGTBWA'}]"
      ]
     },
     "execution_count": 79,
     "metadata": {},
     "output_type": "execute_result"
    }
   ],
   "source": [
    "puuidPair = data['info']['participants']\n",
    "puuidPair"
   ]
  },
  {
   "cell_type": "code",
   "execution_count": null,
   "id": "51b075a8",
   "metadata": {},
   "outputs": [],
   "source": []
  },
  {
   "cell_type": "code",
   "execution_count": 10,
   "id": "9ab47bb7",
   "metadata": {},
   "outputs": [
    {
     "name": "stdout",
     "output_type": "stream",
     "text": [
      "1 Timestamp = 0\n",
      "2 Timestamp = 60016\n",
      "3 Timestamp = 120021\n",
      "4 Timestamp = 180035\n",
      "5 Timestamp = 240035\n",
      "6 Timestamp = 300066\n",
      "7 Timestamp = 360069\n",
      "8 Timestamp = 420084\n",
      "9 Timestamp = 480090\n",
      "10 Timestamp = 540109\n",
      "11 Timestamp = 600126\n",
      "12 Timestamp = 660130\n",
      "13 Timestamp = 720141\n",
      "14 Timestamp = 780169\n",
      "15 Timestamp = 840170\n",
      "16 Timestamp = 900173\n",
      "17 Timestamp = 960186\n",
      "18 Timestamp = 1020272\n",
      "19 Timestamp = 1080286\n",
      "20 Timestamp = 1140318\n",
      "21 Timestamp = 1200328\n",
      "22 Timestamp = 1260354\n",
      "23 Timestamp = 1320366\n",
      "24 Timestamp = 1380386\n",
      "25 Timestamp = 1440411\n",
      "26 Timestamp = 1500414\n",
      "27 Timestamp = 1560433\n",
      "28 Timestamp = 1620447\n",
      "29 Timestamp = 1680454\n",
      "30 Timestamp = 1740480\n",
      "31 Timestamp = 1800496\n",
      "32 Timestamp = 1860523\n",
      "33 Timestamp = 1892560\n"
     ]
    }
   ],
   "source": [
    "for counter, frame in enumerate(data['info']['frames']):\n",
    "    timestamp = frame['timestamp']\n",
    "    print(f\"{counter + 1} Timestamp = {timestamp}\")"
   ]
  },
  {
   "cell_type": "code",
   "execution_count": 62,
   "id": "4758beff",
   "metadata": {
    "scrolled": true
   },
   "outputs": [
    {
     "name": "stdout",
     "output_type": "stream",
     "text": [
      "Timestamp at minute 5: 300066\n",
      "championStats:\n",
      "armor: 39\n",
      "attackDamage: 72\n",
      "attackSpeed: 122\n",
      "health: 809\n",
      "healthMax: 853\n",
      "healthRegen: 17\n",
      "magicResist: 36\n",
      "movementSpeed: 365\n",
      "currentGold: 1308\n",
      "damageStats:\n",
      "magicDamageDone: 3396\n",
      "magicDamageDoneToChampions: 285\n",
      "magicDamageTaken: 559\n",
      "physicalDamageDone: 10717\n",
      "physicalDamageDoneToChampions: 763\n",
      "physicalDamageTaken: 2407\n",
      "totalDamageDone: 19556\n",
      "totalDamageDoneToChampions: 1079\n",
      "totalDamageTaken: 2971\n",
      "trueDamageDone: 5442\n",
      "trueDamageDoneToChampions: 30\n",
      "trueDamageTaken: 4\n",
      "jungleMinionsKilled: 28\n",
      "level: 4\n",
      "minionsKilled: 4\n",
      "participantId: 2\n",
      "position:\n",
      "x: 394\n",
      "y: 461\n",
      "timeEnemySpentControlled: 130346\n",
      "totalGold: 2058\n",
      "xp: 1611\n",
      "\n",
      "---\n",
      "\n"
     ]
    }
   ],
   "source": [
    "def get_participant_data_at_minute(data, participant_id, target_minute, display_nozero=False):\n",
    "    timestamp_data = []\n",
    "\n",
    "    def display_nonzero_params(participant_frame):\n",
    "        # Iterate through the participant frame's items\n",
    "        for key, value in participant_frame.items():\n",
    "            if isinstance(value, dict):\n",
    "                print(f\"{key}:\")\n",
    "                # If the value is a nested dictionary, iterate through its items\n",
    "                display_nonzero_params(value)\n",
    "            elif isinstance(value, (int, float)) and (not display_nozero or value != 0):\n",
    "                # Display the parameter if it's a numeric value and not zero\n",
    "                print(f\"{key}: {value}\")\n",
    "\n",
    "    # Check if there are frames in the data\n",
    "    if 'info' in data and 'frames' in data['info']:\n",
    "        for frame in data['info']['frames']:\n",
    "            timestamp = frame['timestamp']\n",
    "            current_minute = round(timestamp / 60000)  # Convert milliseconds to minutes and round to the nearest minute\n",
    "\n",
    "            if current_minute == target_minute:\n",
    "                participant_frames = frame.get('participantFrames', {})\n",
    "                if participant_id in participant_frames:\n",
    "                    participant_data = participant_frames[participant_id]\n",
    "                    timestamp_data.append([timestamp, participant_data])\n",
    "\n",
    "                    # Display nonzero parameters if specified\n",
    "                    if display_nozero:\n",
    "                        print(f\"Timestamp at minute {target_minute}: {timestamp}\")\n",
    "                        display_nonzero_params(participant_data)\n",
    "                        print(\"\\n---\\n\")\n",
    "\n",
    "    return timestamp_data\n",
    "\n",
    "desired_participant_id = \"2\"\n",
    "desired_minute = 5 \n",
    "\n",
    "# Call the function with display_nozero set to True\n",
    "result = get_participant_data_at_minute(data, desired_participant_id, desired_minute, display_nozero=True)\n"
   ]
  },
  {
   "cell_type": "code",
   "execution_count": 73,
   "id": "1e10c98a",
   "metadata": {},
   "outputs": [],
   "source": [
    "def get_participant_info(participants_data):\n",
    "    # Assuming participants_data is a list of summoner IDs\n",
    "    # You might need to fetch summoner information from your data source\n",
    "    # and map it to participant IDs\n",
    "    participant_info = {}\n",
    "    \n",
    "    # Replace this with your logic to fetch summoner information\n",
    "    for i, summoner_id in enumerate(participants_data):\n",
    "        participant_info[i + 1] = {\n",
    "            'summoner_id': summoner_id,\n",
    "            'participant_id': f'Participant{i + 1}',  # Replace with actual participant ID\n",
    "            'champion_name': f'Champion{i + 1}',  # Replace with actual champion name\n",
    "        }\n",
    "    \n",
    "    return participant_info"
   ]
  },
  {
   "cell_type": "code",
   "execution_count": 75,
   "id": "070a0872",
   "metadata": {},
   "outputs": [
    {
     "data": {
      "text/plain": [
       "{1: {'summoner_id': 'NLZhdGCfh-EgdvaODKW2IlCFzJBMtE4Dr9SFgKNpE1UC6GDNH2u2TQmGZoqSLXcVjo-erCaRQVV0cQ',\n",
       "  'participant_id': 'Participant1',\n",
       "  'name': 'Champion1'},\n",
       " 2: {'summoner_id': 'vfktkyVovXtnWWgFEDKxdtfJFVHSV3tAJeoT_UjbZB8TlE8tyVYLyC23nudviaAwk0c6AkFGGTYJhQ',\n",
       "  'participant_id': 'Participant2',\n",
       "  'name': 'Champion2'},\n",
       " 3: {'summoner_id': 'O9jmQXkdmuplQq2s4YGCd-x2VnJetyQ7ssrBczKK-xwT0PYaVpMyOWIHX_iIIznvHmk0M5_uE_CRzw',\n",
       "  'participant_id': 'Participant3',\n",
       "  'name': 'Champion3'},\n",
       " 4: {'summoner_id': 'HHVQBTfTWCQzCredc0AtS4BotTQqhQhK_7T4241WyfhlVNI1Oy7SHDjpPOg4T0KOuHu7eIS8gsRXsA',\n",
       "  'participant_id': 'Participant4',\n",
       "  'name': 'Champion4'},\n",
       " 5: {'summoner_id': '-e-lfG5zpkNcr96I_Q_5ZdDefVsot-QfGnTH2QSHv-cMyP1_u8NUf-hImv_nQKwCUIq05DF8yFAIEw',\n",
       "  'participant_id': 'Participant5',\n",
       "  'name': 'Champion5'},\n",
       " 6: {'summoner_id': 'tTu5MniQjpI3G_eEm31jSm8ZhwCYJjRUQgQu0ynIs05DxKEkiRMdpOBq_3axazOPR4eP-M_gYcsHxg',\n",
       "  'participant_id': 'Participant6',\n",
       "  'name': 'Champion6'},\n",
       " 7: {'summoner_id': '8s-H0x0EL9H84mDtglkoIYtyxASxccITkQaICj8RKUore3nABvXCZg_apnRSXMwLJYd2nCDUkJVk_A',\n",
       "  'participant_id': 'Participant7',\n",
       "  'name': 'Champion7'},\n",
       " 8: {'summoner_id': 'JBQKhP0EHYxtzSCrglHYSWq8of63qVowOOQ9NyMm6Rfv_Ups7-qrn11AgSY9-RoKro32bTDMsAqF3A',\n",
       "  'participant_id': 'Participant8',\n",
       "  'name': 'Champion8'},\n",
       " 9: {'summoner_id': 'y_0f-NLP6I974-LIJDU7WDu4qdHkqjVDaOUODjo6U85Jc50Z31pyAxvqKbfd4ceS5GCVWT-h8O8-0Q',\n",
       "  'participant_id': 'Participant9',\n",
       "  'name': 'Champion9'},\n",
       " 10: {'summoner_id': 'bztkNWyCR__do5ACtWbe4vhBdR1eXLFwxDdql2Y9kfT26TbuiNLgxNhLwTpoJWToU5UK-FCXFGTBWA',\n",
       "  'participant_id': 'Participant10',\n",
       "  'name': 'Champion10'}}"
      ]
     },
     "execution_count": 75,
     "metadata": {},
     "output_type": "execute_result"
    }
   ],
   "source": [
    "participant_info"
   ]
  },
  {
   "cell_type": "code",
   "execution_count": 102,
   "id": "f0c439ab",
   "metadata": {},
   "outputs": [
    {
     "name": "stdout",
     "output_type": "stream",
     "text": [
      "Timestamp of CHAMPION_KILL event: 134226\n",
      "Victim Damage Dealt:\n",
      "  Name: Sion\n",
      "  Name: Sion\n",
      "  Name: Sion\n",
      "  Name: Sion\n",
      "  Name: Sion\n",
      "Timestamp of CHAMPION_KILL event: 171327\n",
      "Victim Damage Dealt:\n",
      "  Name: Brand\n",
      "  Name: Brand\n",
      "  Name: Brand\n",
      "  Name: Brand\n"
     ]
    }
   ],
   "source": [
    "def getParticipantIdByKill(data, start_timestamp, end_timestamp):\n",
    "    for frame in data['info']['frames']:\n",
    "        timestamp = frame['timestamp']\n",
    "        \n",
    "        for event in frame.get('events', []):\n",
    "            if event['type'] == 'CHAMPION_KILL':\n",
    "                kill_timestamp = event['timestamp']\n",
    "                \n",
    "                if start_timestamp <= kill_timestamp <= end_timestamp:\n",
    "                    print(f\"Timestamp of CHAMPION_KILL event: {kill_timestamp}\")\n",
    "                    print(\"Victim Damage Dealt:\")\n",
    "                    \n",
    "                    # Assuming 'victimDamageDealt' is a list in the 'CHAMPION_KILL' event\n",
    "                    for damage_info in event.get('victimDamageDealt', []):\n",
    "                        print(f\"  Name: {damage_info['name']}\")\n",
    "\n",
    "# Example usage: Specify the start and end timestamps\n",
    "start_timestamp = 120000  # Replace with your desired start timestamp\n",
    "end_timestamp = 180000    # Replace with your desired end timestamp\n",
    "\n",
    "# Call the function with the specified time frame\n",
    "getParticipantIdByKill(data, start_timestamp, end_timestamp)\n"
   ]
  },
  {
   "cell_type": "code",
   "execution_count": 41,
   "id": "417663e9",
   "metadata": {
    "scrolled": true
   },
   "outputs": [
    {
     "name": "stdout",
     "output_type": "stream",
     "text": [
      "Timestamp of CHAMPION_KILL: 134226\n",
      "Timestamp of CHAMPION_KILL: 171327\n",
      "Timestamp of CHAMPION_KILL: 187450\n",
      "Timestamp of CHAMPION_KILL: 192190\n",
      "Timestamp of CHAMPION_KILL: 209499\n",
      "Timestamp of CHAMPION_KILL: 255814\n",
      "Timestamp of CHAMPION_KILL: 260683\n",
      "Timestamp of CHAMPION_KILL: 303299\n",
      "Timestamp of CHAMPION_KILL: 352366\n",
      "Timestamp of CHAMPION_KILL: 389728\n",
      "Timestamp of CHAMPION_KILL: 413939\n",
      "Timestamp of CHAMPION_KILL: 439097\n",
      "Timestamp of CHAMPION_KILL: 494299\n",
      "Timestamp of CHAMPION_KILL: 529933\n",
      "Timestamp of CHAMPION_KILL: 568150\n",
      "Timestamp of CHAMPION_KILL: 622319\n",
      "Timestamp of CHAMPION_KILL: 627784\n",
      "Timestamp of CHAMPION_KILL: 636359\n",
      "Timestamp of CHAMPION_KILL: 650204\n",
      "Timestamp of CHAMPION_KILL: 669689\n",
      "Timestamp of CHAMPION_KILL: 715143\n",
      "Timestamp of CHAMPION_KILL: 732110\n",
      "Timestamp of CHAMPION_KILL: 740346\n",
      "Timestamp of CHAMPION_KILL: 750514\n",
      "Timestamp of CHAMPION_KILL: 775910\n",
      "Timestamp of CHAMPION_KILL: 791129\n",
      "Timestamp of CHAMPION_KILL: 866378\n",
      "Timestamp of CHAMPION_KILL: 892824\n",
      "Timestamp of CHAMPION_KILL: 896496\n",
      "Timestamp of CHAMPION_KILL: 896966\n",
      "Timestamp of CHAMPION_KILL: 911264\n",
      "Timestamp of CHAMPION_KILL: 913900\n",
      "Timestamp of CHAMPION_KILL: 920406\n",
      "Timestamp of CHAMPION_KILL: 934145\n",
      "Timestamp of CHAMPION_KILL: 1004967\n",
      "Timestamp of CHAMPION_KILL: 1011572\n",
      "Timestamp of CHAMPION_KILL: 1015907\n",
      "Timestamp of CHAMPION_KILL: 1020993\n",
      "Timestamp of CHAMPION_KILL: 1023692\n",
      "Timestamp of CHAMPION_KILL: 1024426\n",
      "Timestamp of CHAMPION_KILL: 1027735\n",
      "Timestamp of CHAMPION_KILL: 1065288\n",
      "Timestamp of CHAMPION_KILL: 1084327\n",
      "Timestamp of CHAMPION_KILL: 1097722\n",
      "Timestamp of CHAMPION_KILL: 1115917\n",
      "Timestamp of CHAMPION_KILL: 1125058\n",
      "Timestamp of CHAMPION_KILL: 1150561\n",
      "Timestamp of CHAMPION_KILL: 1163165\n",
      "Timestamp of CHAMPION_KILL: 1235541\n",
      "Timestamp of CHAMPION_KILL: 1242012\n",
      "Timestamp of CHAMPION_KILL: 1247791\n",
      "Timestamp of CHAMPION_KILL: 1251367\n",
      "Timestamp of CHAMPION_KILL: 1286521\n",
      "Timestamp of CHAMPION_KILL: 1294918\n",
      "Timestamp of CHAMPION_KILL: 1306316\n",
      "Timestamp of CHAMPION_KILL: 1320165\n",
      "Timestamp of CHAMPION_KILL: 1335316\n",
      "Timestamp of CHAMPION_KILL: 1342863\n",
      "Timestamp of CHAMPION_KILL: 1400288\n",
      "Timestamp of CHAMPION_KILL: 1403367\n",
      "Timestamp of CHAMPION_KILL: 1415360\n",
      "Timestamp of CHAMPION_KILL: 1415493\n",
      "Timestamp of CHAMPION_KILL: 1416565\n",
      "Timestamp of CHAMPION_KILL: 1458531\n",
      "Timestamp of CHAMPION_KILL: 1460769\n",
      "Timestamp of CHAMPION_KILL: 1484604\n",
      "Timestamp of CHAMPION_KILL: 1490628\n",
      "Timestamp of CHAMPION_KILL: 1491326\n",
      "Timestamp of CHAMPION_KILL: 1508096\n",
      "Timestamp of CHAMPION_KILL: 1555189\n",
      "Timestamp of CHAMPION_KILL: 1557123\n",
      "Timestamp of CHAMPION_KILL: 1644124\n",
      "Timestamp of CHAMPION_KILL: 1646535\n",
      "Timestamp of CHAMPION_KILL: 1648599\n",
      "Timestamp of CHAMPION_KILL: 1653231\n",
      "Timestamp of CHAMPION_KILL: 1656548\n",
      "Timestamp of CHAMPION_KILL: 1659545\n",
      "Timestamp of CHAMPION_KILL: 1661318\n",
      "Timestamp of CHAMPION_KILL: 1738156\n",
      "Timestamp of CHAMPION_KILL: 1739053\n",
      "Timestamp of CHAMPION_KILL: 1746223\n",
      "Timestamp of CHAMPION_KILL: 1754506\n",
      "Timestamp of CHAMPION_KILL: 1758718\n",
      "Timestamp of CHAMPION_KILL: 1857549\n",
      "Timestamp of CHAMPION_KILL: 1859923\n",
      "Timestamp of CHAMPION_KILL: 1874314\n",
      "Timestamp of CHAMPION_KILL: 1887499\n"
     ]
    }
   ],
   "source": [
    "def get_timestamp_of_champion_kill(data):\n",
    "    for frame in data['info']['frames']:\n",
    "        for event in frame.get('events', []):\n",
    "            if event['type'] == 'CHAMPION_KILL':\n",
    "                timestamp = event['timestamp']\n",
    "                print(f\"Timestamp of CHAMPION_KILL: {timestamp}\")\n",
    "        \n",
    "                \n",
    "# Call the function\n",
    "get_timestamp_of_champion_kill(data)\n"
   ]
  },
  {
   "cell_type": "code",
   "execution_count": 14,
   "id": "9f434d15",
   "metadata": {
    "scrolled": true
   },
   "outputs": [
    {
     "name": "stdout",
     "output_type": "stream",
     "text": [
      "CHAMPION_KILL event data:\n",
      "{'bounty': 400,\n",
      " 'killStreakLength': 0,\n",
      " 'killerId': 1,\n",
      " 'position': {'x': 3958, 'y': 13447},\n",
      " 'shutdownBounty': 0,\n",
      " 'timestamp': 134226,\n",
      " 'type': 'CHAMPION_KILL',\n",
      " 'victimDamageDealt': [{'basic': False,\n",
      "                        'magicDamage': 0,\n",
      "                        'name': 'Sion',\n",
      "                        'participantId': 1,\n",
      "                        'physicalDamage': 233,\n",
      "                        'spellName': 'sionq',\n",
      "                        'spellSlot': 0,\n",
      "                        'trueDamage': 0,\n",
      "                        'type': 'OTHER'},\n",
      "                       {'basic': True,\n",
      "                        'magicDamage': 0,\n",
      "                        'name': 'Sion',\n",
      "                        'participantId': 1,\n",
      "                        'physicalDamage': 105,\n",
      "                        'spellName': 'sionbasicattack3',\n",
      "                        'spellSlot': 66,\n",
      "                        'trueDamage': 0,\n",
      "                        'type': 'OTHER'},\n",
      "                       {'basic': False,\n",
      "                        'magicDamage': 20,\n",
      "                        'name': 'Sion',\n",
      "                        'participantId': 1,\n",
      "                        'physicalDamage': 0,\n",
      "                        'spellName': '',\n",
      "                        'spellSlot': -1,\n",
      "                        'trueDamage': 0,\n",
      "                        'type': 'OTHER'},\n",
      "                       {'basic': True,\n",
      "                        'magicDamage': 0,\n",
      "                        'name': 'Sion',\n",
      "                        'participantId': 1,\n",
      "                        'physicalDamage': 53,\n",
      "                        'spellName': 'sionbasicattack',\n",
      "                        'spellSlot': 64,\n",
      "                        'trueDamage': 0,\n",
      "                        'type': 'OTHER'},\n",
      "                       {'basic': True,\n",
      "                        'magicDamage': 0,\n",
      "                        'name': 'Sion',\n",
      "                        'participantId': 1,\n",
      "                        'physicalDamage': 0,\n",
      "                        'spellName': 'sionbasicattack2',\n",
      "                        'spellSlot': 65,\n",
      "                        'trueDamage': 0,\n",
      "                        'type': 'OTHER'}],\n",
      " 'victimDamageReceived': [{'basic': True,\n",
      "                           'magicDamage': 0,\n",
      "                           'name': 'SRU_OrderMinionMelee',\n",
      "                           'participantId': 0,\n",
      "                           'physicalDamage': 8,\n",
      "                           'spellName': 'sru_orderminionrangedbasicattack',\n",
      "                           'spellSlot': 64,\n",
      "                           'trueDamage': 0,\n",
      "                           'type': 'MINION'},\n",
      "                          {'basic': True,\n",
      "                           'magicDamage': 0,\n",
      "                           'name': 'SRU_OrderMinionMelee',\n",
      "                           'participantId': 0,\n",
      "                           'physicalDamage': 4,\n",
      "                           'spellName': 'sru_orderminionmeleebasicattack',\n",
      "                           'spellSlot': 64,\n",
      "                           'trueDamage': 0,\n",
      "                           'type': 'MINION'},\n",
      "                          {'basic': True,\n",
      "                           'magicDamage': 0,\n",
      "                           'name': 'SRU_OrderMinionMelee',\n",
      "                           'participantId': 0,\n",
      "                           'physicalDamage': 34,\n",
      "                           'spellName': 'sru_orderminionrangedbasicattack2',\n",
      "                           'spellSlot': 65,\n",
      "                           'trueDamage': 0,\n",
      "                           'type': 'MINION'},\n",
      "                          {'basic': True,\n",
      "                           'magicDamage': 0,\n",
      "                           'name': 'Volibear',\n",
      "                           'participantId': 1,\n",
      "                           'physicalDamage': 376,\n",
      "                           'spellName': 'volibearbasicattack',\n",
      "                           'spellSlot': 64,\n",
      "                           'trueDamage': 0,\n",
      "                           'type': 'OTHER'},\n",
      "                          {'basic': True,\n",
      "                           'magicDamage': 0,\n",
      "                           'name': 'Volibear',\n",
      "                           'participantId': 1,\n",
      "                           'physicalDamage': 48,\n",
      "                           'spellName': 'volibearp',\n",
      "                           'spellSlot': 63,\n",
      "                           'trueDamage': 0,\n",
      "                           'type': 'OTHER'},\n",
      "                          {'basic': False,\n",
      "                           'magicDamage': 201,\n",
      "                           'name': 'Volibear',\n",
      "                           'participantId': 1,\n",
      "                           'physicalDamage': 0,\n",
      "                           'spellName': 'volibearp',\n",
      "                           'spellSlot': 63,\n",
      "                           'trueDamage': 0,\n",
      "                           'type': 'OTHER'},\n",
      "                          {'basic': False,\n",
      "                           'magicDamage': 152,\n",
      "                           'name': 'Volibear',\n",
      "                           'participantId': 1,\n",
      "                           'physicalDamage': 0,\n",
      "                           'spellName': 'volibeare',\n",
      "                           'spellSlot': 2,\n",
      "                           'trueDamage': 0,\n",
      "                           'type': 'OTHER'},\n",
      "                          {'basic': False,\n",
      "                           'magicDamage': 0,\n",
      "                           'name': 'Volibear',\n",
      "                           'participantId': 1,\n",
      "                           'physicalDamage': 56,\n",
      "                           'spellName': 'volibearq',\n",
      "                           'spellSlot': 0,\n",
      "                           'trueDamage': 0,\n",
      "                           'type': 'OTHER'}],\n",
      " 'victimId': 6}\n"
     ]
    }
   ],
   "source": [
    "def get_event_of_champion_kill_at_timestamp(data, target_timestamp):\n",
    "    for frame in data['info']['frames']:\n",
    "        for event in frame.get('events', []):\n",
    "            if event['type'] == 'CHAMPION_KILL' and event['timestamp'] == target_timestamp:\n",
    "                return event\n",
    "\n",
    "# Example: Get CHAMPION_KILL event data at timestamp 134226\n",
    "target_timestamp = 134226\n",
    "champion_kill_event = get_event_of_champion_kill_at_timestamp(data, target_timestamp)\n",
    "\n",
    "# Print or use the champion_kill_event data as needed\n",
    "if champion_kill_event:\n",
    "    print(f\"CHAMPION_KILL event data:\")\n",
    "    pprint.pprint(champion_kill_event)\n",
    "else:\n",
    "    print(f\"No CHAMPION_KILL event found at timestamp {target_timestamp}.\")\n"
   ]
  },
  {
   "cell_type": "code",
   "execution_count": null,
   "id": "9b1dd40a",
   "metadata": {},
   "outputs": [],
   "source": []
  },
  {
   "cell_type": "code",
   "execution_count": null,
   "id": "360d2d7f",
   "metadata": {},
   "outputs": [],
   "source": []
  },
  {
   "cell_type": "code",
   "execution_count": null,
   "id": "81bfb2fa",
   "metadata": {},
   "outputs": [],
   "source": []
  }
 ],
 "metadata": {
  "kernelspec": {
   "display_name": "Python 3 (ipykernel)",
   "language": "python",
   "name": "python3"
  },
  "language_info": {
   "codemirror_mode": {
    "name": "ipython",
    "version": 3
   },
   "file_extension": ".py",
   "mimetype": "text/x-python",
   "name": "python",
   "nbconvert_exporter": "python",
   "pygments_lexer": "ipython3",
   "version": "3.11.5"
  }
 },
 "nbformat": 4,
 "nbformat_minor": 5
}
