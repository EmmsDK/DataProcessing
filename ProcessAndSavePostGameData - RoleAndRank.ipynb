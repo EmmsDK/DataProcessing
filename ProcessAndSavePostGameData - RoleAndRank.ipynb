{
 "cells": [
  {
   "cell_type": "code",
   "execution_count": 4,
   "id": "4164ff4f",
   "metadata": {},
   "outputs": [],
   "source": [
    "import os\n",
    "import json\n",
    "import numpy as np"
   ]
  },
  {
   "cell_type": "code",
   "execution_count": 14,
   "id": "c3dbafaf",
   "metadata": {},
   "outputs": [],
   "source": [
    "def processAndSaveGameData(directoryPath, teamPosition, rank, outputDirectory):\n",
    "    lanersData = []\n",
    "    \n",
    "    for filename in os.listdir(directoryPath):\n",
    "        filePath = os.path.join(directoryPath, filename)\n",
    "        \n",
    "        with open(filePath, 'r', encoding='utf-8') as file:\n",
    "            matchData = json.load(file)\n",
    "            \n",
    "            # Check if the game duration is less than 5 minutes (300 seconds)\n",
    "            if matchData['info']['gameDuration'] < 300:\n",
    "                continue  # Skip to the next file\n",
    "            \n",
    "            matchId = matchData['metadata']['matchId']  # Assuming matchId is stored under metadata\n",
    "            \n",
    "            for participant in matchData['info']['participants']:\n",
    "                if participant.get('teamPosition', '').lower() == teamPosition.lower():\n",
    "                    lanerData = {\n",
    "                        'damageDealtToObjectives': participant.get('damageDealtToObjectives', 0),\n",
    "                        'goldEarned': participant.get('goldEarned', 0),\n",
    "                        'totalDamageDealt': participant.get('totalDamageDealt', 0),\n",
    "                        'totalDamageDealtToChampions': participant.get('totalDamageDealtToChampions', 0),\n",
    "                        'visionScore': participant.get('visionScore', 0),\n",
    "                        'turretTakedowns': participant.get('turretTakedowns', 0),\n",
    "                        'wardsPlaced': participant.get('wardsPlaced', 0),\n",
    "                        'wardsKilled': participant.get('wardsKilled', 0),\n",
    "                        'matchId': matchId,  # Add matchId to the data\n",
    "                    }\n",
    "                    \n",
    "                    lanersData.append(lanerData)\n",
    "                    break  # Assuming only one participant per teamPosition, remove this if not applicable\n",
    "\n",
    "    if lanersData:\n",
    "        columns = list(lanersData[0].keys())  # Get the column names\n",
    "        data = [[laner[key] for key in columns] for laner in lanersData]\n",
    "        dataArray = np.array(data, dtype=object)\n",
    "\n",
    "        # Ensure the output directory exists\n",
    "        if not os.path.exists(outputDirectory):\n",
    "            os.makedirs(outputDirectory)\n",
    "\n",
    "        # Define the output file name with the full path\n",
    "        fileName = os.path.join(outputDirectory, f\"{rank}{teamPosition.capitalize()}Data.csv\")\n",
    "        \n",
    "        # Save the data to a CSV file\n",
    "        headerString = ','.join(columns)  # Create a header string for the CSV\n",
    "        np.savetxt(fileName, dataArray, delimiter=',', header=headerString, comments='', fmt='%s', encoding='utf-8')\n",
    "        print(f\"Data for {rank} rank and {teamPosition} position saved to {fileName}\")\n",
    "    else:\n",
    "        print(f\"No data found for {rank} rank and {teamPosition} position.\")"
   ]
  },
  {
   "cell_type": "code",
   "execution_count": 15,
   "id": "3dbcf911",
   "metadata": {},
   "outputs": [
    {
     "name": "stdout",
     "output_type": "stream",
     "text": [
      "Data for Bronze rank and top position saved to D:\\KR\\PostgameData\\BronzeTopData.csv\n"
     ]
    }
   ],
   "source": [
    "directoryPath = \"D:\\\\KR\\\\PostgameData\\\\CleanedBronzePostMatchDataJsonsKorea\"\n",
    "outputDirectory = \"D:\\\\KR\\\\PostgameData\"\n",
    "processAndSaveGameData(directoryPath, \"top\", \"Bronze\", outputDirectory)"
   ]
  },
  {
   "cell_type": "code",
   "execution_count": 16,
   "id": "4a217d24",
   "metadata": {},
   "outputs": [
    {
     "name": "stdout",
     "output_type": "stream",
     "text": [
      "Data for Bronze rank and Jungle position saved to D:\\KR\\PostgameData\\BronzeJungleData.csv\n"
     ]
    }
   ],
   "source": [
    "directoryPath = \"D:\\\\KR\\\\PostgameData\\\\CleanedBronzePostMatchDataJsonsKorea\"\n",
    "outputDirectory = \"D:\\\\KR\\\\PostgameData\"\n",
    "processAndSaveGameData(directoryPath, \"Jungle\", \"Bronze\", outputDirectory)"
   ]
  },
  {
   "cell_type": "code",
   "execution_count": 17,
   "id": "22a00484",
   "metadata": {},
   "outputs": [
    {
     "name": "stdout",
     "output_type": "stream",
     "text": [
      "Data for Bronze rank and Middle position saved to D:\\KR\\PostgameData\\BronzeMiddleData.csv\n"
     ]
    }
   ],
   "source": [
    "directoryPath = \"D:\\\\KR\\\\PostgameData\\\\CleanedBronzePostMatchDataJsonsKorea\"\n",
    "outputDirectory = \"D:\\\\KR\\\\PostgameData\"\n",
    "processAndSaveGameData(directoryPath, \"Middle\", \"Bronze\", outputDirectory)"
   ]
  },
  {
   "cell_type": "code",
   "execution_count": 18,
   "id": "39524ab9",
   "metadata": {},
   "outputs": [
    {
     "name": "stdout",
     "output_type": "stream",
     "text": [
      "Data for Bronze rank and Utility position saved to D:\\KR\\PostgameData\\BronzeUtilityData.csv\n"
     ]
    }
   ],
   "source": [
    "directoryPath = \"D:\\\\KR\\\\PostgameData\\\\CleanedBronzePostMatchDataJsonsKorea\"\n",
    "outputDirectory = \"D:\\\\KR\\\\PostgameData\"\n",
    "processAndSaveGameData(directoryPath, \"Utility\", \"Bronze\", outputDirectory)"
   ]
  },
  {
   "cell_type": "code",
   "execution_count": 19,
   "id": "11379143",
   "metadata": {},
   "outputs": [
    {
     "name": "stdout",
     "output_type": "stream",
     "text": [
      "Data for Bronze rank and Bottom position saved to D:\\KR\\PostgameData\\BronzeBottomData.csv\n"
     ]
    }
   ],
   "source": [
    "directoryPath = \"D:\\\\KR\\\\PostgameData\\\\CleanedBronzePostMatchDataJsonsKorea\"\n",
    "outputDirectory = \"D:\\\\KR\\\\PostgameData\"\n",
    "processAndSaveGameData(directoryPath, \"Bottom\", \"Bronze\", outputDirectory)"
   ]
  },
  {
   "cell_type": "markdown",
   "id": "574f579c",
   "metadata": {},
   "source": [
    "_______________________________________________________________________________________________________________________________"
   ]
  },
  {
   "cell_type": "code",
   "execution_count": 20,
   "id": "47cb9414",
   "metadata": {},
   "outputs": [
    {
     "name": "stdout",
     "output_type": "stream",
     "text": [
      "Data for Iron rank and top position saved to D:\\KR\\PostgameData\\IronTopData.csv\n"
     ]
    }
   ],
   "source": [
    "directoryPath = \"D:\\\\KR\\\\PostgameData\\\\CleanedIronPostMatchDataJsonsKorea\"\n",
    "outputDirectory = \"D:\\\\KR\\\\PostgameData\"\n",
    "processAndSaveGameData(directoryPath, \"top\", \"Iron\", outputDirectory)"
   ]
  },
  {
   "cell_type": "code",
   "execution_count": 21,
   "id": "8ebb8372",
   "metadata": {},
   "outputs": [
    {
     "name": "stdout",
     "output_type": "stream",
     "text": [
      "Data for Iron rank and Jungle position saved to D:\\KR\\PostgameData\\IronJungleData.csv\n"
     ]
    }
   ],
   "source": [
    "directoryPath = \"D:\\\\KR\\\\PostgameData\\\\CleanedIronPostMatchDataJsonsKorea\"\n",
    "outputDirectory = \"D:\\\\KR\\\\PostgameData\"\n",
    "processAndSaveGameData(directoryPath, \"Jungle\", \"Iron\", outputDirectory)"
   ]
  },
  {
   "cell_type": "code",
   "execution_count": 22,
   "id": "1fa069ac",
   "metadata": {},
   "outputs": [
    {
     "name": "stdout",
     "output_type": "stream",
     "text": [
      "Data for Iron rank and Middle position saved to D:\\KR\\PostgameData\\IronMiddleData.csv\n"
     ]
    }
   ],
   "source": [
    "directoryPath = \"D:\\\\KR\\\\PostgameData\\\\CleanedIronPostMatchDataJsonsKorea\"\n",
    "outputDirectory = \"D:\\\\KR\\\\PostgameData\"\n",
    "processAndSaveGameData(directoryPath, \"Middle\", \"Iron\", outputDirectory)"
   ]
  },
  {
   "cell_type": "code",
   "execution_count": 23,
   "id": "2ecdc4cd",
   "metadata": {},
   "outputs": [
    {
     "name": "stdout",
     "output_type": "stream",
     "text": [
      "Data for Iron rank and Bottom position saved to D:\\KR\\PostgameData\\IronBottomData.csv\n"
     ]
    }
   ],
   "source": [
    "directoryPath = \"D:\\\\KR\\\\PostgameData\\\\CleanedIronPostMatchDataJsonsKorea\"\n",
    "outputDirectory = \"D:\\\\KR\\\\PostgameData\"\n",
    "processAndSaveGameData(directoryPath, \"Bottom\", \"Iron\", outputDirectory)"
   ]
  },
  {
   "cell_type": "code",
   "execution_count": 24,
   "id": "d330eaad",
   "metadata": {},
   "outputs": [
    {
     "name": "stdout",
     "output_type": "stream",
     "text": [
      "Data for Iron rank and Utility position saved to D:\\KR\\PostgameData\\IronUtilityData.csv\n"
     ]
    }
   ],
   "source": [
    "directoryPath = \"D:\\\\KR\\\\PostgameData\\\\CleanedIronPostMatchDataJsonsKorea\"\n",
    "outputDirectory = \"D:\\\\KR\\\\PostgameData\"\n",
    "processAndSaveGameData(directoryPath, \"Utility\", \"Iron\", outputDirectory)"
   ]
  },
  {
   "cell_type": "markdown",
   "id": "66bf028a",
   "metadata": {},
   "source": [
    "_______________________________________________________________________________________________________________________________"
   ]
  },
  {
   "cell_type": "code",
   "execution_count": 25,
   "id": "4c0753dc",
   "metadata": {},
   "outputs": [
    {
     "name": "stdout",
     "output_type": "stream",
     "text": [
      "Data for Silver rank and top position saved to D:\\KR\\PostgameData\\SilverTopData.csv\n"
     ]
    }
   ],
   "source": [
    "directoryPath = \"D:\\\\KR\\\\PostgameData\\\\CleanedSilverPostMatchDataJsonsKorea\"\n",
    "outputDirectory = \"D:\\\\KR\\\\PostgameData\"\n",
    "processAndSaveGameData(directoryPath, \"top\", \"Silver\", outputDirectory)"
   ]
  },
  {
   "cell_type": "code",
   "execution_count": 26,
   "id": "ed75ee97",
   "metadata": {},
   "outputs": [
    {
     "name": "stdout",
     "output_type": "stream",
     "text": [
      "Data for Silver rank and Jungle position saved to D:\\KR\\PostgameData\\SilverJungleData.csv\n"
     ]
    }
   ],
   "source": [
    "directoryPath = \"D:\\\\KR\\\\PostgameData\\\\CleanedSilverPostMatchDataJsonsKorea\"\n",
    "outputDirectory = \"D:\\\\KR\\\\PostgameData\"\n",
    "processAndSaveGameData(directoryPath, \"Jungle\", \"Silver\", outputDirectory)"
   ]
  },
  {
   "cell_type": "code",
   "execution_count": 27,
   "id": "214d6e87",
   "metadata": {},
   "outputs": [
    {
     "name": "stdout",
     "output_type": "stream",
     "text": [
      "Data for Silver rank and Middle position saved to D:\\KR\\PostgameData\\SilverMiddleData.csv\n"
     ]
    }
   ],
   "source": [
    "directoryPath = \"D:\\\\KR\\\\PostgameData\\\\CleanedSilverPostMatchDataJsonsKorea\"\n",
    "outputDirectory = \"D:\\\\KR\\\\PostgameData\"\n",
    "processAndSaveGameData(directoryPath, \"Middle\", \"Silver\", outputDirectory)"
   ]
  },
  {
   "cell_type": "code",
   "execution_count": 28,
   "id": "f2c408dc",
   "metadata": {},
   "outputs": [
    {
     "name": "stdout",
     "output_type": "stream",
     "text": [
      "Data for Silver rank and Bottom position saved to D:\\KR\\PostgameData\\SilverBottomData.csv\n"
     ]
    }
   ],
   "source": [
    "directoryPath = \"D:\\\\KR\\\\PostgameData\\\\CleanedSilverPostMatchDataJsonsKorea\"\n",
    "outputDirectory = \"D:\\\\KR\\\\PostgameData\"\n",
    "processAndSaveGameData(directoryPath, \"Bottom\", \"Silver\", outputDirectory)"
   ]
  },
  {
   "cell_type": "code",
   "execution_count": 29,
   "id": "478d9964",
   "metadata": {},
   "outputs": [
    {
     "name": "stdout",
     "output_type": "stream",
     "text": [
      "Data for Silver rank and Utility position saved to D:\\KR\\PostgameData\\SilverUtilityData.csv\n"
     ]
    }
   ],
   "source": [
    "directoryPath = \"D:\\\\KR\\\\PostgameData\\\\CleanedSilverPostMatchDataJsonsKorea\"\n",
    "outputDirectory = \"D:\\\\KR\\\\PostgameData\"\n",
    "processAndSaveGameData(directoryPath, \"Utility\", \"Silver\", outputDirectory)"
   ]
  },
  {
   "cell_type": "markdown",
   "id": "9217f3d1",
   "metadata": {},
   "source": [
    "_______________________________________________________________________________________________________________________________"
   ]
  },
  {
   "cell_type": "code",
   "execution_count": 30,
   "id": "b092f25f",
   "metadata": {},
   "outputs": [
    {
     "name": "stdout",
     "output_type": "stream",
     "text": [
      "Data for Gold rank and top position saved to D:\\KR\\PostgameData\\GoldTopData.csv\n"
     ]
    }
   ],
   "source": [
    "directoryPath = \"D:\\\\KR\\\\PostgameData\\\\CleanedGoldPostMatchDataJsonsKorea\"\n",
    "outputDirectory = \"D:\\\\KR\\\\PostgameData\"\n",
    "processAndSaveGameData(directoryPath, \"top\", \"Gold\", outputDirectory)"
   ]
  },
  {
   "cell_type": "code",
   "execution_count": 31,
   "id": "c76d887f",
   "metadata": {},
   "outputs": [
    {
     "name": "stdout",
     "output_type": "stream",
     "text": [
      "Data for Gold rank and Jungle position saved to D:\\KR\\PostgameData\\GoldJungleData.csv\n"
     ]
    }
   ],
   "source": [
    "directoryPath = \"D:\\\\KR\\\\PostgameData\\\\CleanedGoldPostMatchDataJsonsKorea\"\n",
    "outputDirectory = \"D:\\\\KR\\\\PostgameData\"\n",
    "processAndSaveGameData(directoryPath, \"Jungle\", \"Gold\", outputDirectory)"
   ]
  },
  {
   "cell_type": "code",
   "execution_count": 32,
   "id": "d1a8e9f8",
   "metadata": {},
   "outputs": [
    {
     "name": "stdout",
     "output_type": "stream",
     "text": [
      "Data for Gold rank and Middle position saved to D:\\KR\\PostgameData\\GoldMiddleData.csv\n"
     ]
    }
   ],
   "source": [
    "directoryPath = \"D:\\\\KR\\\\PostgameData\\\\CleanedGoldPostMatchDataJsonsKorea\"\n",
    "outputDirectory = \"D:\\\\KR\\\\PostgameData\"\n",
    "processAndSaveGameData(directoryPath, \"Middle\", \"Gold\", outputDirectory)"
   ]
  },
  {
   "cell_type": "code",
   "execution_count": 33,
   "id": "b6304ded",
   "metadata": {},
   "outputs": [
    {
     "name": "stdout",
     "output_type": "stream",
     "text": [
      "Data for Gold rank and Bottom position saved to D:\\KR\\PostgameData\\GoldBottomData.csv\n"
     ]
    }
   ],
   "source": [
    "directoryPath = \"D:\\\\KR\\\\PostgameData\\\\CleanedGoldPostMatchDataJsonsKorea\"\n",
    "outputDirectory = \"D:\\\\KR\\\\PostgameData\"\n",
    "processAndSaveGameData(directoryPath, \"Bottom\", \"Gold\", outputDirectory)"
   ]
  },
  {
   "cell_type": "code",
   "execution_count": 34,
   "id": "96658e48",
   "metadata": {},
   "outputs": [
    {
     "name": "stdout",
     "output_type": "stream",
     "text": [
      "Data for Gold rank and Utility position saved to D:\\KR\\PostgameData\\GoldUtilityData.csv\n"
     ]
    }
   ],
   "source": [
    "directoryPath = \"D:\\\\KR\\\\PostgameData\\\\CleanedGoldPostMatchDataJsonsKorea\"\n",
    "outputDirectory = \"D:\\\\KR\\\\PostgameData\"\n",
    "processAndSaveGameData(directoryPath, \"Utility\", \"Gold\", outputDirectory)"
   ]
  },
  {
   "cell_type": "markdown",
   "id": "7be950de",
   "metadata": {},
   "source": [
    "_______________________________________________________________________________________________________________________________"
   ]
  },
  {
   "cell_type": "code",
   "execution_count": 35,
   "id": "eb43aa00",
   "metadata": {},
   "outputs": [
    {
     "name": "stdout",
     "output_type": "stream",
     "text": [
      "Data for Platinum rank and Top position saved to D:\\KR\\PostgameData\\PlatinumTopData.csv\n"
     ]
    }
   ],
   "source": [
    "directoryPath = \"D:\\\\KR\\\\PostgameData\\\\CleanedPlatinumPostMatchDataJsonsKorea\"\n",
    "outputDirectory = \"D:\\\\KR\\\\PostgameData\"\n",
    "processAndSaveGameData(directoryPath, \"Top\", \"Platinum\", outputDirectory)"
   ]
  },
  {
   "cell_type": "code",
   "execution_count": 36,
   "id": "42fc8d42",
   "metadata": {},
   "outputs": [
    {
     "name": "stdout",
     "output_type": "stream",
     "text": [
      "Data for Platinum rank and Jungle position saved to D:\\KR\\PostgameData\\PlatinumJungleData.csv\n"
     ]
    }
   ],
   "source": [
    "directoryPath = \"D:\\\\KR\\\\PostgameData\\\\CleanedPlatinumPostMatchDataJsonsKorea\"\n",
    "outputDirectory = \"D:\\\\KR\\\\PostgameData\"\n",
    "processAndSaveGameData(directoryPath, \"Jungle\", \"Platinum\", outputDirectory)"
   ]
  },
  {
   "cell_type": "code",
   "execution_count": 37,
   "id": "b5608e60",
   "metadata": {},
   "outputs": [
    {
     "name": "stdout",
     "output_type": "stream",
     "text": [
      "Data for Platinum rank and Middle position saved to D:\\KR\\PostgameData\\PlatinumMiddleData.csv\n"
     ]
    }
   ],
   "source": [
    "directoryPath = \"D:\\\\KR\\\\PostgameData\\\\CleanedPlatinumPostMatchDataJsonsKorea\"\n",
    "outputDirectory = \"D:\\\\KR\\\\PostgameData\"\n",
    "processAndSaveGameData(directoryPath, \"Middle\", \"Platinum\", outputDirectory)"
   ]
  },
  {
   "cell_type": "code",
   "execution_count": 38,
   "id": "d67db045",
   "metadata": {},
   "outputs": [
    {
     "name": "stdout",
     "output_type": "stream",
     "text": [
      "Data for Platinum rank and Bottom position saved to D:\\KR\\PostgameData\\PlatinumBottomData.csv\n"
     ]
    }
   ],
   "source": [
    "vdirectoryPath = \"D:\\\\KR\\\\PostgameData\\\\CleanedPlatinumPostMatchDataJsonsKorea\"\n",
    "outputDirectory = \"D:\\\\KR\\\\PostgameData\"\n",
    "processAndSaveGameData(directoryPath, \"Bottom\", \"Platinum\", outputDirectory)"
   ]
  },
  {
   "cell_type": "code",
   "execution_count": 39,
   "id": "95b33551",
   "metadata": {},
   "outputs": [
    {
     "name": "stdout",
     "output_type": "stream",
     "text": [
      "Data for Platinum rank and Utility position saved to D:\\KR\\PostgameData\\PlatinumUtilityData.csv\n"
     ]
    }
   ],
   "source": [
    "directoryPath = \"D:\\\\KR\\\\PostgameData\\\\CleanedPlatinumPostMatchDataJsonsKorea\"\n",
    "outputDirectory = \"D:\\\\KR\\\\PostgameData\"\n",
    "processAndSaveGameData(directoryPath, \"Utility\", \"Platinum\", outputDirectory)"
   ]
  },
  {
   "cell_type": "markdown",
   "id": "189620e4",
   "metadata": {},
   "source": [
    "_______________________________________________________________________________________________________________________________"
   ]
  },
  {
   "cell_type": "code",
   "execution_count": 40,
   "id": "c614570b",
   "metadata": {},
   "outputs": [
    {
     "name": "stdout",
     "output_type": "stream",
     "text": [
      "Data for Emerald rank and Top position saved to D:\\KR\\PostgameData\\EmeraldTopData.csv\n"
     ]
    }
   ],
   "source": [
    "directoryPath = \"D:\\\\KR\\\\PostgameData\\\\CleanedEmeraldPostMatchDataJsonsKorea\"\n",
    "outputDirectory = \"D:\\\\KR\\\\PostgameData\"\n",
    "processAndSaveGameData(directoryPath, \"Top\", \"Emerald\", outputDirectory)"
   ]
  },
  {
   "cell_type": "code",
   "execution_count": 41,
   "id": "9eb22ef6",
   "metadata": {},
   "outputs": [
    {
     "name": "stdout",
     "output_type": "stream",
     "text": [
      "Data for Emerald rank and Jungle position saved to D:\\KR\\PostgameData\\EmeraldJungleData.csv\n"
     ]
    }
   ],
   "source": [
    "directoryPath = \"D:\\\\KR\\\\PostgameData\\\\CleanedEmeraldPostMatchDataJsonsKorea\"\n",
    "outputDirectory = \"D:\\\\KR\\\\PostgameData\"\n",
    "processAndSaveGameData(directoryPath, \"Jungle\", \"Emerald\", outputDirectory)"
   ]
  },
  {
   "cell_type": "code",
   "execution_count": 42,
   "id": "74b588b2",
   "metadata": {},
   "outputs": [
    {
     "name": "stdout",
     "output_type": "stream",
     "text": [
      "Data for Emerald rank and Middle position saved to D:\\KR\\PostgameData\\EmeraldMiddleData.csv\n"
     ]
    }
   ],
   "source": [
    "directoryPath = \"D:\\\\KR\\\\PostgameData\\\\CleanedEmeraldPostMatchDataJsonsKorea\"\n",
    "outputDirectory = \"D:\\\\KR\\\\PostgameData\"\n",
    "processAndSaveGameData(directoryPath, \"Middle\", \"Emerald\", outputDirectory)"
   ]
  },
  {
   "cell_type": "code",
   "execution_count": 43,
   "id": "c11e1734",
   "metadata": {},
   "outputs": [
    {
     "name": "stdout",
     "output_type": "stream",
     "text": [
      "Data for Emerald rank and Bottom position saved to D:\\KR\\PostgameData\\EmeraldBottomData.csv\n"
     ]
    }
   ],
   "source": [
    "directoryPath = \"D:\\\\KR\\\\PostgameData\\\\CleanedEmeraldPostMatchDataJsonsKorea\"\n",
    "outputDirectory = \"D:\\\\KR\\\\PostgameData\"\n",
    "processAndSaveGameData(directoryPath, \"Bottom\", \"Emerald\", outputDirectory)"
   ]
  },
  {
   "cell_type": "code",
   "execution_count": 44,
   "id": "fc32ad05",
   "metadata": {},
   "outputs": [
    {
     "name": "stdout",
     "output_type": "stream",
     "text": [
      "Data for Emerald rank and Utility position saved to D:\\KR\\PostgameData\\EmeraldUtilityData.csv\n"
     ]
    }
   ],
   "source": [
    "directoryPath = \"D:\\\\KR\\\\PostgameData\\\\CleanedEmeraldPostMatchDataJsonsKorea\"\n",
    "outputDirectory = \"D:\\\\KR\\\\PostgameData\"\n",
    "processAndSaveGameData(directoryPath, \"Utility\", \"Emerald\", outputDirectory)"
   ]
  },
  {
   "cell_type": "markdown",
   "id": "e9f76370",
   "metadata": {},
   "source": [
    "_______________________________________________________________________________________________________________________________"
   ]
  },
  {
   "cell_type": "code",
   "execution_count": 45,
   "id": "c269b00f",
   "metadata": {},
   "outputs": [
    {
     "name": "stdout",
     "output_type": "stream",
     "text": [
      "Data for Diamond rank and Top position saved to D:\\KR\\PostgameData\\DiamondTopData.csv\n"
     ]
    }
   ],
   "source": [
    "directoryPath = \"D:\\\\KR\\\\PostgameData\\\\CleanedDiamondPostMatchDataJsonsKorea\"\n",
    "outputDirectory = \"D:\\\\KR\\\\PostgameData\"\n",
    "processAndSaveGameData(directoryPath, \"Top\", \"Diamond\", outputDirectory)"
   ]
  },
  {
   "cell_type": "code",
   "execution_count": 46,
   "id": "b6ab4cba",
   "metadata": {},
   "outputs": [
    {
     "name": "stdout",
     "output_type": "stream",
     "text": [
      "Data for Diamond rank and Jungle position saved to D:\\KR\\PostgameData\\DiamondJungleData.csv\n"
     ]
    }
   ],
   "source": [
    "directoryPath = \"D:\\\\KR\\\\PostgameData\\\\CleanedDiamondPostMatchDataJsonsKorea\"\n",
    "outputDirectory = \"D:\\\\KR\\\\PostgameData\"\n",
    "processAndSaveGameData(directoryPath, \"Jungle\", \"Diamond\", outputDirectory)"
   ]
  },
  {
   "cell_type": "code",
   "execution_count": 47,
   "id": "01fcfb7f",
   "metadata": {},
   "outputs": [
    {
     "name": "stdout",
     "output_type": "stream",
     "text": [
      "Data for Diamond rank and Middle position saved to D:\\KR\\PostgameData\\DiamondMiddleData.csv\n"
     ]
    }
   ],
   "source": [
    "directoryPath = \"D:\\\\KR\\\\PostgameData\\\\CleanedDiamondPostMatchDataJsonsKorea\"\n",
    "outputDirectory = \"D:\\\\KR\\\\PostgameData\"\n",
    "processAndSaveGameData(directoryPath, \"Middle\", \"Diamond\", outputDirectory)"
   ]
  },
  {
   "cell_type": "code",
   "execution_count": 48,
   "id": "c807d3ba",
   "metadata": {},
   "outputs": [
    {
     "name": "stdout",
     "output_type": "stream",
     "text": [
      "Data for Diamond rank and Bottom position saved to D:\\KR\\PostgameData\\DiamondBottomData.csv\n"
     ]
    }
   ],
   "source": [
    "directoryPath = \"D:\\\\KR\\\\PostgameData\\\\CleanedDiamondPostMatchDataJsonsKorea\"\n",
    "outputDirectory = \"D:\\\\KR\\\\PostgameData\"\n",
    "processAndSaveGameData(directoryPath, \"Bottom\", \"Diamond\", outputDirectory)"
   ]
  },
  {
   "cell_type": "code",
   "execution_count": 49,
   "id": "d2b50cf7",
   "metadata": {},
   "outputs": [
    {
     "name": "stdout",
     "output_type": "stream",
     "text": [
      "Data for Diamond rank and Utility position saved to D:\\KR\\PostgameData\\DiamondUtilityData.csv\n"
     ]
    }
   ],
   "source": [
    "directoryPath = \"D:\\\\KR\\\\PostgameData\\\\CleanedDiamondPostMatchDataJsonsKorea\"\n",
    "outputDirectory = \"D:\\\\KR\\\\PostgameData\"\n",
    "processAndSaveGameData(directoryPath, \"Utility\", \"Diamond\", outputDirectory)"
   ]
  },
  {
   "cell_type": "markdown",
   "id": "ae5c8634",
   "metadata": {
    "scrolled": true
   },
   "source": [
    "_______________________________________________________________________________________________________________________________"
   ]
  },
  {
   "cell_type": "code",
   "execution_count": 50,
   "id": "7444ea32",
   "metadata": {},
   "outputs": [
    {
     "name": "stdout",
     "output_type": "stream",
     "text": [
      "Data for Iron rank and top position saved to D:\\EUW\\PostgameData\\IronTopData.csv\n"
     ]
    }
   ],
   "source": [
    "directoryPath = \"D:\\\\EUW\\\\PostgameData\\\\CleanedIronPostMatchDataJsons\"\n",
    "outputDirectory = \"D:\\\\EUW\\\\PostgameData\"\n",
    "processAndSaveGameData(directoryPath, \"top\", \"Iron\", outputDirectory)"
   ]
  },
  {
   "cell_type": "code",
   "execution_count": 51,
   "id": "553ec68e",
   "metadata": {},
   "outputs": [
    {
     "name": "stdout",
     "output_type": "stream",
     "text": [
      "Data for Iron rank and Jungle position saved to D:\\EUW\\PostgameData\\IronJungleData.csv\n"
     ]
    }
   ],
   "source": [
    "directoryPath = \"D:\\\\EUW\\\\PostgameData\\\\CleanedIronPostMatchDataJsons\"\n",
    "outputDirectory = \"D:\\\\EUW\\\\PostgameData\"\n",
    "processAndSaveGameData(directoryPath, \"Jungle\", \"Iron\", outputDirectory)"
   ]
  },
  {
   "cell_type": "code",
   "execution_count": 52,
   "id": "5537de6c",
   "metadata": {},
   "outputs": [
    {
     "name": "stdout",
     "output_type": "stream",
     "text": [
      "Data for Iron rank and Middle position saved to D:\\EUW\\PostgameData\\IronMiddleData.csv\n"
     ]
    }
   ],
   "source": [
    "directoryPath = \"D:\\\\EUW\\\\PostgameData\\\\CleanedIronPostMatchDataJsons\"\n",
    "outputDirectory = \"D:\\\\EUW\\\\PostgameData\"\n",
    "processAndSaveGameData(directoryPath, \"Middle\", \"Iron\", outputDirectory)"
   ]
  },
  {
   "cell_type": "code",
   "execution_count": 53,
   "id": "6dd6fc72",
   "metadata": {},
   "outputs": [
    {
     "name": "stdout",
     "output_type": "stream",
     "text": [
      "Data for Iron rank and Bottom position saved to D:\\EUW\\PostgameData\\IronBottomData.csv\n"
     ]
    }
   ],
   "source": [
    "directoryPath = \"D:\\\\EUW\\\\PostgameData\\\\CleanedIronPostMatchDataJsons\"\n",
    "outputDirectory = \"D:\\\\EUW\\\\PostgameData\"\n",
    "processAndSaveGameData(directoryPath, \"Bottom\", \"Iron\", outputDirectory)"
   ]
  },
  {
   "cell_type": "code",
   "execution_count": 54,
   "id": "13e43e21",
   "metadata": {},
   "outputs": [
    {
     "name": "stdout",
     "output_type": "stream",
     "text": [
      "Data for Iron rank and Utility position saved to D:\\EUW\\PostgameData\\IronUtilityData.csv\n"
     ]
    }
   ],
   "source": [
    "directoryPath = \"D:\\\\EUW\\\\PostgameData\\\\CleanedIronPostMatchDataJsons\"\n",
    "outputDirectory = \"D:\\\\EUW\\\\PostgameData\"\n",
    "processAndSaveGameData(directoryPath, \"Utility\", \"Iron\", outputDirectory)"
   ]
  },
  {
   "cell_type": "markdown",
   "id": "5801797c",
   "metadata": {},
   "source": [
    "_______________________________________________________________________________________________________________________________"
   ]
  },
  {
   "cell_type": "code",
   "execution_count": 55,
   "id": "65513927",
   "metadata": {},
   "outputs": [
    {
     "name": "stdout",
     "output_type": "stream",
     "text": [
      "Data for Bronze rank and top position saved to D:\\EUW\\PostgameData\\BronzeTopData.csv\n"
     ]
    }
   ],
   "source": [
    "directoryPath = \"D:\\\\EUW\\\\PostgameData\\\\CleanedBronzePostMatchDataJsons\"\n",
    "outputDirectory = \"D:\\\\EUW\\\\PostgameData\"\n",
    "processAndSaveGameData(directoryPath, \"top\", \"Bronze\", outputDirectory)"
   ]
  },
  {
   "cell_type": "code",
   "execution_count": 56,
   "id": "2df079c6",
   "metadata": {},
   "outputs": [
    {
     "name": "stdout",
     "output_type": "stream",
     "text": [
      "Data for Bronze rank and Jungle position saved to D:\\EUW\\PostgameData\\BronzeJungleData.csv\n"
     ]
    }
   ],
   "source": [
    "directoryPath = \"D:\\\\EUW\\\\PostgameData\\\\CleanedBronzePostMatchDataJsons\"\n",
    "outputDirectory = \"D:\\\\EUW\\\\PostgameData\"\n",
    "processAndSaveGameData(directoryPath, \"Jungle\", \"Bronze\", outputDirectory)"
   ]
  },
  {
   "cell_type": "code",
   "execution_count": 57,
   "id": "530e312d",
   "metadata": {},
   "outputs": [
    {
     "name": "stdout",
     "output_type": "stream",
     "text": [
      "Data for Bronze rank and Middle position saved to D:\\EUW\\PostgameData\\BronzeMiddleData.csv\n"
     ]
    }
   ],
   "source": [
    "directoryPath = \"D:\\\\EUW\\\\PostgameData\\\\CleanedBronzePostMatchDataJsons\"\n",
    "outputDirectory = \"D:\\\\EUW\\\\PostgameData\"\n",
    "processAndSaveGameData(directoryPath, \"Middle\", \"Bronze\", outputDirectory)"
   ]
  },
  {
   "cell_type": "code",
   "execution_count": 58,
   "id": "b95512e5",
   "metadata": {},
   "outputs": [
    {
     "name": "stdout",
     "output_type": "stream",
     "text": [
      "Data for Bronze rank and Bottom position saved to D:\\EUW\\PostgameData\\BronzeBottomData.csv\n"
     ]
    }
   ],
   "source": [
    "directoryPath = \"D:\\\\EUW\\\\PostgameData\\\\CleanedBronzePostMatchDataJsons\"\n",
    "outputDirectory = \"D:\\\\EUW\\\\PostgameData\"\n",
    "processAndSaveGameData(directoryPath, \"Bottom\", \"Bronze\", outputDirectory)"
   ]
  },
  {
   "cell_type": "code",
   "execution_count": 59,
   "id": "43c39a85",
   "metadata": {},
   "outputs": [
    {
     "name": "stdout",
     "output_type": "stream",
     "text": [
      "Data for Bronze rank and Utility position saved to D:\\EUW\\PostgameData\\BronzeUtilityData.csv\n"
     ]
    }
   ],
   "source": [
    "directoryPath = \"D:\\\\EUW\\\\PostgameData\\\\CleanedBronzePostMatchDataJsons\"\n",
    "outputDirectory = \"D:\\\\EUW\\\\PostgameData\"\n",
    "processAndSaveGameData(directoryPath, \"Utility\", \"Bronze\", outputDirectory)"
   ]
  },
  {
   "cell_type": "markdown",
   "id": "523e0f25",
   "metadata": {},
   "source": [
    "_______________________________________________________________________________________________________________________________"
   ]
  },
  {
   "cell_type": "code",
   "execution_count": 60,
   "id": "4f81ca68",
   "metadata": {},
   "outputs": [
    {
     "name": "stdout",
     "output_type": "stream",
     "text": [
      "Data for Silver rank and top position saved to D:\\EUW\\PostgameData\\SilverTopData.csv\n"
     ]
    }
   ],
   "source": [
    "directoryPath = \"D:\\\\EUW\\\\PostgameData\\\\CleanedSilverPostMatchDataJsons\"\n",
    "outputDirectory = \"D:\\\\EUW\\\\PostgameData\"\n",
    "processAndSaveGameData(directoryPath, \"top\", \"Silver\", outputDirectory)"
   ]
  },
  {
   "cell_type": "code",
   "execution_count": 61,
   "id": "04be519f",
   "metadata": {},
   "outputs": [
    {
     "name": "stdout",
     "output_type": "stream",
     "text": [
      "Data for Silver rank and Jungle position saved to D:\\EUW\\PostgameData\\SilverJungleData.csv\n"
     ]
    }
   ],
   "source": [
    "directoryPath = \"D:\\\\EUW\\\\PostgameData\\\\CleanedSilverPostMatchDataJsons\"\n",
    "outputDirectory = \"D:\\\\EUW\\\\PostgameData\"\n",
    "processAndSaveGameData(directoryPath, \"Jungle\", \"Silver\", outputDirectory)"
   ]
  },
  {
   "cell_type": "code",
   "execution_count": 62,
   "id": "74639f0e",
   "metadata": {},
   "outputs": [
    {
     "name": "stdout",
     "output_type": "stream",
     "text": [
      "Data for Silver rank and Middle position saved to D:\\EUW\\PostgameData\\SilverMiddleData.csv\n"
     ]
    }
   ],
   "source": [
    "directoryPath = \"D:\\\\EUW\\\\PostgameData\\\\CleanedSilverPostMatchDataJsons\"\n",
    "outputDirectory = \"D:\\\\EUW\\\\PostgameData\"\n",
    "processAndSaveGameData(directoryPath, \"Middle\", \"Silver\", outputDirectory)"
   ]
  },
  {
   "cell_type": "code",
   "execution_count": 63,
   "id": "134d5378",
   "metadata": {},
   "outputs": [
    {
     "name": "stdout",
     "output_type": "stream",
     "text": [
      "Data for Silver rank and Bottom position saved to D:\\EUW\\PostgameData\\SilverBottomData.csv\n"
     ]
    }
   ],
   "source": [
    "directoryPath = \"D:\\\\EUW\\\\PostgameData\\\\CleanedSilverPostMatchDataJsons\"\n",
    "outputDirectory = \"D:\\\\EUW\\\\PostgameData\"\n",
    "processAndSaveGameData(directoryPath, \"Bottom\", \"Silver\", outputDirectory)"
   ]
  },
  {
   "cell_type": "code",
   "execution_count": 64,
   "id": "f4b6f3b5",
   "metadata": {},
   "outputs": [
    {
     "name": "stdout",
     "output_type": "stream",
     "text": [
      "Data for Silver rank and Utility position saved to D:\\EUW\\PostgameData\\SilverUtilityData.csv\n"
     ]
    }
   ],
   "source": [
    "directoryPath = \"D:\\\\EUW\\\\PostgameData\\\\CleanedSilverPostMatchDataJsons\"\n",
    "outputDirectory = \"D:\\\\EUW\\\\PostgameData\"\n",
    "processAndSaveGameData(directoryPath, \"Utility\", \"Silver\", outputDirectory)"
   ]
  },
  {
   "cell_type": "markdown",
   "id": "b2935ddb",
   "metadata": {},
   "source": [
    "_______________________________________________________________________________________________________________________________"
   ]
  },
  {
   "cell_type": "code",
   "execution_count": 65,
   "id": "620915b6",
   "metadata": {},
   "outputs": [
    {
     "name": "stdout",
     "output_type": "stream",
     "text": [
      "Data for gold rank and top position saved to D:\\EUW\\PostgameData\\goldTopData.csv\n"
     ]
    }
   ],
   "source": [
    "directoryPath = \"D:\\\\EUW\\\\PostgameData\\\\CleanedGoldPostMatchDataJsons\"\n",
    "outputDirectory = \"D:\\\\EUW\\\\PostgameData\"\n",
    "processAndSaveGameData(directoryPath, \"top\", \"gold\", outputDirectory)"
   ]
  },
  {
   "cell_type": "code",
   "execution_count": 66,
   "id": "0f0c91f7",
   "metadata": {},
   "outputs": [
    {
     "name": "stdout",
     "output_type": "stream",
     "text": [
      "Data for gold rank and Jungle position saved to D:\\EUW\\PostgameData\\goldJungleData.csv\n"
     ]
    }
   ],
   "source": [
    "directoryPath = \"D:\\\\EUW\\\\PostgameData\\\\CleanedGoldPostMatchDataJsons\"\n",
    "outputDirectory = \"D:\\\\EUW\\\\PostgameData\"\n",
    "processAndSaveGameData(directoryPath, \"Jungle\", \"gold\", outputDirectory)"
   ]
  },
  {
   "cell_type": "code",
   "execution_count": 67,
   "id": "43674e5b",
   "metadata": {},
   "outputs": [
    {
     "name": "stdout",
     "output_type": "stream",
     "text": [
      "Data for gold rank and Middle position saved to D:\\EUW\\PostgameData\\goldMiddleData.csv\n"
     ]
    }
   ],
   "source": [
    "directoryPath = \"D:\\\\EUW\\\\PostgameData\\\\CleanedGoldPostMatchDataJsons\"\n",
    "outputDirectory = \"D:\\\\EUW\\\\PostgameData\"\n",
    "processAndSaveGameData(directoryPath, \"Middle\", \"gold\", outputDirectory)"
   ]
  },
  {
   "cell_type": "code",
   "execution_count": 68,
   "id": "cfd7688c",
   "metadata": {},
   "outputs": [
    {
     "name": "stdout",
     "output_type": "stream",
     "text": [
      "Data for gold rank and Bottom position saved to D:\\EUW\\PostgameData\\goldBottomData.csv\n"
     ]
    }
   ],
   "source": [
    "directoryPath = \"D:\\\\EUW\\\\PostgameData\\\\CleanedGoldPostMatchDataJsons\"\n",
    "outputDirectory = \"D:\\\\EUW\\\\PostgameData\"\n",
    "processAndSaveGameData(directoryPath, \"Bottom\", \"gold\", outputDirectory)"
   ]
  },
  {
   "cell_type": "code",
   "execution_count": 69,
   "id": "590ad424",
   "metadata": {},
   "outputs": [
    {
     "name": "stdout",
     "output_type": "stream",
     "text": [
      "Data for gold rank and Utility position saved to D:\\EUW\\PostgameData\\goldUtilityData.csv\n"
     ]
    }
   ],
   "source": [
    "directoryPath = \"D:\\\\EUW\\\\PostgameData\\\\CleanedGoldPostMatchDataJsons\"\n",
    "outputDirectory = \"D:\\\\EUW\\\\PostgameData\"\n",
    "processAndSaveGameData(directoryPath, \"Utility\", \"gold\", outputDirectory)"
   ]
  },
  {
   "cell_type": "markdown",
   "id": "48a585c6",
   "metadata": {},
   "source": [
    "_______________________________________________________________________________________________________________________________"
   ]
  },
  {
   "cell_type": "code",
   "execution_count": 70,
   "id": "771f7a62",
   "metadata": {},
   "outputs": [
    {
     "name": "stdout",
     "output_type": "stream",
     "text": [
      "Data for Platinum rank and top position saved to D:\\EUW\\PostgameData\\PlatinumTopData.csv\n"
     ]
    }
   ],
   "source": [
    "directoryPath = \"D:\\\\EUW\\\\PostgameData\\\\CleanedPlatinumPostMatchDataJsons\"\n",
    "outputDirectory = \"D:\\\\EUW\\\\PostgameData\"\n",
    "processAndSaveGameData(directoryPath, \"top\", \"Platinum\", outputDirectory)"
   ]
  },
  {
   "cell_type": "code",
   "execution_count": 71,
   "id": "e2f85ec3",
   "metadata": {},
   "outputs": [
    {
     "name": "stdout",
     "output_type": "stream",
     "text": [
      "Data for Platinum rank and Jungle position saved to D:\\EUW\\PostgameData\\PlatinumJungleData.csv\n"
     ]
    }
   ],
   "source": [
    "directoryPath = \"D:\\\\EUW\\\\PostgameData\\\\CleanedPlatinumPostMatchDataJsons\"\n",
    "outputDirectory = \"D:\\\\EUW\\\\PostgameData\"\n",
    "processAndSaveGameData(directoryPath, \"Jungle\", \"Platinum\", outputDirectory)"
   ]
  },
  {
   "cell_type": "code",
   "execution_count": 72,
   "id": "3519f1c0",
   "metadata": {},
   "outputs": [
    {
     "name": "stdout",
     "output_type": "stream",
     "text": [
      "Data for Platinum rank and Middle position saved to D:\\EUW\\PostgameData\\PlatinumMiddleData.csv\n"
     ]
    }
   ],
   "source": [
    "directoryPath = \"D:\\\\EUW\\\\PostgameData\\\\CleanedPlatinumPostMatchDataJsons\"\n",
    "outputDirectory = \"D:\\\\EUW\\\\PostgameData\"\n",
    "processAndSaveGameData(directoryPath, \"Middle\", \"Platinum\", outputDirectory)"
   ]
  },
  {
   "cell_type": "code",
   "execution_count": 73,
   "id": "a0d747fe",
   "metadata": {},
   "outputs": [
    {
     "name": "stdout",
     "output_type": "stream",
     "text": [
      "Data for Platinum rank and Bottom position saved to D:\\EUW\\PostgameData\\PlatinumBottomData.csv\n"
     ]
    }
   ],
   "source": [
    "directoryPath = \"D:\\\\EUW\\\\PostgameData\\\\CleanedPlatinumPostMatchDataJsons\"\n",
    "outputDirectory = \"D:\\\\EUW\\\\PostgameData\"\n",
    "processAndSaveGameData(directoryPath, \"Bottom\", \"Platinum\", outputDirectory)"
   ]
  },
  {
   "cell_type": "code",
   "execution_count": 74,
   "id": "eec0035e",
   "metadata": {},
   "outputs": [
    {
     "name": "stdout",
     "output_type": "stream",
     "text": [
      "Data for Platinum rank and Utility position saved to D:\\EUW\\PostgameData\\PlatinumUtilityData.csv\n"
     ]
    }
   ],
   "source": [
    "directoryPath = \"D:\\\\EUW\\\\PostgameData\\\\CleanedPlatinumPostMatchDataJsons\"\n",
    "outputDirectory = \"D:\\\\EUW\\\\PostgameData\"\n",
    "processAndSaveGameData(directoryPath, \"Utility\", \"Platinum\", outputDirectory)"
   ]
  },
  {
   "cell_type": "markdown",
   "id": "9d8d2430",
   "metadata": {},
   "source": [
    "_______________________________________________________________________________________________________________________________"
   ]
  },
  {
   "cell_type": "code",
   "execution_count": 75,
   "id": "9e0548c3",
   "metadata": {},
   "outputs": [
    {
     "name": "stdout",
     "output_type": "stream",
     "text": [
      "Data for Emerald rank and top position saved to D:\\EUW\\PostgameData\\EmeraldTopData.csv\n"
     ]
    }
   ],
   "source": [
    "directoryPath = \"D:\\\\EUW\\\\PostgameData\\\\CleanedEmeraldPostMatchDataJsons\"\n",
    "outputDirectory = \"D:\\\\EUW\\\\PostgameData\"\n",
    "processAndSaveGameData(directoryPath, \"top\", \"Emerald\", outputDirectory)"
   ]
  },
  {
   "cell_type": "code",
   "execution_count": 76,
   "id": "c7f1e1e8",
   "metadata": {},
   "outputs": [
    {
     "name": "stdout",
     "output_type": "stream",
     "text": [
      "Data for Emerald rank and Jungle position saved to D:\\EUW\\PostgameData\\EmeraldJungleData.csv\n"
     ]
    }
   ],
   "source": [
    "directoryPath = \"D:\\\\EUW\\\\PostgameData\\\\CleanedEmeraldPostMatchDataJsons\"\n",
    "outputDirectory = \"D:\\\\EUW\\\\PostgameData\"\n",
    "processAndSaveGameData(directoryPath, \"Jungle\", \"Emerald\", outputDirectory)"
   ]
  },
  {
   "cell_type": "code",
   "execution_count": 77,
   "id": "4842a1b0",
   "metadata": {},
   "outputs": [
    {
     "name": "stdout",
     "output_type": "stream",
     "text": [
      "Data for Emerald rank and Middle position saved to D:\\EUW\\PostgameData\\EmeraldMiddleData.csv\n"
     ]
    }
   ],
   "source": [
    "directoryPath = \"D:\\\\EUW\\\\PostgameData\\\\CleanedEmeraldPostMatchDataJsons\"\n",
    "outputDirectory = \"D:\\\\EUW\\\\PostgameData\"\n",
    "processAndSaveGameData(directoryPath, \"Middle\", \"Emerald\", outputDirectory)"
   ]
  },
  {
   "cell_type": "code",
   "execution_count": 78,
   "id": "2bfb4eb3",
   "metadata": {},
   "outputs": [
    {
     "name": "stdout",
     "output_type": "stream",
     "text": [
      "Data for Emerald rank and Bottom position saved to D:\\EUW\\PostgameData\\EmeraldBottomData.csv\n"
     ]
    }
   ],
   "source": [
    "directoryPath = \"D:\\\\EUW\\\\PostgameData\\\\CleanedEmeraldPostMatchDataJsons\"\n",
    "outputDirectory = \"D:\\\\EUW\\\\PostgameData\"\n",
    "processAndSaveGameData(directoryPath, \"Bottom\", \"Emerald\", outputDirectory)"
   ]
  },
  {
   "cell_type": "code",
   "execution_count": 79,
   "id": "812c3e0a",
   "metadata": {},
   "outputs": [
    {
     "name": "stdout",
     "output_type": "stream",
     "text": [
      "Data for Emerald rank and Utility position saved to D:\\EUW\\PostgameData\\EmeraldUtilityData.csv\n"
     ]
    }
   ],
   "source": [
    "directoryPath = \"D:\\\\EUW\\\\PostgameData\\\\CleanedEmeraldPostMatchDataJsons\"\n",
    "outputDirectory = \"D:\\\\EUW\\\\PostgameData\"\n",
    "processAndSaveGameData(directoryPath, \"Utility\", \"Emerald\", outputDirectory)"
   ]
  },
  {
   "cell_type": "markdown",
   "id": "5e17d0a4",
   "metadata": {},
   "source": [
    "_______________________________________________________________________________________________________________________________"
   ]
  },
  {
   "cell_type": "code",
   "execution_count": 80,
   "id": "336d26c1",
   "metadata": {},
   "outputs": [
    {
     "name": "stdout",
     "output_type": "stream",
     "text": [
      "Data for Diamond rank and Top position saved to D:\\EUW\\PostgameData\\DiamondTopData.csv\n"
     ]
    }
   ],
   "source": [
    "directoryPath = \"D:\\\\EUW\\\\PostgameData\\\\CleanedDiamondPostMatchDataJsons\"\n",
    "outputDirectory = \"D:\\\\EUW\\\\PostgameData\"\n",
    "processAndSaveGameData(directoryPath, \"Top\", \"Diamond\", outputDirectory)"
   ]
  },
  {
   "cell_type": "code",
   "execution_count": 81,
   "id": "b6e25cca",
   "metadata": {},
   "outputs": [
    {
     "name": "stdout",
     "output_type": "stream",
     "text": [
      "Data for Diamond rank and Jungle position saved to D:\\EUW\\PostgameData\\DiamondJungleData.csv\n"
     ]
    }
   ],
   "source": [
    "directoryPath = \"D:\\\\EUW\\\\PostgameData\\\\CleanedDiamondPostMatchDataJsons\"\n",
    "outputDirectory = \"D:\\\\EUW\\\\PostgameData\"\n",
    "processAndSaveGameData(directoryPath, \"Jungle\", \"Diamond\", outputDirectory)"
   ]
  },
  {
   "cell_type": "code",
   "execution_count": 82,
   "id": "9e1cf469",
   "metadata": {},
   "outputs": [
    {
     "name": "stdout",
     "output_type": "stream",
     "text": [
      "Data for Diamond rank and Middle position saved to D:\\EUW\\PostgameData\\DiamondMiddleData.csv\n"
     ]
    }
   ],
   "source": [
    "directoryPath = \"D:\\\\EUW\\\\PostgameData\\\\CleanedDiamondPostMatchDataJsons\"\n",
    "outputDirectory = \"D:\\\\EUW\\\\PostgameData\"\n",
    "processAndSaveGameData(directoryPath, \"Middle\", \"Diamond\", outputDirectory)"
   ]
  },
  {
   "cell_type": "code",
   "execution_count": 83,
   "id": "8df2b2c6",
   "metadata": {},
   "outputs": [
    {
     "name": "stdout",
     "output_type": "stream",
     "text": [
      "Data for Diamond rank and Bottom position saved to D:\\EUW\\PostgameData\\DiamondBottomData.csv\n"
     ]
    }
   ],
   "source": [
    "directoryPath = \"D:\\\\EUW\\\\PostgameData\\\\CleanedDiamondPostMatchDataJsons\"\n",
    "outputDirectory = \"D:\\\\EUW\\\\PostgameData\"\n",
    "processAndSaveGameData(directoryPath, \"Bottom\", \"Diamond\", outputDirectory)"
   ]
  },
  {
   "cell_type": "code",
   "execution_count": 84,
   "id": "caacaa61",
   "metadata": {},
   "outputs": [
    {
     "name": "stdout",
     "output_type": "stream",
     "text": [
      "Data for Diamond rank and Utility position saved to D:\\EUW\\PostgameData\\DiamondUtilityData.csv\n"
     ]
    }
   ],
   "source": [
    "directoryPath = \"D:\\\\EUW\\\\PostgameData\\\\CleanedDiamondPostMatchDataJsons\"\n",
    "outputDirectory = \"D:\\\\EUW\\\\PostgameData\"\n",
    "processAndSaveGameData(directoryPath, \"Utility\", \"Diamond\", outputDirectory)"
   ]
  },
  {
   "cell_type": "code",
   "execution_count": null,
   "id": "31a5c368",
   "metadata": {},
   "outputs": [],
   "source": []
  }
 ],
 "metadata": {
  "kernelspec": {
   "display_name": "Python 3 (ipykernel)",
   "language": "python",
   "name": "python3"
  },
  "language_info": {
   "codemirror_mode": {
    "name": "ipython",
    "version": 3
   },
   "file_extension": ".py",
   "mimetype": "text/x-python",
   "name": "python",
   "nbconvert_exporter": "python",
   "pygments_lexer": "ipython3",
   "version": "3.11.5"
  }
 },
 "nbformat": 4,
 "nbformat_minor": 5
}
